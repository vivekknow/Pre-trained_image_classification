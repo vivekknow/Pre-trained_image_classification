{
  "nbformat": 4,
  "nbformat_minor": 0,
  "metadata": {
    "kernelspec": {
      "display_name": "Python 3",
      "language": "python",
      "name": "python3"
    },
    "language_info": {
      "codemirror_mode": {
        "name": "ipython",
        "version": 3
      },
      "file_extension": ".py",
      "mimetype": "text/x-python",
      "name": "python",
      "nbconvert_exporter": "python",
      "pygments_lexer": "ipython3",
      "version": "3.6.1"
    },
    "colab": {
      "name": "TF_ver3.ipynb",
      "provenance": []
    }
  },
  "cells": [
    {
      "cell_type": "code",
      "metadata": {
        "id": "EhpdyUFqDF1q",
        "colab_type": "code",
        "colab": {}
      },
      "source": [
        "import scipy as sp\n",
        "import numpy as np\n",
        "import pandas as pd\n",
        "from numpy.random import rand\n",
        "pd.options.display.max_colwidth = 600\n",
        "\n",
        "# Scikit Imports\n",
        "from sklearn import preprocessing\n",
        "from sklearn.metrics import roc_curve, auc, precision_recall_curve\n",
        "from sklearn.model_selection import train_test_split\n",
        "\n",
        "# import cnn_utils as utils\n",
        "# from model_evaluation_utils import get_metrics\n",
        "\n",
        "# Matplot Imports\n",
        "import matplotlib.pyplot as plt\n",
        "params = {'legend.fontsize': 'x-large',\n",
        "          'figure.figsize': (15, 5),\n",
        "          'axes.labelsize': 'x-large',\n",
        "          'axes.titlesize':'x-large',\n",
        "          'xtick.labelsize':'x-large',\n",
        "          'ytick.labelsize':'x-large'}\n",
        "\n",
        "plt.rcParams.update(params)\n",
        "%matplotlib inline\n",
        "\n",
        "# pandas display data frames as tables\n",
        "from IPython.display import display, HTML\n",
        "\n",
        "import warnings\n",
        "warnings.filterwarnings('ignore')"
      ],
      "execution_count": 33,
      "outputs": []
    },
    {
      "cell_type": "code",
      "metadata": {
        "id": "0JEK9DxGDF18",
        "colab_type": "code",
        "colab": {
          "base_uri": "https://localhost:8080/",
          "height": 35
        },
        "outputId": "286b4955-a9d5-4408-fdf1-9042c96d5830"
      },
      "source": [
        "sp.__version__"
      ],
      "execution_count": 34,
      "outputs": [
        {
          "output_type": "execute_result",
          "data": {
            "application/vnd.google.colaboratory.intrinsic+json": {
              "type": "string"
            },
            "text/plain": [
              "'1.4.1'"
            ]
          },
          "metadata": {
            "tags": []
          },
          "execution_count": 34
        }
      ]
    },
    {
      "cell_type": "code",
      "metadata": {
        "id": "_sxxVbgzDF2G",
        "colab_type": "code",
        "colab": {}
      },
      "source": [
        "import tensorflow as tf\n",
        "from tensorflow.keras import callbacks\n",
        "from tensorflow.keras import optimizers\n",
        "from tensorflow.keras.datasets import cifar10\n",
        "from tensorflow.keras import Model\n",
        "from tensorflow.keras.applications import vgg16 as vgg\n",
        "from tensorflow.keras.layers import Dropout, Flatten, Dense, GlobalAveragePooling2D,BatchNormalization\n",
        "from tensorflow.keras.preprocessing.image import ImageDataGenerator\n",
        "#from tensorflow.keras.utils \n",
        "import np_utils"
      ],
      "execution_count": 35,
      "outputs": []
    },
    {
      "cell_type": "code",
      "metadata": {
        "id": "6GOv-CeYDF2Q",
        "colab_type": "code",
        "colab": {}
      },
      "source": [
        "# import tensorflow as tf\n",
        "from tensorflow.keras.utils import to_categorical"
      ],
      "execution_count": 36,
      "outputs": []
    },
    {
      "cell_type": "code",
      "metadata": {
        "id": "kAqQkfLqDF2X",
        "colab_type": "code",
        "colab": {}
      },
      "source": [
        "BATCH_SIZE = 32\n",
        "EPOCHS = 20\n",
        "NUM_CLASSES = 10\n",
        "LEARNING_RATE = 1e-4\n",
        "MOMENTUM = 0.9"
      ],
      "execution_count": 38,
      "outputs": []
    },
    {
      "cell_type": "code",
      "metadata": {
        "id": "z8k0W4PYDF2k",
        "colab_type": "code",
        "colab": {}
      },
      "source": [
        "(X_train, y_train), (X_test, y_test) = cifar10.load_data()"
      ],
      "execution_count": 39,
      "outputs": []
    },
    {
      "cell_type": "code",
      "metadata": {
        "id": "LbDvk9bBDF2t",
        "colab_type": "code",
        "colab": {}
      },
      "source": [
        "X_train, X_val, y_train, y_val = train_test_split(X_train, \n",
        "                                                  y_train, \n",
        "                                                  test_size=0.15, \n",
        "                                                  stratify=np.array(y_train), \n",
        "                                                  random_state=42)"
      ],
      "execution_count": 40,
      "outputs": []
    },
    {
      "cell_type": "code",
      "metadata": {
        "id": "g5xFwyEqDF22",
        "colab_type": "code",
        "colab": {}
      },
      "source": [
        "\n",
        "Y_train = to_categorical(y_train, NUM_CLASSES)\n",
        "Y_val = to_categorical(y_val, NUM_CLASSES)\n",
        "Y_test = to_categorical(y_test, NUM_CLASSES)"
      ],
      "execution_count": 41,
      "outputs": []
    },
    {
      "cell_type": "code",
      "metadata": {
        "id": "yZULQBvNDF3A",
        "colab_type": "code",
        "colab": {}
      },
      "source": [
        "import cv2\n",
        "\n",
        "\n",
        "X_train = np.array([cv2.resize(x, (48, 48)) for x in X_train])\n",
        "X_val = np.array([cv2.resize(x, (48, 48)) for x in X_val])\n",
        "X_test = np.array([cv2.resize(x, (48, 48)) for x in X_test])\n",
        "\n",
        "\n",
        "# height = 256\n",
        "# width  = 256\n",
        "# ...\n",
        "# img_array = cv2.imread((train_dir+str(img_name)+\".png\"))\n",
        "# new_array = cv2.resize(img_array,(IMG_SIZE,IMG_SIZE),3)\n",
        "# img = ...\n",
        "# img = np.array(Image.fromarray(img).resize(height, width), PIL.Image.BILINEAR).astype(np.double)\n"
      ],
      "execution_count": 42,
      "outputs": []
    },
    {
      "cell_type": "markdown",
      "metadata": {
        "id": "_6jDo5bdDF3H",
        "colab_type": "text"
      },
      "source": [
        "### Prepare the Model\n",
        "Load VGG16 without the top classification layer\n",
        "\n",
        "Prepare a custom classifier\n",
        "\n",
        "Stack both models on top of each other"
      ]
    },
    {
      "cell_type": "code",
      "metadata": {
        "id": "Jzi8E9B_DF3J",
        "colab_type": "code",
        "colab": {}
      },
      "source": [
        "base_model = vgg.VGG16(weights='imagenet', \n",
        "                       include_top=False, \n",
        "                       input_shape=(48, 48, 3))"
      ],
      "execution_count": 43,
      "outputs": []
    },
    {
      "cell_type": "code",
      "metadata": {
        "id": "Rd0etkAnDF3Q",
        "colab_type": "code",
        "colab": {}
      },
      "source": [
        "last = base_model.get_layer('block3_pool').output"
      ],
      "execution_count": 44,
      "outputs": []
    },
    {
      "cell_type": "code",
      "metadata": {
        "id": "Fp3WmlvkDF3W",
        "colab_type": "code",
        "colab": {}
      },
      "source": [
        "# Add classification layers on top of it\n",
        "x = GlobalAveragePooling2D()(last)\n",
        "x= BatchNormalization()(x)\n",
        "x = Dense(256, activation='relu')(x)\n",
        "x = Dense(256, activation='relu')(x)\n",
        "x = Dropout(0.6)(x)\n",
        "pred = Dense(NUM_CLASSES, activation='softmax')(x)\n",
        "model = Model(base_model.input, pred)"
      ],
      "execution_count": 45,
      "outputs": []
    },
    {
      "cell_type": "markdown",
      "metadata": {
        "id": "eEMRSSoRDF3c",
        "colab_type": "text"
      },
      "source": [
        "Since our objective is to only train the custom classifier, we freeze the layers of VGG16"
      ]
    },
    {
      "cell_type": "code",
      "metadata": {
        "id": "H7kTIcfPDF3e",
        "colab_type": "code",
        "colab": {}
      },
      "source": [
        "for layer in base_model.layers:\n",
        "     layer.trainable = False"
      ],
      "execution_count": 46,
      "outputs": []
    },
    {
      "cell_type": "code",
      "metadata": {
        "id": "F7GFR2fDDF3i",
        "colab_type": "code",
        "colab": {}
      },
      "source": [
        "model.compile(loss='categorical_crossentropy',\n",
        "              optimizer=optimizers.Adam(lr=LEARNING_RATE),\n",
        "              metrics=['accuracy'])"
      ],
      "execution_count": 53,
      "outputs": []
    },
    {
      "cell_type": "code",
      "metadata": {
        "id": "fuLLZ_V0DF3l",
        "colab_type": "code",
        "colab": {
          "base_uri": "https://localhost:8080/",
          "height": 745
        },
        "outputId": "8cfe5752-ab8c-41e5-f9e4-338cf2080744"
      },
      "source": [
        "\n",
        "model.summary()"
      ],
      "execution_count": 54,
      "outputs": [
        {
          "output_type": "stream",
          "text": [
            "Model: \"model_2\"\n",
            "_________________________________________________________________\n",
            "Layer (type)                 Output Shape              Param #   \n",
            "=================================================================\n",
            "input_3 (InputLayer)         [(None, 48, 48, 3)]       0         \n",
            "_________________________________________________________________\n",
            "block1_conv1 (Conv2D)        (None, 48, 48, 64)        1792      \n",
            "_________________________________________________________________\n",
            "block1_conv2 (Conv2D)        (None, 48, 48, 64)        36928     \n",
            "_________________________________________________________________\n",
            "block1_pool (MaxPooling2D)   (None, 24, 24, 64)        0         \n",
            "_________________________________________________________________\n",
            "block2_conv1 (Conv2D)        (None, 24, 24, 128)       73856     \n",
            "_________________________________________________________________\n",
            "block2_conv2 (Conv2D)        (None, 24, 24, 128)       147584    \n",
            "_________________________________________________________________\n",
            "block2_pool (MaxPooling2D)   (None, 12, 12, 128)       0         \n",
            "_________________________________________________________________\n",
            "block3_conv1 (Conv2D)        (None, 12, 12, 256)       295168    \n",
            "_________________________________________________________________\n",
            "block3_conv2 (Conv2D)        (None, 12, 12, 256)       590080    \n",
            "_________________________________________________________________\n",
            "block3_conv3 (Conv2D)        (None, 12, 12, 256)       590080    \n",
            "_________________________________________________________________\n",
            "block3_pool (MaxPooling2D)   (None, 6, 6, 256)         0         \n",
            "_________________________________________________________________\n",
            "global_average_pooling2d_2 ( (None, 256)               0         \n",
            "_________________________________________________________________\n",
            "batch_normalization_2 (Batch (None, 256)               1024      \n",
            "_________________________________________________________________\n",
            "dense_6 (Dense)              (None, 256)               65792     \n",
            "_________________________________________________________________\n",
            "dense_7 (Dense)              (None, 256)               65792     \n",
            "_________________________________________________________________\n",
            "dropout_2 (Dropout)          (None, 256)               0         \n",
            "_________________________________________________________________\n",
            "dense_8 (Dense)              (None, 10)                2570      \n",
            "=================================================================\n",
            "Total params: 1,870,666\n",
            "Trainable params: 134,666\n",
            "Non-trainable params: 1,736,000\n",
            "_________________________________________________________________\n"
          ],
          "name": "stdout"
        }
      ]
    },
    {
      "cell_type": "markdown",
      "metadata": {
        "id": "_f7HauwbDF3n",
        "colab_type": "text"
      },
      "source": [
        "### Data Augmentation\n",
        "To help model generalize and overcome the limitations of a small dataset, we prepare augmented datasets using keras utilities"
      ]
    },
    {
      "cell_type": "code",
      "metadata": {
        "id": "ueBhNKvaDF3o",
        "colab_type": "code",
        "colab": {}
      },
      "source": [
        "train_datagen = ImageDataGenerator(\n",
        "    rescale=1. / 255,\n",
        "    horizontal_flip=False)"
      ],
      "execution_count": 55,
      "outputs": []
    },
    {
      "cell_type": "code",
      "metadata": {
        "id": "KaE-0yFUDF3q",
        "colab_type": "code",
        "colab": {}
      },
      "source": [
        "train_datagen.fit(X_train)\n",
        "train_generator = train_datagen.flow(X_train,\n",
        "                                     Y_train, \n",
        "                                     batch_size=BATCH_SIZE)"
      ],
      "execution_count": 56,
      "outputs": []
    },
    {
      "cell_type": "code",
      "metadata": {
        "id": "ImrJ07yzDF3t",
        "colab_type": "code",
        "colab": {}
      },
      "source": [
        "val_datagen = ImageDataGenerator(rescale=1. / 255,\n",
        "    horizontal_flip=False)\n",
        "\n",
        "val_datagen.fit(X_val)\n",
        "val_generator = val_datagen.flow(X_val,\n",
        "                                 Y_val,\n",
        "                                 batch_size=BATCH_SIZE)"
      ],
      "execution_count": 57,
      "outputs": []
    },
    {
      "cell_type": "markdown",
      "metadata": {
        "id": "dcBsHfS1DF3v",
        "colab_type": "text"
      },
      "source": [
        "Train the Model"
      ]
    },
    {
      "cell_type": "code",
      "metadata": {
        "id": "h0zTVb_NDF3v",
        "colab_type": "code",
        "colab": {
          "base_uri": "https://localhost:8080/",
          "height": 711
        },
        "outputId": "acb9c19f-2315-498b-eb7e-79ad93057b35"
      },
      "source": [
        "train_steps_per_epoch = X_train.shape[0] // BATCH_SIZE\n",
        "val_steps_per_epoch = X_val.shape[0] // BATCH_SIZE\n",
        "\n",
        "history = model.fit_generator(train_generator,\n",
        "                              steps_per_epoch=train_steps_per_epoch,\n",
        "                              validation_data=val_generator,\n",
        "                              validation_steps=val_steps_per_epoch,\n",
        "                              epochs=EPOCHS,\n",
        "                              verbose=1)"
      ],
      "execution_count": 58,
      "outputs": [
        {
          "output_type": "stream",
          "text": [
            "Epoch 1/20\n",
            "1328/1328 [==============================] - 724s 545ms/step - loss: 1.6859 - accuracy: 0.4072 - val_loss: 1.2037 - val_accuracy: 0.5881\n",
            "Epoch 2/20\n",
            "1328/1328 [==============================] - 727s 547ms/step - loss: 1.2738 - accuracy: 0.5609 - val_loss: 1.0345 - val_accuracy: 0.6436\n",
            "Epoch 3/20\n",
            "1328/1328 [==============================] - 724s 545ms/step - loss: 1.1339 - accuracy: 0.6076 - val_loss: 0.9511 - val_accuracy: 0.6721\n",
            "Epoch 4/20\n",
            "1328/1328 [==============================] - 723s 545ms/step - loss: 1.0478 - accuracy: 0.6371 - val_loss: 0.8943 - val_accuracy: 0.6875\n",
            "Epoch 5/20\n",
            "1328/1328 [==============================] - 724s 545ms/step - loss: 0.9944 - accuracy: 0.6569 - val_loss: 0.8569 - val_accuracy: 0.7002\n",
            "Epoch 6/20\n",
            "1328/1328 [==============================] - 723s 544ms/step - loss: 0.9514 - accuracy: 0.6687 - val_loss: 0.8324 - val_accuracy: 0.7121\n",
            "Epoch 7/20\n",
            "1328/1328 [==============================] - 724s 545ms/step - loss: 0.9182 - accuracy: 0.6823 - val_loss: 0.8089 - val_accuracy: 0.7182\n",
            "Epoch 8/20\n",
            "1328/1328 [==============================] - 725s 546ms/step - loss: 0.8900 - accuracy: 0.6917 - val_loss: 0.7885 - val_accuracy: 0.7233\n",
            "Epoch 9/20\n",
            "1328/1328 [==============================] - 725s 546ms/step - loss: 0.8670 - accuracy: 0.6997 - val_loss: 0.7739 - val_accuracy: 0.7300\n",
            "Epoch 10/20\n",
            "1328/1328 [==============================] - 724s 545ms/step - loss: 0.8461 - accuracy: 0.7057 - val_loss: 0.7623 - val_accuracy: 0.7329\n",
            "Epoch 11/20\n",
            "1328/1328 [==============================] - 726s 547ms/step - loss: 0.8257 - accuracy: 0.7164 - val_loss: 0.7501 - val_accuracy: 0.7364\n",
            "Epoch 12/20\n",
            "1328/1328 [==============================] - 726s 547ms/step - loss: 0.8137 - accuracy: 0.7198 - val_loss: 0.7452 - val_accuracy: 0.7348\n",
            "Epoch 13/20\n",
            "1328/1328 [==============================] - 725s 546ms/step - loss: 0.7943 - accuracy: 0.7250 - val_loss: 0.7341 - val_accuracy: 0.7404\n",
            "Epoch 14/20\n",
            "1328/1328 [==============================] - 724s 545ms/step - loss: 0.7799 - accuracy: 0.7308 - val_loss: 0.7308 - val_accuracy: 0.7400\n",
            "Epoch 15/20\n",
            "1328/1328 [==============================] - 724s 545ms/step - loss: 0.7670 - accuracy: 0.7343 - val_loss: 0.7254 - val_accuracy: 0.7392\n",
            "Epoch 16/20\n",
            "1328/1328 [==============================] - 725s 546ms/step - loss: 0.7597 - accuracy: 0.7362 - val_loss: 0.7199 - val_accuracy: 0.7444\n",
            "Epoch 17/20\n",
            "1328/1328 [==============================] - 729s 549ms/step - loss: 0.7493 - accuracy: 0.7414 - val_loss: 0.7153 - val_accuracy: 0.7453\n",
            "Epoch 18/20\n",
            "1328/1328 [==============================] - 728s 548ms/step - loss: 0.7375 - accuracy: 0.7450 - val_loss: 0.7079 - val_accuracy: 0.7471\n",
            "Epoch 19/20\n",
            "1328/1328 [==============================] - 727s 548ms/step - loss: 0.7277 - accuracy: 0.7456 - val_loss: 0.7017 - val_accuracy: 0.7467\n",
            "Epoch 20/20\n",
            "1328/1328 [==============================] - 726s 547ms/step - loss: 0.7143 - accuracy: 0.7518 - val_loss: 0.6964 - val_accuracy: 0.7520\n"
          ],
          "name": "stdout"
        }
      ]
    },
    {
      "cell_type": "code",
      "metadata": {
        "id": "KJEvxn6XN-Y2",
        "colab_type": "code",
        "colab": {}
      },
      "source": [
        ""
      ],
      "execution_count": null,
      "outputs": []
    },
    {
      "cell_type": "markdown",
      "metadata": {
        "id": "lz4StTErFXSO",
        "colab_type": "text"
      },
      "source": [
        "Analyze Model Performance"
      ]
    },
    {
      "cell_type": "code",
      "metadata": {
        "id": "TOyl81faDF3y",
        "colab_type": "code",
        "colab": {
          "base_uri": "https://localhost:8080/",
          "height": 541
        },
        "outputId": "ca9a7d1e-a7c8-4e6d-b1d9-9adb53cbdc2d"
      },
      "source": [
        "acc = history.history['accuracy']\n",
        "print(acc)\n",
        "val_acc = history.history['val_accuracy']\n",
        "\n",
        "loss = history.history['loss']\n",
        "val_loss = history.history['val_loss']\n",
        "\n",
        "epochs_range = range(20)\n",
        "\n",
        "plt.figure(figsize=(8, 8))\n",
        "plt.subplot(1, 2, 1)\n",
        "plt.plot(epochs_range, acc, label='Training Accuracy')\n",
        "plt.plot(epochs_range, val_acc, label='Validation Accuracy')\n",
        "plt.legend(loc='lower right')\n",
        "plt.title('Training and Validation Accuracy')\n",
        "\n",
        "plt.subplot(1, 2, 2)\n",
        "plt.plot(epochs_range, loss, label='Training Loss')\n",
        "plt.plot(epochs_range, val_loss, label='Validation Loss')\n",
        "plt.legend(loc='upper right')\n",
        "plt.title('Training and Validation Loss')\n",
        "plt.show()"
      ],
      "execution_count": 64,
      "outputs": [
        {
          "output_type": "stream",
          "text": [
            "[0.4071771800518036, 0.5608693361282349, 0.6075868606567383, 0.6371150016784668, 0.6568946242332458, 0.668738842010498, 0.6823490858078003, 0.6916502118110657, 0.6997033357620239, 0.7057313919067383, 0.7163511514663696, 0.7198361158370972, 0.7250400185585022, 0.7308090925216675, 0.734294056892395, 0.7362013459205627, 0.7413817644119263, 0.7450079917907715, 0.745596706867218, 0.75176602602005]\n"
          ],
          "name": "stdout"
        },
        {
          "output_type": "display_data",
          "data": {
            "image/png": "[encoded data removed]",
            "text/plain": [
              "<Figure size 576x576 with 2 Axes>"
            ]
          },
          "metadata": {
            "tags": [],
            "needs_background": "light"
          }
        }
      ]
    },
    {
      "cell_type": "code",
      "metadata": {
        "id": "k8rHmycYDF4A",
        "colab_type": "code",
        "colab": {}
      },
      "source": [
        "predictions = model.predict(X_test/255.)"
      ],
      "execution_count": 65,
      "outputs": []
    },
    {
      "cell_type": "code",
      "metadata": {
        "id": "AwTcgdjiDF4E",
        "colab_type": "code",
        "colab": {}
      },
      "source": [
        "test_labels = list(y_test.squeeze())\n",
        "predictions = list(predictions.argmax(axis=1))"
      ],
      "execution_count": 66,
      "outputs": []
    },
    {
      "cell_type": "code",
      "metadata": {
        "id": "UNDUoJ-6DF4K",
        "colab_type": "code",
        "colab": {
          "base_uri": "https://localhost:8080/",
          "height": 72
        },
        "outputId": "7fea8523-484d-4da7-b82f-54b6999f7c92"
      },
      "source": [
        "print(test_labels)\n",
        "print(predictions)"
      ],
      "execution_count": 69,
      "outputs": [
        {
          "output_type": "stream",
          "text": [
            "[3, 8, 8, 0, 6, 6, 1, 6, 3, 1, 0, 9, 5, 7, 9, 8, 5, 7, 8, 6, 7, 0, 4, 9, 5, 2, 4, 0, 9, 6, 6, 5, 4, 5, 9, 2, 4, 1, 9, 5, 4, 6, 5, 6, 0, 9, 3, 9, 7, 6, 9, 8, 0, 3, 8, 8, 7, 7, 4, 6, 7, 3, 6, 3, 6, 2, 1, 2, 3, 7, 2, 6, 8, 8, 0, 2, 9, 3, 3, 8, 8, 1, 1, 7, 2, 5, 2, 7, 8, 9, 0, 3, 8, 6, 4, 6, 6, 0, 0, 7, 4, 5, 6, 3, 1, 1, 3, 6, 8, 7, 4, 0, 6, 2, 1, 3, 0, 4, 2, 7, 8, 3, 1, 2, 8, 0, 8, 3, 5, 2, 4, 1, 8, 9, 1, 2, 9, 7, 2, 9, 6, 5, 6, 3, 8, 7, 6, 2, 5, 2, 8, 9, 6, 0, 0, 5, 2, 9, 5, 4, 2, 1, 6, 6, 8, 4, 8, 4, 5, 0, 9, 9, 9, 8, 9, 9, 3, 7, 5, 0, 0, 5, 2, 2, 3, 8, 6, 3, 4, 0, 5, 8, 0, 1, 7, 2, 8, 8, 7, 8, 5, 1, 8, 7, 1, 3, 0, 5, 7, 9, 7, 4, 5, 9, 8, 0, 7, 9, 8, 2, 7, 6, 9, 4, 3, 9, 6, 4, 7, 6, 5, 1, 5, 8, 8, 0, 4, 0, 5, 5, 1, 1, 8, 9, 0, 3, 1, 9, 2, 2, 5, 3, 9, 9, 4, 0, 3, 0, 0, 9, 8, 1, 5, 7, 0, 8, 2, 4, 7, 0, 2, 3, 6, 3, 8, 5, 0, 3, 4, 3, 9, 0, 6, 1, 0, 9, 1, 0, 7, 9, 1, 2, 6, 9, 3, 4, 6, 0, 0, 6, 6, 6, 3, 2, 6, 1, 8, 2, 1, 6, 8, 6, 8, 0, 4, 0, 7, 7, 5, 5, 3, 5, 2, 3, 4, 1, 7, 5, 4, 6, 1, 9, 3, 6, 6, 9, 3, 8, 0, 7, 2, 6, 2, 5, 8, 5, 4, 6, 8, 9, 9, 1, 0, 2, 2, 7, 3, 2, 8, 0, 9, 5, 8, 1, 9, 4, 1, 3, 8, 1, 4, 7, 9, 4, 2, 7, 0, 7, 0, 6, 6, 9, 0, 9, 2, 8, 7, 2, 2, 5, 1, 2, 6, 2, 9, 6, 2, 3, 0, 3, 9, 8, 7, 8, 8, 4, 0, 1, 8, 2, 7, 9, 3, 6, 1, 9, 0, 7, 3, 7, 4, 5, 0, 0, 2, 9, 3, 4, 0, 6, 2, 5, 3, 7, 3, 7, 2, 5, 3, 1, 1, 4, 9, 9, 5, 7, 5, 0, 2, 2, 2, 9, 7, 3, 9, 4, 3, 5, 4, 6, 5, 6, 1, 4, 3, 4, 4, 3, 7, 8, 3, 7, 8, 0, 5, 7, 6, 0, 5, 4, 8, 6, 8, 5, 5, 9, 9, 9, 5, 0, 1, 0, 8, 1, 1, 8, 0, 2, 2, 0, 4, 6, 5, 4, 9, 4, 7, 9, 9, 4, 5, 6, 6, 1, 5, 3, 8, 9, 5, 8, 5, 7, 0, 7, 0, 5, 0, 0, 4, 6, 9, 0, 9, 5, 6, 6, 6, 2, 9, 0, 1, 7, 6, 7, 5, 9, 1, 6, 2, 5, 5, 5, 8, 5, 9, 4, 6, 4, 3, 2, 0, 7, 6, 2, 2, 3, 9, 7, 9, 2, 6, 7, 1, 3, 6, 6, 8, 9, 7, 5, 4, 0, 8, 4, 0, 9, 3, 4, 8, 9, 6, 9, 2, 6, 1, 4, 7, 3, 5, 3, 8, 5, 0, 2, 1, 6, 4, 3, 3, 9, 6, 9, 8, 8, 5, 8, 6, 6, 2, 1, 7, 7, 1, 2, 7, 9, 9, 4, 4, 1, 2, 5, 6, 8, 7, 6, 8, 3, 0, 5, 5, 3, 0, 7, 9, 1, 3, 4, 4, 5, 3, 9, 5, 6, 9, 2, 1, 1, 4, 1, 9, 4, 7, 6, 3, 8, 9, 0, 1, 3, 6, 3, 6, 3, 2, 0, 3, 1, 0, 5, 9, 6, 4, 8, 9, 6, 9, 6, 3, 0, 3, 2, 2, 7, 8, 3, 8, 2, 7, 5, 7, 2, 4, 8, 7, 4, 2, 9, 8, 8, 6, 8, 8, 7, 4, 3, 3, 8, 4, 9, 4, 8, 8, 1, 8, 2, 1, 3, 6, 5, 4, 2, 7, 9, 9, 4, 1, 4, 1, 3, 2, 7, 0, 7, 9, 7, 6, 6, 2, 5, 9, 2, 9, 1, 2, 2, 6, 8, 2, 1, 3, 6, 6, 0, 1, 2, 7, 0, 5, 4, 6, 1, 6, 4, 0, 2, 2, 6, 0, 5, 9, 1, 7, 6, 7, 0, 3, 9, 6, 8, 3, 0, 3, 4, 7, 7, 1, 4, 7, 2, 7, 1, 4, 7, 4, 4, 8, 4, 7, 7, 5, 3, 7, 2, 0, 8, 9, 5, 8, 3, 6, 2, 0, 8, 7, 3, 7, 6, 5, 3, 1, 3, 2, 2, 5, 4, 1, 2, 9, 2, 7, 0, 7, 2, 1, 3, 2, 0, 2, 4, 7, 9, 8, 9, 0, 7, 7, 0, 7, 8, 4, 6, 3, 3, 0, 1, 3, 7, 0, 1, 3, 1, 4, 2, 3, 8, 4, 2, 3, 7, 8, 4, 3, 0, 9, 0, 0, 1, 0, 4, 4, 6, 7, 6, 1, 1, 3, 7, 3, 5, 2, 6, 6, 5, 8, 7, 1, 6, 8, 8, 5, 3, 0, 4, 0, 1, 3, 8, 8, 0, 6, 9, 9, 9, 5, 5, 8, 6, 0, 0, 4, 2, 3, 2, 7, 2, 2, 5, 9, 8, 9, 1, 7, 4, 0, 3, 0, 1, 3, 8, 3, 9, 6, 1, 4, 7, 0, 3, 7, 8, 9, 1, 1, 6, 6, 6, 6, 9, 1, 9, 9, 4, 2, 1, 7, 0, 6, 8, 1, 9, 2, 9, 0, 4, 7, 8, 3, 1, 2, 0, 1, 5, 8, 4, 6, 3, 8, 1, 3, 8, 5, 0, 8, 4, 8, 1, 1, 8, 9, 6, 0, 8, 6, 1, 3, 4, 1, 6, 0, 5, 1, 1, 0, 0, 3, 5, 0, 0, 6, 6, 3, 3, 6, 3, 6, 6, 0, 7, 2, 2, 7, 5, 5, 2, 8, 5, 2, 1, 1, 4, 3, 2, 0, 3, 1, 5, 3, 7, 6, 8, 9, 1, 6, 4, 9, 3, 9, 0, 9, 6, 3, 6, 0, 7, 3, 8, 0, 0, 0, 6, 6, 6, 9, 2, 5, 4, 4, 6, 3, 6, 0, 8, 6, 0, 6, 2, 7, 5, 1, 2, 7, 8, 8, 0, 9, 4, 9, 7, 2, 0, 2, 8, 3, 8, 9, 1, 5, 5, 4, 7, 5, 3, 8, 3, 3, 6, 2, 8, 4, 3, 7, 1, 2, 4, 1, 6, 9, 0, 5, 8, 6, 1, 8, 6, 1, 4, 2, 6, 2, 7, 2, 2, 0, 8, 6, 9, 1, 7, 1, 8, 8, 0, 7, 3, 8, 0, 3, 4, 3, 7, 7, 9, 2, 3, 1, 9, 1, 9, 6, 3, 3, 3, 1, 0, 6, 1, 4, 1, 0, 0, 1, 1, 6, 5, 4, 6, 2, 0, 7, 9, 8, 7, 2, 0, 6, 8, 1, 4, 3, 7, 0, 6, 1, 8, 5, 7, 8, 4, 8, 3, 9, 9, 9, 8, 7, 6, 6, 3, 5, 1, 5, 9, 1, 4, 1, 5, 7, 0, 1, 5, 2, 0, 8, 8, 5, 6, 7, 3, 2, 4, 7, 2, 5, 8, 2, 4, 9, 2, 1, 8, 1, 9, 8, 8, 8, 9, 0, 4, 3, 3, 1, 8, 4, 6, 3, 3, 5, 2, 2, 8, 3, 8, 9, 5, 8, 9, 8, 9, 1, 6, 5, 9, 4, 4, 8, 0, 7, 2, 9, 7, 4, 1, 6, 4, 4, 9, 1, 2, 5, 6, 0, 8, 6, 1, 9, 4, 5, 9, 5, 0, 7, 2, 0, 0, 4, 2, 6, 6, 5, 5, 2, 8, 1, 7, 3, 1, 4, 5, 6, 5, 1, 4, 7, 0, 9, 4, 3, 8, 2, 8, 4, 7, 2, 3, 1, 5, 2, 9, 8, 9, 7, 9, 5, 1, 4, 0, 8, 2, 3, 8, 9, 1, 1, 3, 2, 4, 9, 3, 1, 7, 4, 6, 2, 8, 9, 5, 3, 9, 5, 5, 6, 7, 2, 4, 6, 3, 1, 0, 7, 2, 5, 4, 7, 6, 1, 1, 9, 8, 1, 0, 1, 3, 1, 1, 1, 7, 3, 9, 6, 8, 4, 6, 8, 4, 9, 4, 7, 9, 7, 6, 8, 4, 9, 7, 0, 1, 6, 1, 5, 9, 0, 4, 3, 4, 1, 3, 0, 8, 4, 6, 2, 2, 6, 5, 3, 6, 2, 1, 1, 8, 6, 0, 4, 0, 1, 9, 7, 1, 3, 7, 7, 8, 7, 7, 3, 9, 7, 7, 7, 2, 1, 2, 8, 6, 4, 0, 7, 9, 8, 6, 8, 4, 9, 1, 7, 2, 2, 8, 5, 8, 1, 2, 2, 4, 1, 2, 5, 2, 8, 1, 8, 1, 8, 6, 0, 2, 4, 1, 3, 6, 7, 7, 4, 4, 3, 3, 4, 5, 2, 4, 3, 7, 8, 4, 4, 4, 5, 4, 3, 2, 8, 4, 5, 5, 4, 1, 4, 2, 5, 1, 6, 4, 3, 4, 4, 0, 8, 8, 4, 5, 7, 5, 6, 9, 1, 6, 7, 2, 0, 1, 4, 5, 6, 0, 0, 2, 7, 5, 6, 0, 6, 2, 9, 1, 7, 7, 5, 2, 5, 6, 4, 1, 4, 3, 3, 3, 0, 3, 5, 5, 8, 9, 7, 3, 1, 3, 3, 3, 4, 4, 2, 3, 3, 8, 1, 7, 7, 0, 7, 4, 5, 1, 4, 2, 4, 3, 9, 9, 4, 9, 9, 1, 8, 1, 6, 7, 5, 5, 4, 9, 7, 6, 5, 9, 2, 4, 0, 7, 8, 5, 5, 0, 0, 9, 9, 8, 2, 5, 4, 8, 3, 6, 3, 6, 0, 6, 6, 6, 9, 6, 6, 8, 6, 2, 4, 5, 8, 1, 2, 7, 6, 5, 7, 8, 1, 8, 0, 8, 6, 9, 2, 8, 9, 4, 0, 9, 4, 9, 5, 7, 5, 5, 9, 5, 3, 0, 1, 9, 7, 2, 4, 1, 0, 8, 0, 3, 1, 7, 0, 0, 4, 8, 6, 2, 4, 0, 0, 9, 0, 8, 4, 5, 9, 3, 9, 0, 5, 6, 5, 0, 1, 4, 8, 1, 0, 5, 2, 1, 0, 2, 8, 1, 5, 6, 7, 7, 2, 6, 2, 5, 0, 1, 4, 2, 5, 4, 6, 2, 2, 1, 7, 2, 8, 5, 5, 3, 0, 4, 8, 3, 7, 6, 3, 8, 1, 0, 1, 3, 3, 0, 7, 4, 9, 5, 3, 6, 0, 1, 4, 4, 4, 4, 2, 2, 5, 8, 1, 5, 9, 8, 1, 1, 5, 3, 9, 9, 7, 6, 5, 0, 8, 4, 7, 0, 9, 2, 8, 4, 7, 1, 3, 9, 6, 8, 9, 0, 4, 9, 6, 7, 8, 9, 4, 8, 9, 7, 2, 5, 3, 7, 1, 0, 2, 9, 5, 5, 8, 5, 4, 2, 8, 3, 5, 5, 7, 7, 8, 6, 2, 8, 2, 3, 5, 6, 8, 0, 2, 3, 7, 0, 1, 9, 1, 3, 7, 5, 8, 3, 2, 9, 6, 8, 6, 9, 3, 8, 9, 8, 0, 7, 8, 5, 0, 0, 1, 3, 9, 1, 5, 3, 4, 4, 0, 9, 9, 9, 9, 8, 2, 4, 2, 2, 5, 1, 9, 1, 0, 9, 4, 2, 1, 6, 0, 3, 7, 6, 3, 1, 8, 6, 5, 7, 2, 8, 4, 4, 8, 3, 5, 0, 5, 7, 4, 4, 2, 2, 7, 3, 6, 0, 2, 7, 6, 2, 3, 0, 7, 7, 8, 1, 1, 4, 6, 0, 6, 6, 5, 5, 6, 3, 9, 3, 6, 8, 7, 6, 4, 9, 5, 6, 4, 1, 6, 3, 8, 2, 3, 9, 8, 5, 1, 5, 4, 5, 7, 5, 7, 8, 9, 1, 7, 2, 5, 6, 8, 4, 6, 5, 3, 9, 9, 8, 5, 5, 6, 4, 5, 9, 7, 3, 4, 1, 4, 2, 3, 6, 5, 5, 2, 8, 0, 0, 1, 8, 3, 1, 3, 5, 8, 3, 8, 5, 8, 6, 3, 5, 5, 5, 0, 9, 5, 5, 7, 1, 8, 2, 2, 7, 3, 4, 2, 9, 6, 2, 2, 4, 3, 0, 2, 0, 1, 3, 2, 2, 7, 0, 1, 0, 7, 7, 2, 0, 1, 6, 5, 0, 2, 2, 0, 1, 2, 6, 0, 1, 6, 6, 5, 3, 4, 0, 0, 9, 1, 0, 2, 5, 9, 7, 8, 6, 4, 6, 0, 2, 0, 1, 9, 2, 4, 9, 0, 7, 2, 3, 4, 8, 0, 2, 6, 8, 9, 7, 1, 9, 3, 7, 2, 7, 9, 6, 9, 5, 7, 8, 5, 9, 8, 3, 9, 8, 0, 5, 5, 7, 1, 2, 0, 7, 5, 8, 2, 2, 5, 3, 9, 3, 1, 9, 3, 1, 4, 3, 4, 4, 9, 0, 9, 5, 9, 2, 9, 4, 0, 2, 8, 4, 8, 6, 8, 2, 0, 5, 9, 6, 9, 5, 1, 3, 4, 4, 2, 7, 2, 4, 4, 0, 2, 8, 4, 5, 1, 2, 6, 8, 1, 7, 2, 8, 7, 4, 3, 3, 0, 3, 7, 2, 5, 6, 1, 7, 9, 0, 2, 3, 9, 8, 9, 5, 0, 0, 7, 6, 3, 3, 8, 1, 4, 0, 1, 5, 4, 3, 2, 6, 0, 8, 8, 6, 3, 3, 2, 9, 7, 5, 1, 6, 0, 5, 9, 9, 4, 5, 9, 4, 8, 3, 3, 2, 5, 1, 9, 5, 5, 8, 1, 8, 9, 7, 0, 6, 3, 2, 0, 2, 6, 9, 3, 9, 1, 6, 6, 7, 2, 6, 3, 2, 5, 5, 2, 7, 5, 2, 0, 8, 0, 7, 7, 1, 7, 4, 0, 2, 2, 6, 1, 5, 9, 7, 6, 2, 7, 0, 5, 6, 0, 1, 1, 8, 4, 5, 3, 1, 2, 4, 8, 9, 8, 1, 7, 2, 7, 2, 3, 2, 6, 7, 9, 4, 0, 1, 0, 4, 5, 0, 8, 0, 7, 6, 1, 0, 8, 5, 9, 2, 5, 4, 4, 9, 0, 6, 1, 2, 5, 1, 6, 7, 1, 5, 8, 8, 0, 3, 9, 4, 0, 3, 4, 9, 2, 4, 3, 0, 6, 4, 5, 6, 6, 7, 8, 4, 8, 8, 3, 2, 8, 0, 2, 5, 6, 8, 7, 8, 9, 9, 0, 6, 6, 8, 1, 1, 7, 4, 4, 2, 3, 6, 9, 6, 2, 4, 1, 8, 2, 3, 1, 6, 8, 6, 8, 5, 9, 0, 1, 0, 2, 9, 2, 9, 0, 9, 7, 8, 5, 0, 6, 6, 8, 1, 6, 5, 8, 7, 9, 2, 1, 6, 7, 5, 6, 3, 0, 9, 8, 9, 5, 9, 9, 9, 3, 6, 4, 4, 8, 8, 1, 7, 3, 0, 6, 2, 4, 8, 2, 2, 9, 2, 2, 9, 7, 4, 1, 9, 1, 4, 3, 5, 3, 8, 9, 3, 6, 2, 0, 8, 9, 0, 5, 1, 5, 8, 2, 1, 2, 3, 2, 4, 8, 4, 0, 6, 4, 2, 9, 8, 4, 7, 6, 2, 4, 7, 7, 6, 4, 2, 2, 3, 2, 4, 9, 0, 0, 9, 6, 5, 8, 5, 2, 4, 8, 8, 6, 4, 5, 7, 6, 3, 7, 0, 4, 0, 5, 8, 2, 8, 0, 4, 9, 2, 3, 6, 8, 1, 6, 0, 8, 4, 3, 1, 4, 5, 2, 4, 3, 6, 0, 7, 1, 3, 5, 7, 1, 8, 0, 4, 8, 2, 7, 7, 0, 2, 2, 4, 3, 3, 1, 6, 1, 6, 4, 6, 7, 4, 7, 3, 8, 1, 3, 1, 4, 6, 5, 5, 7, 4, 5, 4, 9, 7, 7, 2, 3, 3, 6, 7, 4, 1, 6, 1, 0, 6, 9, 6, 0, 2, 0, 2, 4, 7, 0, 0, 0, 0, 7, 5, 3, 2, 7, 8, 5, 5, 2, 2, 8, 9, 1, 2, 2, 0, 3, 4, 9, 1, 6, 9, 0, 8, 3, 6, 4, 6, 7, 5, 1, 8, 9, 0, 5, 0, 5, 4, 3, 8, 5, 2, 0, 8, 5, 9, 2, 5, 6, 5, 7, 3, 7, 2, 8, 8, 4, 2, 1, 6, 2, 9, 9, 8, 2, 3, 1, 0, 5, 2, 3, 7, 9, 5, 9, 1, 1, 3, 2, 7, 4, 4, 1, 9, 4, 5, 5, 2, 7, 7, 6, 1, 2, 3, 7, 5, 4, 3, 7, 7, 0, 0, 1, 4, 4, 3, 7, 9, 8, 7, 0, 9, 0, 3, 7, 6, 3, 8, 4, 5, 6, 5, 3, 4, 2, 9, 2, 4, 9, 2, 0, 1, 1, 3, 7, 9, 5, 1, 6, 0, 3, 3, 7, 2, 4, 5, 2, 3, 6, 3, 3, 0, 4, 4, 3, 8, 1, 2, 3, 2, 7, 1, 4, 5, 6, 8, 6, 6, 5, 4, 2, 9, 9, 3, 2, 0, 4, 1, 5, 5, 6, 6, 5, 6, 9, 7, 9, 4, 8, 3, 1, 9, 8, 1, 9, 0, 3, 0, 4, 7, 7, 2, 6, 5, 6, 9, 7, 7, 5, 7, 0, 8, 6, 7, 8, 3, 8, 9, 3, 2, 9, 2, 7, 4, 1, 9, 7, 0, 8, 1, 2, 0, 6, 5, 1, 4, 2, 8, 2, 8, 3, 3, 1, 4, 9, 8, 1, 1, 7, 9, 9, 4, 6, 8, 5, 3, 2, 2, 3, 8, 5, 1, 9, 7, 9, 1, 5, 3, 1, 0, 3, 8, 9, 2, 0, 8, 0, 7, 9, 4, 8, 3, 0, 7, 0, 7, 0, 5, 5, 4, 3, 0, 9, 9, 0, 2, 2, 0, 8, 4, 4, 5, 2, 2, 1, 1, 5, 5, 4, 3, 4, 0, 8, 4, 8, 2, 5, 6, 5, 1, 7, 2, 4, 0, 5, 6, 8, 7, 6, 3, 1, 3, 6, 6, 4, 5, 5, 5, 1, 8, 7, 3, 0, 2, 5, 1, 1, 1, 6, 7, 2, 1, 2, 3, 9, 8, 3, 1, 7, 4, 8, 4, 7, 5, 8, 6, 0, 3, 0, 8, 3, 4, 4, 9, 4, 6, 1, 5, 7, 7, 9, 0, 1, 3, 1, 3, 2, 4, 0, 7, 8, 3, 1, 6, 2, 1, 8, 8, 1, 9, 7, 5, 3, 2, 9, 0, 6, 8, 4, 1, 5, 7, 2, 4, 7, 0, 4, 9, 0, 7, 0, 6, 7, 1, 8, 5, 8, 8, 7, 0, 0, 3, 2, 5, 7, 0, 6, 4, 4, 9, 1, 8, 6, 3, 9, 4, 9, 3, 3, 7, 5, 9, 7, 7, 4, 5, 8, 2, 8, 9, 5, 3, 1, 9, 2, 2, 0, 1, 1, 8, 1, 1, 9, 8, 9, 9, 0, 2, 6, 9, 1, 9, 0, 1, 9, 2, 9, 9, 9, 0, 9, 9, 2, 1, 7, 0, 5, 6, 3, 9, 8, 3, 0, 2, 7, 7, 4, 8, 3, 0, 5, 2, 3, 5, 7, 6, 6, 6, 5, 6, 5, 4, 5, 8, 8, 0, 9, 7, 9, 0, 6, 9, 6, 1, 4, 7, 9, 0, 3, 5, 4, 7, 6, 9, 8, 2, 3, 9, 3, 3, 7, 8, 3, 5, 5, 9, 6, 1, 4, 7, 4, 8, 7, 7, 1, 3, 0, 3, 2, 5, 4, 9, 3, 5, 4, 7, 0, 3, 7, 0, 2, 1, 5, 8, 7, 3, 5, 7, 8, 5, 7, 8, 1, 5, 4, 7, 0, 8, 3, 2, 9, 7, 4, 1, 6, 5, 9, 8, 5, 5, 4, 1, 0, 9, 4, 4, 3, 0, 4, 8, 0, 8, 2, 9, 5, 9, 7, 4, 6, 7, 9, 2, 9, 3, 7, 7, 8, 2, 2, 0, 2, 5, 3, 6, 4, 7, 2, 3, 7, 8, 7, 2, 5, 0, 0, 7, 0, 9, 6, 1, 0, 3, 9, 7, 4, 9, 1, 6, 8, 1, 2, 3, 3, 5, 4, 8, 9, 7, 4, 4, 1, 2, 4, 9, 8, 7, 9, 5, 1, 2, 1, 6, 6, 4, 5, 7, 4, 5, 8, 5, 2, 8, 7, 8, 2, 3, 6, 1, 3, 3, 1, 5, 1, 9, 0, 9, 2, 0, 6, 2, 4, 8, 5, 7, 6, 1, 2, 9, 4, 5, 0, 3, 3, 7, 7, 7, 1, 4, 5, 0, 2, 8, 5, 0, 0, 6, 2, 0, 8, 4, 5, 4, 5, 6, 4, 7, 9, 4, 2, 0, 6, 4, 0, 0, 6, 4, 6, 1, 9, 5, 5, 2, 2, 6, 3, 4, 5, 9, 1, 7, 2, 3, 9, 6, 5, 0, 2, 9, 7, 1, 7, 2, 2, 0, 8, 6, 4, 3, 2, 7, 7, 0, 4, 1, 6, 5, 1, 3, 0, 3, 9, 0, 0, 2, 5, 0, 4, 0, 1, 9, 8, 4, 9, 4, 2, 4, 3, 3, 4, 0, 4, 3, 2, 8, 9, 1, 5, 8, 1, 8, 2, 4, 5, 2, 4, 1, 1, 6, 6, 8, 5, 2, 2, 5, 0, 8, 2, 3, 6, 2, 9, 6, 1, 4, 5, 9, 0, 1, 0, 0, 8, 1, 1, 6, 6, 9, 5, 4, 1, 7, 8, 6, 9, 1, 7, 6, 0, 9, 3, 5, 3, 2, 5, 3, 4, 9, 7, 1, 4, 4, 6, 1, 3, 8, 8, 0, 6, 7, 7, 6, 7, 2, 3, 2, 2, 6, 2, 7, 4, 0, 3, 6, 2, 6, 3, 3, 0, 9, 5, 1, 1, 5, 3, 6, 4, 3, 4, 1, 0, 4, 5, 5, 2, 8, 9, 4, 3, 1, 8, 0, 1, 3, 3, 4, 4, 2, 9, 7, 6, 8, 1, 8, 9, 1, 3, 1, 7, 3, 0, 0, 2, 8, 3, 9, 2, 7, 2, 6, 0, 1, 6, 1, 6, 7, 5, 5, 2, 5, 9, 4, 0, 2, 3, 4, 9, 4, 1, 0, 0, 2, 3, 8, 9, 2, 8, 9, 5, 7, 9, 1, 4, 6, 2, 8, 4, 4, 8, 9, 3, 1, 1, 6, 5, 8, 4, 6, 4, 5, 2, 6, 4, 2, 3, 1, 3, 6, 8, 5, 2, 2, 7, 1, 6, 2, 5, 9, 2, 8, 1, 6, 9, 2, 7, 5, 3, 2, 9, 7, 0, 2, 9, 3, 4, 1, 7, 9, 5, 8, 9, 7, 3, 4, 0, 9, 7, 4, 2, 4, 7, 0, 1, 8, 1, 0, 4, 6, 1, 9, 9, 2, 1, 2, 5, 6, 9, 7, 7, 3, 4, 2, 0, 2, 5, 6, 7, 3, 7, 9, 4, 2, 0, 6, 1, 7, 5, 6, 5, 3, 9, 2, 7, 8, 5, 9, 5, 8, 5, 4, 3, 7, 9, 8, 1, 2, 2, 8, 9, 3, 0, 8, 4, 0, 2, 0, 1, 4, 1, 8, 5, 5, 7, 9, 8, 3, 7, 9, 1, 5, 6, 9, 8, 7, 2, 0, 9, 0, 8, 5, 9, 4, 2, 9, 8, 1, 9, 1, 8, 3, 7, 6, 4, 2, 3, 7, 0, 3, 5, 8, 8, 8, 7, 9, 6, 2, 7, 4, 5, 7, 6, 7, 1, 7, 3, 6, 8, 2, 6, 6, 7, 1, 5, 9, 7, 1, 7, 0, 1, 6, 3, 3, 9, 0, 1, 2, 3, 2, 2, 5, 4, 9, 8, 7, 4, 4, 9, 7, 6, 7, 7, 1, 2, 3, 5, 1, 9, 0, 3, 3, 1, 5, 6, 6, 2, 4, 6, 8, 8, 9, 6, 6, 1, 0, 7, 5, 8, 2, 1, 5, 8, 1, 4, 7, 5, 0, 3, 9, 9, 5, 2, 8, 4, 1, 9, 0, 4, 4, 8, 2, 9, 0, 7, 9, 8, 7, 1, 3, 2, 9, 9, 5, 9, 7, 6, 7, 7, 1, 1, 2, 4, 2, 0, 6, 8, 7, 6, 2, 2, 9, 8, 2, 4, 2, 0, 5, 8, 6, 8, 2, 7, 7, 3, 1, 8, 1, 6, 5, 9, 7, 8, 9, 6, 4, 8, 1, 9, 4, 0, 4, 1, 4, 3, 6, 2, 2, 7, 0, 0, 7, 0, 7, 4, 3, 6, 7, 7, 4, 5, 4, 3, 5, 5, 4, 7, 1, 0, 7, 7, 1, 6, 5, 0, 7, 7, 4, 6, 1, 8, 5, 9, 3, 5, 6, 2, 2, 7, 3, 5, 8, 1, 0, 6, 8, 7, 8, 8, 5, 7, 5, 4, 9, 7, 3, 3, 8, 8, 3, 9, 4, 7, 2, 0, 8, 0, 7, 3, 3, 2, 5, 2, 4, 4, 0, 4, 8, 2, 4, 0, 6, 4, 5, 6, 0, 8, 8, 0, 6, 1, 1, 6, 1, 4, 2, 1, 1, 2, 4, 4, 5, 5, 8, 8, 5, 1, 8, 2, 3, 3, 9, 6, 6, 5, 0, 7, 3, 3, 2, 7, 4, 5, 6, 0, 2, 1, 8, 1, 0, 9, 3, 1, 0, 5, 4, 2, 3, 3, 6, 7, 6, 0, 0, 5, 7, 4, 7, 7, 0, 6, 1, 3, 9, 0, 9, 0, 3, 8, 4, 8, 8, 4, 1, 0, 2, 2, 4, 1, 1, 2, 4, 3, 4, 1, 4, 7, 1, 0, 0, 9, 0, 4, 2, 8, 8, 5, 5, 0, 4, 0, 8, 6, 2, 5, 9, 2, 9, 1, 1, 5, 4, 7, 5, 8, 6, 2, 1, 5, 5, 3, 4, 1, 8, 9, 9, 8, 9, 8, 6, 8, 5, 8, 9, 4, 6, 2, 6, 3, 7, 4, 0, 0, 1, 7, 5, 1, 5, 9, 3, 1, 6, 8, 7, 3, 6, 9, 1, 2, 0, 1, 7, 2, 6, 1, 9, 0, 0, 8, 9, 9, 2, 8, 6, 2, 5, 6, 0, 3, 3, 0, 7, 4, 7, 5, 0, 1, 6, 8, 8, 1, 2, 1, 5, 4, 5, 9, 6, 7, 1, 0, 6, 9, 2, 7, 7, 3, 9, 9, 1, 9, 7, 0, 1, 3, 5, 4, 6, 3, 8, 8, 0, 4, 8, 3, 6, 7, 0, 0, 4, 5, 2, 6, 8, 4, 9, 9, 9, 2, 0, 4, 2, 8, 1, 1, 0, 0, 3, 7, 4, 1, 1, 9, 7, 7, 4, 6, 8, 6, 0, 2, 8, 5, 3, 5, 3, 5, 7, 9, 8, 4, 4, 3, 1, 4, 8, 3, 6, 5, 3, 0, 8, 9, 5, 7, 6, 2, 0, 4, 9, 9, 0, 5, 2, 3, 6, 1, 1, 0, 2, 8, 2, 1, 1, 7, 5, 2, 3, 4, 1, 2, 9, 2, 1, 3, 4, 8, 9, 0, 0, 4, 9, 0, 2, 2, 0, 6, 8, 7, 3, 3, 8, 9, 0, 2, 5, 3, 6, 1, 3, 9, 5, 0, 5, 4, 4, 0, 1, 1, 6, 1, 7, 9, 9, 6, 2, 4, 3, 8, 3, 4, 7, 0, 2, 8, 4, 8, 3, 8, 8, 8, 3, 3, 5, 7, 7, 0, 4, 1, 5, 9, 7, 0, 6, 8, 4, 9, 0, 1, 8, 9, 6, 3, 9, 2, 4, 4, 0, 3, 3, 5, 4, 5, 1, 1, 8, 2, 2, 9, 3, 7, 8, 9, 2, 3, 1, 7, 3, 2, 3, 0, 1, 9, 5, 5, 3, 4, 5, 2, 0, 0, 3, 1, 3, 4, 7, 4, 2, 8, 4, 8, 9, 9, 4, 2, 4, 3, 6, 4, 6, 4, 6, 6, 3, 8, 7, 4, 8, 0, 5, 9, 3, 9, 0, 7, 5, 1, 9, 7, 9, 1, 8, 4, 2, 1, 6, 4, 3, 0, 1, 4, 8, 6, 1, 7, 1, 3, 5, 4, 3, 3, 9, 7, 8, 2, 5, 5, 4, 5, 4, 5, 7, 2, 5, 5, 1, 7, 7, 8, 3, 6, 0, 2, 5, 2, 3, 7, 4, 2, 1, 6, 8, 6, 8, 3, 2, 7, 7, 9, 7, 1, 4, 7, 4, 6, 1, 7, 3, 0, 0, 6, 6, 8, 6, 6, 0, 3, 4, 7, 4, 9, 4, 9, 9, 3, 4, 1, 4, 0, 3, 7, 1, 2, 2, 8, 4, 7, 8, 5, 5, 6, 5, 6, 0, 6, 4, 9, 3, 2, 7, 3, 8, 3, 9, 4, 1, 6, 9, 9, 4, 3, 9, 8, 1, 6, 9, 5, 9, 0, 9, 7, 2, 2, 4, 2, 6, 4, 8, 1, 9, 5, 6, 5, 1, 8, 6, 6, 7, 6, 5, 0, 2, 7, 6, 1, 2, 3, 1, 6, 4, 9, 0, 3, 9, 1, 0, 5, 3, 1, 6, 9, 8, 9, 0, 6, 1, 6, 2, 3, 5, 6, 9, 0, 7, 2, 4, 0, 3, 6, 8, 6, 9, 1, 9, 0, 6, 4, 5, 9, 5, 4, 1, 9, 2, 0, 7, 3, 5, 1, 8, 3, 0, 5, 2, 8, 8, 3, 9, 6, 0, 3, 5, 3, 4, 1, 5, 0, 7, 3, 9, 4, 5, 3, 1, 4, 2, 4, 9, 9, 7, 1, 7, 0, 1, 2, 1, 5, 3, 8, 4, 1, 5, 1, 9, 9, 7, 0, 1, 7, 6, 2, 6, 5, 0, 3, 1, 3, 8, 9, 9, 0, 8, 8, 7, 9, 2, 9, 1, 3, 6, 7, 6, 0, 8, 6, 2, 4, 2, 3, 5, 5, 4, 1, 6, 7, 1, 6, 1, 7, 1, 6, 2, 3, 0, 4, 2, 9, 7, 5, 5, 6, 0, 8, 8, 1, 1, 3, 5, 6, 5, 3, 8, 7, 5, 0, 7, 7, 5, 7, 1, 9, 9, 1, 9, 9, 3, 5, 5, 3, 0, 3, 0, 6, 6, 5, 6, 8, 9, 4, 5, 1, 1, 2, 7, 9, 0, 1, 2, 5, 4, 4, 7, 4, 8, 3, 3, 5, 3, 5, 7, 0, 1, 2, 9, 8, 1, 7, 3, 5, 9, 1, 9, 1, 1, 3, 6, 7, 4, 8, 3, 5, 6, 7, 0, 1, 7, 7, 2, 3, 3, 5, 1, 7, 6, 8, 4, 4, 5, 7, 3, 4, 7, 7, 3, 6, 0, 7, 2, 6, 7, 4, 1, 8, 0, 2, 2, 1, 5, 4, 0, 9, 3, 4, 4, 2, 3, 8, 5, 0, 0, 4, 6, 3, 9, 2, 0, 5, 7, 5, 5, 1, 7, 3, 1, 6, 7, 9, 0, 1, 2, 1, 4, 6, 1, 5, 9, 5, 0, 4, 9, 4, 9, 7, 1, 6, 8, 0, 6, 5, 0, 8, 1, 7, 5, 6, 9, 3, 2, 3, 9, 8, 6, 1, 0, 9, 0, 9, 8, 7, 7, 5, 2, 3, 5, 5, 7, 8, 7, 6, 9, 1, 9, 8, 6, 5, 6, 7, 5, 6, 7, 2, 5, 9, 6, 6, 7, 0, 1, 0, 1, 3, 2, 5, 6, 1, 2, 5, 1, 9, 9, 8, 6, 8, 6, 8, 9, 0, 4, 0, 3, 3, 6, 4, 9, 9, 7, 2, 3, 5, 6, 4, 6, 0, 3, 7, 5, 0, 2, 9, 2, 7, 2, 9, 2, 4, 0, 6, 6, 3, 4, 5, 5, 9, 1, 1, 4, 4, 3, 5, 4, 8, 0, 0, 3, 9, 4, 7, 4, 2, 8, 3, 6, 3, 1, 9, 6, 3, 8, 3, 8, 4, 7, 5, 7, 5, 3, 1, 2, 6, 1, 3, 2, 0, 7, 5, 0, 0, 0, 1, 4, 3, 5, 8, 4, 3, 1, 7, 1, 0, 4, 2, 4, 1, 4, 0, 1, 2, 1, 7, 7, 9, 8, 7, 5, 4, 0, 9, 0, 0, 8, 2, 0, 0, 2, 4, 8, 6, 2, 4, 6, 3, 5, 1, 5, 3, 7, 2, 2, 9, 8, 0, 0, 0, 3, 4, 4, 6, 1, 6, 7, 4, 4, 3, 9, 4, 0, 8, 0, 4, 6, 5, 7, 9, 7, 0, 5, 7, 7, 3, 1, 9, 3, 0, 9, 5, 3, 7, 9, 4, 4, 1, 7, 7, 1, 4, 1, 2, 8, 7, 0, 0, 4, 7, 2, 9, 7, 6, 9, 3, 5, 8, 0, 3, 6, 8, 3, 2, 4, 7, 1, 1, 3, 9, 7, 5, 1, 0, 8, 7, 0, 1, 6, 9, 3, 2, 7, 7, 8, 1, 0, 3, 4, 6, 7, 5, 2, 0, 1, 5, 5, 1, 4, 1, 3, 0, 8, 6, 2, 1, 3, 6, 4, 1, 9, 0, 4, 1, 0, 1, 9, 8, 6, 9, 2, 4, 7, 2, 2, 7, 4, 9, 1, 3, 2, 6, 3, 4, 4, 9, 4, 8, 2, 6, 6, 1, 6, 3, 6, 5, 8, 4, 6, 7, 1, 9, 3, 6, 7, 6, 0, 7, 1, 9, 5, 2, 6, 7, 7, 6, 5, 9, 1, 5, 6, 0, 2, 0, 9, 1, 8, 3, 5, 0, 0, 0, 5, 7, 7, 8, 5, 5, 5, 1, 6, 1, 5, 1, 0, 6, 2, 3, 2, 1, 7, 5, 1, 9, 8, 3, 6, 9, 7, 3, 0, 2, 3, 9, 4, 4, 3, 9, 6, 8, 6, 6, 8, 5, 4, 3, 6, 7, 7, 4, 3, 9, 6, 2, 4, 0, 1, 3, 6, 4, 9, 2, 6, 0, 3, 8, 7, 5, 3, 3, 8, 3, 2, 6, 3, 6, 2, 7, 4, 5, 7, 9, 0, 0, 6, 7, 2, 8, 5, 5, 7, 5, 5, 9, 4, 6, 4, 7, 3, 3, 6, 4, 1, 6, 3, 1, 6, 7, 0, 5, 0, 1, 9, 7, 3, 5, 2, 3, 9, 5, 6, 4, 0, 0, 0, 8, 0, 3, 2, 4, 5, 3, 7, 9, 6, 9, 3, 1, 2, 6, 7, 4, 5, 1, 3, 7, 6, 9, 5, 8, 5, 8, 5, 8, 5, 6, 5, 0, 8, 3, 8, 1, 8, 1, 5, 0, 9, 8, 6, 3, 6, 3, 4, 4, 7, 4, 7, 4, 3, 2, 4, 5, 5, 7, 5, 4, 5, 8, 0, 5, 4, 0, 5, 4, 3, 3, 2, 4, 2, 9, 4, 8, 8, 6, 2, 6, 1, 7, 0, 4, 3, 8, 5, 9, 7, 6, 7, 1, 0, 2, 3, 5, 6, 7, 1, 6, 2, 8, 3, 7, 2, 5, 7, 5, 7, 7, 1, 7, 4, 3, 3, 4, 0, 4, 2, 7, 0, 2, 2, 6, 6, 2, 5, 2, 6, 0, 6, 1, 2, 9, 0, 0, 1, 5, 5, 1, 6, 7, 8, 5, 6, 3, 3, 6, 0, 9, 9, 2, 2, 6, 1, 4, 6, 2, 5, 7, 8, 8, 5, 6, 4, 3, 2, 3, 4, 4, 4, 8, 9, 2, 6, 0, 9, 7, 9, 8, 7, 7, 3, 8, 2, 9, 3, 5, 7, 5, 8, 7, 3, 7, 0, 7, 1, 6, 2, 4, 0, 0, 2, 9, 8, 2, 8, 7, 7, 5, 5, 0, 1, 2, 9, 6, 1, 0, 1, 0, 6, 5, 0, 5, 7, 4, 4, 8, 3, 5, 3, 7, 2, 5, 8, 3, 5, 7, 3, 7, 0, 5, 4, 5, 6, 9, 3, 5, 3, 8, 2, 4, 2, 2, 6, 7, 6, 0, 5, 5, 8, 4, 5, 6, 1, 3, 5, 4, 7, 3, 0, 7, 2, 0, 1, 2, 4, 9, 6, 4, 5, 9, 7, 7, 6, 7, 4, 3, 1, 6, 9, 4, 8, 0, 3, 1, 6, 4, 4, 2, 1, 4, 6, 3, 0, 8, 9, 7, 6, 8, 4, 8, 1, 4, 5, 9, 4, 7, 1, 4, 5, 3, 1, 2, 6, 4, 7, 1, 5, 9, 3, 1, 4, 8, 7, 7, 0, 4, 3, 4, 6, 7, 7, 5, 4, 4, 4, 3, 6, 6, 1, 9, 9, 7, 9, 4, 3, 2, 9, 8, 5, 0, 6, 9, 0, 9, 7, 8, 5, 4, 4, 9, 4, 2, 6, 6, 9, 9, 7, 9, 9, 0, 5, 1, 1, 8, 6, 9, 9, 5, 6, 5, 5, 9, 7, 9, 4, 5, 4, 3, 3, 9, 8, 8, 3, 4, 8, 4, 0, 4, 0, 7, 2, 8, 0, 2, 0, 7, 4, 0, 6, 3, 3, 1, 7, 4, 6, 5, 0, 4, 9, 5, 6, 6, 3, 0, 5, 2, 6, 3, 3, 8, 0, 8, 5, 4, 2, 9, 5, 0, 5, 4, 8, 2, 7, 6, 5, 7, 8, 2, 0, 1, 8, 2, 4, 8, 4, 3, 0, 4, 0, 1, 9, 3, 0, 3, 6, 5, 5, 2, 8, 5, 0, 8, 7, 5, 2, 4, 3, 7, 0, 2, 3, 1, 0, 0, 2, 1, 2, 1, 4, 6, 7, 1, 0, 5, 2, 5, 9, 2, 5, 6, 7, 1, 9, 3, 6, 1, 0, 2, 9, 4, 2, 9, 3, 8, 2, 9, 8, 5, 1, 0, 1, 5, 2, 5, 6, 8, 8, 3, 5, 0, 4, 1, 3, 7, 0, 3, 3, 9, 2, 3, 9, 9, 8, 5, 9, 7, 2, 0, 9, 4, 7, 1, 7, 6, 4, 4, 8, 9, 0, 7, 1, 2, 4, 0, 3, 7, 5, 1, 9, 3, 5, 2, 4, 1, 1, 3, 3, 9, 2, 5, 8, 0, 8, 1, 5, 1, 5, 9, 0, 9, 2, 4, 0, 6, 9, 1, 1, 3, 4, 9, 5, 3, 3, 3, 3, 4, 1, 5, 9, 8, 7, 4, 8, 7, 3, 5, 2, 5, 8, 9, 7, 2, 0, 0, 7, 5, 3, 5, 7, 4, 6, 2, 8, 2, 7, 7, 6, 1, 3, 8, 6, 2, 0, 4, 4, 8, 6, 4, 0, 2, 5, 4, 1, 2, 5, 4, 6, 9, 5, 0, 5, 2, 0, 8, 2, 6, 4, 7, 9, 5, 7, 2, 6, 2, 1, 9, 9, 7, 2, 5, 1, 8, 1, 6, 3, 0, 8, 8, 5, 6, 9, 9, 9, 6, 3, 0, 8, 8, 5, 3, 3, 1, 1, 0, 7, 0, 6, 0, 4, 4, 6, 5, 3, 2, 9, 6, 6, 7, 9, 7, 7, 0, 8, 4, 2, 7, 7, 7, 4, 0, 1, 6, 0, 5, 3, 0, 2, 4, 9, 7, 3, 3, 2, 8, 8, 5, 3, 8, 0, 8, 0, 0, 0, 2, 2, 7, 0, 7, 7, 7, 2, 2, 0, 4, 0, 3, 7, 8, 4, 7, 9, 6, 1, 1, 6, 9, 3, 8, 9, 5, 8, 3, 9, 4, 3, 7, 5, 5, 2, 7, 5, 7, 9, 6, 3, 0, 8, 4, 5, 6, 1, 0, 4, 8, 4, 7, 1, 3, 2, 0, 9, 1, 8, 8, 6, 8, 1, 7, 1, 0, 9, 7, 6, 4, 5, 8, 2, 1, 2, 5, 8, 1, 1, 8, 8, 0, 9, 0, 0, 4, 3, 3, 5, 6, 6, 3, 1, 4, 4, 7, 8, 0, 1, 4, 8, 4, 6, 2, 2, 2, 6, 3, 4, 0, 8, 1, 3, 8, 3, 8, 9, 1, 6, 1, 9, 8, 2, 0, 4, 7, 4, 0, 0, 7, 6, 8, 9, 8, 6, 2, 8, 8, 0, 1, 1, 0, 7, 7, 4, 4, 7, 7, 2, 6, 6, 7, 4, 5, 4, 0, 9, 4, 7, 2, 5, 3, 2, 2, 7, 6, 2, 6, 4, 9, 6, 8, 3, 8, 5, 5, 2, 3, 4, 5, 2, 7, 5, 1, 5, 3, 7, 8, 8, 9, 6, 0, 9, 2, 6, 0, 0, 1, 4, 1, 3, 5, 1, 8, 9, 6, 2, 6, 9, 5, 6, 5, 9, 1, 4, 2, 8, 9, 5, 4, 7, 0, 3, 7, 1, 6, 9, 1, 1, 4, 0, 5, 1, 6, 3, 0, 2, 5, 5, 5, 2, 8, 2, 3, 1, 6, 2, 7, 0, 8, 9, 2, 6, 4, 7, 5, 5, 8, 8, 7, 8, 5, 7, 4, 4, 0, 0, 7, 0, 4, 0, 4, 4, 2, 5, 4, 0, 7, 7, 7, 0, 4, 6, 2, 9, 1, 1, 5, 0, 9, 1, 0, 6, 5, 3, 0, 9, 0, 6, 2, 0, 4, 1, 6, 7, 6, 1, 0, 4, 6, 0, 4, 4, 2, 7, 6, 5, 3, 5, 9, 4, 5, 2, 0, 5, 7, 2, 3, 9, 4, 5, 8, 1, 9, 3, 1, 8, 5, 8, 6, 6, 3, 4, 0, 2, 3, 2, 6, 1, 8, 2, 1, 3, 6, 2, 2, 3, 3, 5, 0, 2, 1, 2, 8, 0, 8, 2, 2, 7, 3, 5, 9, 8, 3, 6, 1, 0, 8, 6, 3, 5, 8, 9, 4, 8, 0, 0, 2, 9, 1, 8, 3, 7, 2, 8, 0, 9, 4, 8, 9, 4, 8, 9, 5, 4, 8, 1, 5, 5, 7, 2, 5, 8, 8, 1, 2, 3, 1, 5, 0, 2, 3, 0, 8, 2, 2, 8, 7, 3, 5, 3, 9, 6, 3, 5, 1, 1, 7, 7, 3, 3, 8, 9, 6, 0, 8, 0, 6, 6, 4, 6, 9, 1, 1, 7, 0, 6, 8, 9, 0, 6, 9, 0, 1, 1, 7, 2, 1, 0, 4, 5, 0, 3, 6, 3, 3, 8, 1, 8, 1, 3, 1, 5, 4, 5, 1, 8, 9, 1, 3, 1, 7, 2, 9, 8, 9, 4, 6, 0, 9, 4, 0, 4, 6, 2, 1, 3, 0, 8, 5, 6, 0, 3, 4, 6, 9, 5, 7, 9, 0, 3, 6, 5, 7, 0, 5, 1, 2, 2, 9, 7, 0, 0, 1, 4, 4, 5, 5, 9, 6, 3, 6, 2, 6, 9, 3, 2, 3, 2, 4, 9, 5, 2, 1, 6, 6, 4, 7, 6, 3, 3, 8, 1, 4, 6, 4, 4, 5, 6, 2, 0, 5, 2, 7, 5, 2, 5, 2, 5, 9, 0, 6, 7, 9, 8, 3, 2, 1, 4, 3, 4, 5, 5, 6, 8, 6, 0, 8, 9, 8, 0, 7, 7, 6, 6, 7, 5, 9, 8, 7, 9, 5, 6, 0, 4, 8, 2, 0, 9, 1, 3, 9, 8, 3, 7, 4, 5, 0, 2, 1, 9, 1, 0, 5, 8, 4, 7, 3, 1, 4, 5, 3, 1, 0, 8, 8, 8, 2, 1, 3, 7, 3, 1, 6, 9, 1, 6, 0, 7, 7, 1, 3, 3, 3, 1, 0, 2, 7, 1, 2, 2, 9, 6, 3, 5, 9, 4, 8, 0, 4, 8, 0, 1, 3, 7, 0, 4, 7, 4, 8, 6, 4, 3, 9, 8, 2, 2, 8, 3, 1, 1, 2, 8, 2, 6, 9, 4, 8, 4, 4, 1, 5, 2, 6, 9, 2, 0, 7, 1, 8, 9, 3, 9, 9, 0, 7, 7, 5, 4, 2, 6, 4, 5, 7, 7, 8, 7, 2, 6, 2, 2, 4, 4, 0, 7, 1, 3, 9, 6, 0, 0, 2, 3, 8, 2, 2, 4, 3, 5, 2, 9, 1, 0, 0, 6, 5, 5, 7, 9, 9, 6, 5, 5, 0, 5, 7, 1, 6, 6, 4, 1, 4, 4, 1, 5, 0, 0, 4, 5, 8, 4, 8, 3, 0, 5, 0, 5, 3, 1, 6, 7, 0, 9, 1, 5, 7, 6, 5, 5, 5, 6, 0, 0, 1, 7, 5, 1, 9, 2, 4, 1, 3, 7, 8, 2, 0, 9, 6, 6, 0, 6, 5, 8, 2, 7, 4, 0, 2, 7, 7, 8, 8, 7, 0, 4, 9, 1, 4, 4, 3, 5, 4, 6, 2, 3, 1, 0, 3, 3, 3, 6, 3, 1, 2, 8, 9, 7, 9, 3, 8, 7, 3, 1, 7, 7, 3, 2, 2, 8, 9, 5, 9, 2, 1, 7, 4, 4, 0, 5, 7, 1, 5, 4, 0, 8, 4, 9, 8, 7, 8, 4, 2, 3, 4, 0, 5, 4, 1, 8, 2, 5, 4, 5, 2, 5, 3, 7, 9, 7, 1, 4, 1, 3, 1, 4, 5, 5, 1, 7, 1, 3, 0, 1, 2, 5, 7, 0, 6, 3, 5, 7, 5, 5, 8, 9, 4, 6, 3, 6, 6, 8, 2, 6, 4, 8, 4, 1, 3, 1, 2, 3, 3, 0, 1, 6, 4, 2, 8, 2, 4, 3, 1, 4, 4, 4, 4, 1, 5, 5, 7, 6, 5, 4, 5, 6, 5, 6, 2, 4, 7, 7, 4, 6, 5, 0, 2, 3, 9, 2, 3, 8, 0, 7, 0, 6, 8, 1, 2, 8, 9, 1, 5, 4, 2, 3, 5, 5, 3, 6, 5, 0, 3, 2, 1, 3, 3, 7, 7, 4, 9, 4, 3, 9, 5, 1, 7, 6, 6, 4, 8, 5, 1, 2, 8, 4, 5, 3, 3, 3, 0, 4, 8, 7, 7, 9, 4, 8, 4, 5, 9, 1, 8, 3, 1, 3, 8, 0, 3, 5, 4, 6, 9, 2, 7, 2, 0, 5, 2, 9, 7, 5, 0, 7, 0, 3, 5, 5, 3, 8, 7, 7, 9, 6, 5, 8, 9, 0, 1, 9, 4, 0, 0, 1, 7, 2, 2, 8, 5, 9, 8, 2, 8, 0, 6, 6, 8, 6, 9, 6, 1, 1, 5, 3, 5, 0, 7, 6, 1, 4, 4, 1, 1, 8, 1, 1, 2, 3, 4, 9, 9, 5, 2, 7, 3, 3, 6, 9, 6, 9, 8, 8, 6, 7, 4, 7, 2, 3, 8, 0, 9, 0, 7, 8, 1, 2, 3, 2, 4, 2, 9, 0, 3, 8, 9, 6, 5, 5, 2, 4, 1, 0, 6, 1, 8, 4, 5, 5, 5, 0, 8, 9, 0, 5, 7, 9, 6, 3, 4, 6, 4, 9, 7, 1, 2, 5, 2, 8, 0, 2, 2, 9, 8, 1, 9, 7, 7, 3, 1, 4, 1, 1, 3, 8, 8, 1, 9, 3, 8, 9, 5, 1, 1, 6, 2, 7, 2, 6, 2, 6, 9, 6, 0, 1, 3, 9, 3, 8, 8, 8, 2, 9, 1, 2, 6, 0, 5, 0, 7, 7, 7, 9, 4, 5, 0, 2, 3, 5, 5, 8, 9, 1, 2, 7, 1, 3, 4, 6, 9, 1, 0, 7, 1, 9, 5, 8, 1, 9, 9, 7, 9, 8, 3, 0, 2, 6, 0, 2, 2, 4, 0, 8, 4, 8, 1, 2, 7, 2, 7, 9, 5, 2, 2, 9, 2, 6, 5, 7, 2, 5, 6, 5, 1, 8, 2, 6, 8, 6, 3, 0, 8, 0, 0, 9, 9, 6, 8, 0, 6, 6, 0, 7, 9, 8, 0, 5, 0, 9, 6, 0, 4, 7, 1, 7, 8, 8, 2, 3, 9, 6, 5, 5, 3, 1, 5, 3, 0, 2, 5, 2, 7, 3, 8, 4, 4, 6, 1, 9, 4, 1, 7, 0, 1, 4, 3, 0, 2, 9, 4, 5, 0, 3, 4, 7, 2, 3, 0, 1, 3, 7, 9, 9, 0, 7, 5, 6, 7, 1, 2, 2, 7, 4, 6, 8, 4, 9, 8, 4, 9, 2, 3, 4, 0, 2, 5, 6, 0, 5, 3, 5, 8, 3, 7, 4, 9, 5, 6, 3, 8, 6, 9, 8, 5, 5, 8, 3, 5, 9, 0, 4, 2, 0, 5, 9, 9, 3, 8, 0, 6, 0, 2, 3, 7, 0, 0, 6, 9, 1, 5, 2, 2, 7, 9, 3, 9, 3, 5, 2, 2, 2, 8, 8, 5, 0, 0, 7, 0, 3, 1, 6, 5, 0, 9, 2, 6, 7, 4, 2, 0, 0, 5, 3, 3, 2, 6, 4, 2, 7, 8, 0, 1, 0, 1, 3, 6, 4, 8, 0, 6, 0, 9, 1, 6, 2, 1, 0, 1, 3, 0, 3, 7, 9, 9, 3, 7, 5, 7, 1, 6, 6, 1, 1, 1, 4, 4, 2, 1, 7, 0, 1, 2, 1, 1, 3, 2, 6, 9, 1, 3, 2, 0, 8, 7, 3, 4, 6, 4, 6, 9, 4, 8, 9, 3, 0, 5, 7, 2, 0, 2, 9, 9, 3, 8, 7, 1, 1, 2, 2, 2, 5, 9, 1, 2, 6, 1, 2, 1, 8, 9, 2, 3, 1, 9, 9, 4, 4, 5, 5, 0, 3, 3, 7, 1, 7, 7, 9, 8, 6, 3, 5, 5, 1, 6, 2, 7, 8, 4, 3, 3, 5, 9, 6, 8, 5, 1, 0, 6, 7, 0, 9, 6, 2, 0, 8, 7, 1, 2, 6, 9, 1, 6, 4, 7, 1, 9, 0, 0, 5, 2, 8, 3, 8, 2, 8, 4, 0, 8, 3, 6, 1, 2, 3, 0, 5, 0, 4, 1, 7, 2, 0, 1, 3, 9, 1, 6, 1, 6, 1, 2, 8, 7, 0, 9, 5, 8, 0, 0, 1, 7, 9, 7, 1, 9, 2, 1, 9, 4, 3, 6, 0, 2, 0, 0, 9, 9, 8, 9, 4, 5, 4, 3, 0, 7, 8, 7, 3, 7, 5, 4, 6, 5, 9, 5, 2, 4, 2, 7, 9, 6, 7, 4, 7, 1, 2, 3, 1, 1, 3, 6, 8, 3, 7, 7, 0, 8, 1, 5, 2, 5, 5, 3, 6, 3, 5, 9, 8, 4, 6, 8, 0, 4, 1, 7, 8, 4, 9, 7, 2, 6, 3, 8, 8, 6, 7, 3, 8, 1, 1, 5, 3, 7, 9, 9, 9, 8, 5, 9, 9, 6, 8, 8, 4, 8, 1, 0, 1, 8, 8, 6, 5, 9, 0, 6, 1, 2, 6, 6, 3, 5, 6, 5, 5, 3, 3, 6, 8, 9, 4, 4, 3, 8, 3, 6, 0, 8, 5, 7, 8, 4, 6, 5, 3, 1, 8, 3, 0, 4, 4, 3, 3, 5, 3, 3, 2, 7, 7, 8, 2, 0, 5, 5, 6, 1, 1, 3, 9, 9, 3, 6, 7, 1, 8, 3, 9, 8, 7, 8, 8, 0, 3, 2, 4, 8, 7, 5, 7, 1, 8, 7, 3, 5, 4, 4, 3, 8, 6, 1, 1, 6, 3, 2, 2, 8, 9, 8, 3, 3, 8, 1, 1, 0, 5, 2, 0, 5, 0, 5, 8, 6, 3, 9, 6, 6, 3, 9, 4, 8, 3, 4, 3, 1, 1, 2, 9, 7, 8, 5, 5, 8, 6, 9, 0, 8, 3, 5, 1, 3, 3, 5, 5, 3, 8, 1, 4, 6, 4, 2, 4, 3, 8, 9, 6, 6, 6, 5, 5, 2, 7, 7, 4, 4, 9, 3, 8, 3, 7, 7, 8, 5, 3, 9, 1, 6, 7, 3, 3, 3, 8, 5, 6, 1, 3, 7, 9, 6, 1, 6, 4, 9, 0, 5, 7, 4, 9, 1, 0, 0, 2, 7, 8, 3, 2, 7, 6, 1, 6, 6, 4, 4, 2, 1, 8, 4, 4, 7, 8, 5, 8, 9, 4, 3, 2, 2, 9, 3, 0, 1, 1, 1, 1, 6, 8, 7, 1, 3, 0, 4, 5, 0, 3, 0, 6, 2, 0, 9, 8, 6, 8, 5, 8, 2, 9, 6, 0, 6, 1, 8, 7, 3, 2, 2, 6, 5, 6, 9, 2, 5, 4, 9, 8, 5, 3, 9, 3, 5, 7, 1, 8, 5, 8, 6, 2, 5, 1, 3, 0, 4, 1, 9, 5, 4, 9, 2, 1, 4, 2, 5, 9, 8, 7, 2, 1, 6, 9, 7, 3, 6, 5, 8, 0, 2, 2, 4, 9, 0, 5, 5, 4, 2, 3, 1, 0, 3, 0, 4, 4, 9, 1, 3, 3, 0, 2, 1, 1, 0, 4, 1, 9, 4, 8, 1, 1, 1, 5, 9, 8, 1, 6, 7, 2, 9, 9, 7, 8, 8, 1, 9, 7, 8, 9, 1, 6, 6, 3, 3, 1, 3, 0, 8, 8, 3, 6, 6, 7, 1, 0, 7, 6, 4, 8, 2, 0, 6, 6, 8, 6, 3, 1, 1, 8, 6, 7, 0, 5, 4, 3, 2, 1, 7, 8, 2, 0, 1, 7, 4, 8, 7, 6, 6, 7, 0, 6, 4, 9, 2, 3, 2, 1, 3, 8, 6, 8, 1, 9, 6, 7, 6, 5, 0, 6, 0, 1, 3, 1, 1, 5, 3, 4, 3, 3, 8, 1, 6, 6, 1, 8, 8, 6, 2, 7, 4, 6, 8, 9, 3, 3, 5, 5, 3, 1, 4, 1, 9, 5, 1, 7, 7, 7, 5, 2, 3, 3, 6, 6, 6, 4, 0, 7, 1, 7, 3, 0, 8, 1, 2, 4, 1, 2, 2, 4, 9, 8, 2, 8, 7, 6, 3, 4, 7, 2, 3, 1, 5, 3, 0, 4, 3, 4, 9, 4, 7, 9, 1, 7, 8, 3, 1, 8, 3, 2, 5, 7, 2, 7, 9, 6, 8, 6, 8, 6, 5, 9, 0, 4, 8, 5, 6, 4, 3, 8, 0, 4, 8, 6, 7, 2, 7, 1, 7, 4, 1, 2, 4, 2, 2, 8, 7, 2, 2, 6, 7, 5, 6, 8, 9, 9, 6, 5, 2, 9, 8, 7, 2, 3, 3, 7, 4, 3, 2, 1, 9, 0, 1, 5, 3, 2, 6, 5, 9, 1, 5, 4, 3, 6, 2, 8, 9, 7, 8, 0, 8, 9, 1, 2, 5, 7, 2, 0, 6, 6, 1, 6, 3, 1, 5, 0, 3, 7, 4, 6, 5, 6, 4, 8, 3, 4, 5, 5, 0, 6, 6, 7, 5, 0, 9, 9, 6, 1, 0, 4, 6, 3, 6, 9, 3, 6, 6, 8, 2, 1, 0, 1, 9, 3, 7, 4, 3, 0, 2, 7, 6, 4, 3, 0, 8, 2, 0, 0, 9, 6, 6, 6, 8, 7, 4, 1, 8, 1, 2, 2, 4, 8, 5, 2, 6, 5, 3, 9, 1, 0, 7, 2, 4, 4, 0, 0, 6, 2, 2, 4, 0, 5, 9, 7, 1, 8, 4, 5, 5, 9, 8, 5, 7, 8, 0, 9, 8, 9, 1, 6, 3, 8, 0, 3, 4, 4, 8, 4, 8, 9, 8, 6, 0, 0, 8, 2, 7, 4, 2, 5, 6, 0, 5, 8, 4, 1, 9, 0, 1, 4, 4, 8, 4, 9, 6, 0, 7, 7, 6, 8, 9, 6, 2, 0, 4, 9, 4, 9, 3, 9, 6, 6, 7, 0, 9, 7, 1, 8, 6, 0, 6, 7, 4, 1, 9, 4, 6, 7, 9, 8, 3, 9, 2, 1, 2, 7, 6, 1, 0, 0, 5, 6, 0, 4, 3, 2, 8, 8, 0, 6, 9, 5, 2, 8, 7, 0, 6, 5, 9, 7, 2, 3, 6, 9, 6, 2, 2, 4, 1, 0, 5, 0, 8, 9, 3, 5, 9, 3, 8, 1, 6, 3, 7, 5, 6, 2, 0, 2, 8, 2, 8, 7, 7, 8, 1, 0, 8, 9, 7, 0, 3, 8, 0, 5, 9, 5, 8, 4, 2, 0, 9, 2, 2, 4, 4, 9, 2, 2, 2, 5, 1, 3, 2, 0, 0, 4, 0, 6, 5, 8, 0, 5, 8, 6, 4, 8, 5, 2, 9, 7, 9, 7, 1, 0, 1, 9, 6, 9, 2, 7, 9, 4, 4, 0, 6, 2, 4, 1, 3, 7, 2, 8, 5, 9, 0, 3, 2, 3, 2, 7, 6, 3, 2, 5, 9, 0, 5, 9, 9, 8, 7, 7, 4, 8, 6, 5, 2, 3, 1, 0, 4, 1, 8, 8, 4, 9, 4, 4, 3, 3, 9, 2, 0, 1, 1, 8, 4, 4, 8, 3, 2, 9, 5, 7, 6, 2, 5, 4, 7, 3, 3, 9, 0, 1, 5, 9, 3, 7, 6, 0, 4, 2, 2, 5, 6, 3, 8, 9, 5, 6, 1, 4, 5, 4, 6, 7, 2, 1, 0, 2, 0, 4, 9, 8, 8, 9, 1, 1, 5, 0, 0, 8, 7, 1, 7, 4, 5, 4, 3, 3, 2, 0, 6, 6, 0, 1, 3, 9, 8, 3, 7, 8, 9, 4, 8, 9, 0, 9, 7, 1, 6, 2, 9, 5, 6, 9, 3, 9, 8, 7, 7, 1, 6, 5, 3, 1, 3, 1, 2, 7, 1, 8, 2, 0, 9, 7, 9, 8, 8, 6, 7, 3, 7, 1, 3, 9, 0, 9, 3, 6, 7, 2, 7, 3, 0, 5, 9, 7, 5, 5, 0, 6, 5, 1, 8, 2, 7, 5, 9, 0, 0, 0, 8, 8, 7, 3, 7, 8, 9, 3, 7, 9, 7, 8, 7, 9, 8, 5, 4, 8, 3, 7, 6, 3, 8, 2, 1, 9, 5, 7, 3, 9, 5, 5, 8, 7, 3, 5, 3, 5, 9, 7, 6, 7, 3, 6, 4, 3, 9, 4, 2, 1, 9, 6, 0, 2, 6, 7, 4, 7, 9, 0, 7, 4, 3, 5, 3, 1, 1, 2, 6, 8, 2, 1, 7, 8, 5, 9, 6, 1, 1, 5, 0, 6, 0, 9, 2, 6, 5, 8, 9, 5, 5, 6, 2, 9, 1, 5, 8, 8, 7, 1, 7, 3, 5, 4, 9, 7, 5, 2, 9, 9, 4, 7, 4, 1, 3, 8, 7, 9, 0, 4, 5, 7, 5, 2, 8, 7, 6, 9, 6, 9, 3, 8, 5, 6, 6, 9, 5, 7, 8, 0, 5, 0, 7, 4, 8, 2, 5, 1, 3, 2, 2, 6, 2, 1, 7, 4, 6, 3, 1, 3, 7, 2, 1, 3, 7, 0, 8, 4, 4, 5, 7, 9, 5, 4, 3, 9, 6, 8, 2, 3, 3, 1, 6, 1, 7, 0, 3, 4, 2, 9, 4, 5, 8, 2, 7, 0, 9, 6, 8, 0, 8, 2, 8, 5, 7, 7, 2, 2, 0, 0, 0, 7, 4, 1, 6, 6, 8, 8, 9, 0, 9, 0, 1, 3, 3, 0, 9, 6, 6, 2, 6, 3, 4, 0, 8, 4, 1, 4, 0, 6, 5, 0, 9, 9, 9, 9, 1, 2, 3, 5, 4, 2, 9, 6, 0, 9, 6, 6, 8, 0, 6, 1, 4, 6, 8, 0, 5, 4, 1, 2, 0, 9, 6, 4, 2, 4, 6, 5, 9, 7, 7, 4, 6, 5, 0, 1, 9, 0, 3, 1, 9, 0, 9, 7, 8, 6, 7, 6, 8, 2, 4, 5, 3, 0, 3, 2, 1, 7, 5, 9, 3, 4, 5, 7, 1, 5, 0, 1, 1, 1, 9, 7, 5, 4, 9, 7, 8, 1, 0, 2, 8, 5, 6, 7, 0, 1, 4, 8, 4, 4, 6, 6, 5, 8, 1, 8, 4, 6, 5, 9, 2, 2, 1, 4, 9, 1, 6, 7, 2, 0, 1, 7, 6, 5, 2, 2, 5, 6, 0, 9, 0, 1, 5, 3, 3, 5, 8, 7, 5, 6, 5, 8, 0, 5, 9, 4, 6, 5, 1, 1, 0, 3, 3, 9, 4, 8, 1, 7, 7, 9, 9, 4, 3, 6, 3, 2, 8, 2, 7, 6, 7, 0, 2, 1, 2, 9, 4, 6, 9, 6, 1, 0, 1, 8, 7, 0, 0, 4, 7, 4, 2, 6, 9, 5, 9, 0, 7, 4, 5, 8, 1, 4, 7, 9, 9, 8, 8, 6, 3, 7, 0, 8, 9, 6, 2, 4, 6, 2, 9, 7, 4, 6, 8, 5, 6, 1, 3, 5, 9, 9, 1, 3, 2, 0, 3, 0, 2, 0, 7, 3, 9, 3, 5, 7, 6, 5, 9, 5, 6, 1, 2, 4, 0, 2, 7, 8, 4, 4, 0, 9, 5, 9, 2, 9, 3, 2, 4, 3, 2, 2, 8, 8, 6, 8, 1, 6, 8, 9, 8, 2, 1, 4, 9, 1, 5, 7, 1, 6, 0, 1, 5, 2, 8, 1, 1, 3, 8, 1, 3, 1, 8, 5, 1, 9, 0, 3, 0, 4, 0, 5, 1, 2, 0, 4, 9, 5, 1, 2, 2, 7, 8, 7, 2, 4, 5, 3, 4, 0, 6, 1, 5, 9, 8, 0, 2, 0, 7, 6, 0, 5, 9, 7, 5, 0, 4, 6, 0, 6, 3, 6, 8, 1, 1, 8, 9, 7, 2, 9, 0, 2, 2, 9, 0, 6, 5, 7, 7, 9, 1, 7, 9, 8, 4, 5, 0, 8, 0, 2, 5, 2, 1, 4, 4, 8, 9, 7, 8, 3, 6, 6, 0, 1, 1, 1, 8, 1, 4, 4, 0, 7, 8, 2, 1, 2, 5, 4, 6, 0, 5, 7, 4, 4, 3, 9, 5, 8, 8, 0, 8, 7, 4, 1, 8, 4, 9, 5, 4, 1, 7, 7, 7, 7, 0, 3, 8, 3, 3, 0, 5, 7, 0, 8, 0, 0, 9, 2, 2, 3, 4, 8, 2, 2, 6, 3, 3, 6, 2, 9, 4, 0, 1, 7, 5, 5, 7, 3, 0, 4, 2, 0, 7, 5, 8, 0, 8, 2, 7, 0, 3, 5, 3, 8, 3, 5, 1, 7]\n",
            "[3, 8, 8, 8, 6, 6, 1, 2, 3, 1, 0, 9, 5, 7, 9, 6, 5, 7, 8, 6, 7, 0, 4, 9, 4, 2, 3, 0, 9, 6, 6, 5, 4, 3, 9, 3, 4, 1, 9, 5, 4, 6, 7, 6, 0, 9, 3, 9, 4, 6, 9, 8, 0, 3, 8, 8, 7, 7, 5, 5, 7, 3, 6, 1, 6, 2, 1, 2, 3, 4, 2, 6, 8, 8, 0, 2, 0, 3, 5, 8, 8, 1, 1, 7, 2, 7, 5, 7, 8, 9, 0, 3, 8, 6, 4, 6, 6, 0, 0, 7, 4, 5, 6, 3, 1, 1, 0, 6, 8, 7, 4, 0, 2, 2, 1, 3, 0, 7, 3, 5, 8, 7, 1, 2, 8, 0, 8, 3, 5, 2, 4, 1, 8, 9, 5, 2, 9, 7, 2, 8, 6, 5, 6, 3, 8, 3, 6, 5, 5, 2, 8, 9, 6, 0, 0, 5, 2, 9, 3, 4, 2, 1, 5, 6, 0, 2, 8, 6, 5, 8, 9, 9, 8, 8, 9, 9, 5, 7, 3, 8, 0, 5, 2, 6, 3, 8, 6, 3, 2, 0, 6, 8, 8, 1, 7, 2, 8, 8, 7, 8, 5, 0, 8, 7, 1, 3, 0, 5, 7, 9, 5, 1, 5, 7, 8, 0, 7, 9, 0, 2, 7, 5, 9, 3, 3, 9, 6, 4, 5, 4, 5, 1, 5, 8, 8, 0, 4, 0, 5, 3, 1, 1, 8, 9, 0, 3, 1, 8, 2, 0, 5, 5, 9, 9, 4, 0, 6, 0, 8, 1, 8, 1, 3, 3, 0, 8, 5, 4, 7, 3, 2, 3, 6, 3, 8, 5, 1, 2, 4, 7, 9, 1, 6, 1, 0, 9, 1, 8, 7, 9, 1, 2, 6, 9, 3, 2, 6, 0, 0, 6, 6, 6, 4, 2, 6, 1, 9, 2, 1, 4, 0, 6, 0, 2, 4, 0, 7, 7, 5, 5, 3, 3, 2, 3, 7, 1, 7, 5, 4, 6, 1, 9, 3, 6, 6, 9, 3, 8, 0, 7, 2, 6, 2, 5, 8, 5, 4, 6, 8, 9, 1, 1, 0, 2, 2, 3, 6, 5, 1, 0, 9, 5, 8, 1, 9, 4, 1, 3, 8, 1, 3, 7, 9, 4, 2, 7, 9, 7, 8, 6, 6, 9, 0, 9, 2, 0, 7, 2, 5, 5, 1, 2, 6, 6, 9, 6, 5, 3, 0, 6, 9, 8, 7, 8, 8, 4, 0, 1, 8, 3, 7, 9, 3, 6, 1, 9, 3, 2, 5, 7, 4, 5, 0, 0, 2, 9, 6, 4, 0, 6, 3, 5, 3, 5, 9, 7, 2, 4, 3, 1, 1, 4, 9, 9, 5, 7, 5, 0, 2, 2, 2, 9, 7, 3, 9, 2, 4, 5, 3, 8, 5, 6, 1, 4, 3, 4, 4, 3, 7, 8, 5, 7, 8, 0, 5, 7, 6, 0, 2, 6, 9, 6, 8, 3, 5, 8, 9, 9, 6, 0, 1, 0, 8, 1, 1, 8, 1, 2, 2, 0, 4, 6, 5, 4, 9, 4, 7, 9, 9, 4, 5, 6, 6, 1, 5, 3, 8, 9, 3, 8, 5, 7, 8, 7, 0, 3, 0, 0, 4, 6, 9, 0, 9, 5, 6, 6, 6, 2, 9, 1, 1, 7, 6, 7, 5, 9, 1, 6, 3, 3, 5, 3, 8, 3, 9, 4, 3, 4, 3, 2, 0, 7, 6, 3, 2, 5, 9, 3, 9, 2, 6, 7, 1, 3, 6, 6, 8, 4, 7, 6, 4, 0, 8, 4, 0, 9, 3, 4, 8, 9, 6, 1, 2, 6, 1, 4, 7, 7, 3, 3, 9, 5, 0, 2, 1, 6, 3, 2, 3, 9, 6, 1, 8, 8, 5, 8, 6, 4, 2, 1, 7, 7, 1, 4, 7, 9, 9, 4, 4, 1, 2, 2, 6, 3, 4, 6, 8, 6, 0, 5, 4, 6, 2, 7, 8, 9, 3, 4, 4, 5, 3, 9, 5, 6, 9, 9, 1, 1, 4, 1, 9, 4, 7, 6, 3, 8, 9, 0, 1, 5, 6, 5, 5, 3, 6, 8, 4, 1, 2, 5, 1, 6, 3, 8, 9, 6, 9, 2, 3, 6, 3, 2, 0, 7, 8, 6, 8, 6, 7, 5, 7, 2, 4, 8, 7, 4, 2, 9, 9, 8, 2, 8, 8, 5, 4, 3, 3, 8, 4, 8, 4, 8, 8, 1, 8, 8, 1, 3, 6, 5, 4, 2, 7, 9, 1, 6, 1, 4, 1, 3, 2, 7, 0, 7, 1, 7, 6, 6, 2, 3, 9, 0, 9, 1, 2, 4, 6, 8, 2, 1, 7, 5, 6, 0, 1, 2, 8, 9, 5, 4, 6, 1, 6, 6, 0, 6, 5, 6, 0, 6, 9, 1, 7, 6, 7, 0, 3, 9, 6, 8, 3, 0, 3, 7, 4, 7, 3, 3, 7, 4, 7, 1, 2, 7, 4, 4, 8, 4, 7, 5, 3, 5, 4, 2, 1, 8, 9, 4, 8, 1, 6, 2, 8, 8, 7, 6, 7, 6, 5, 3, 1, 3, 2, 5, 5, 4, 9, 4, 9, 2, 7, 0, 7, 2, 1, 2, 2, 0, 2, 4, 7, 9, 0, 1, 0, 7, 7, 0, 7, 8, 4, 6, 6, 3, 0, 1, 6, 4, 0, 1, 3, 1, 4, 2, 3, 8, 4, 2, 3, 7, 8, 4, 2, 0, 9, 0, 0, 2, 1, 6, 4, 6, 7, 7, 1, 1, 3, 7, 3, 5, 6, 6, 6, 5, 8, 7, 1, 6, 8, 8, 5, 3, 2, 4, 0, 1, 3, 8, 8, 0, 6, 9, 5, 1, 1, 3, 8, 6, 0, 8, 4, 2, 1, 2, 7, 2, 2, 5, 9, 8, 9, 7, 7, 6, 0, 3, 0, 1, 3, 8, 3, 9, 6, 1, 4, 7, 8, 3, 7, 8, 9, 6, 1, 6, 6, 6, 6, 9, 1, 9, 9, 4, 6, 1, 7, 0, 6, 8, 1, 9, 2, 9, 7, 4, 7, 8, 5, 1, 6, 0, 1, 5, 8, 7, 6, 2, 8, 1, 3, 8, 5, 8, 1, 4, 8, 1, 1, 8, 1, 6, 0, 8, 6, 1, 3, 4, 1, 6, 0, 5, 1, 1, 0, 0, 3, 5, 0, 0, 6, 6, 3, 3, 6, 3, 3, 6, 0, 7, 2, 2, 5, 5, 0, 7, 8, 5, 2, 8, 1, 1, 7, 6, 0, 5, 1, 5, 5, 7, 6, 8, 9, 1, 8, 4, 3, 3, 1, 0, 9, 6, 3, 6, 8, 7, 3, 8, 0, 0, 0, 6, 6, 6, 9, 2, 5, 7, 4, 6, 3, 6, 8, 8, 3, 4, 5, 6, 7, 5, 1, 2, 4, 8, 8, 0, 9, 4, 9, 7, 2, 0, 2, 8, 4, 8, 9, 1, 5, 5, 4, 7, 5, 3, 8, 3, 2, 6, 0, 8, 4, 3, 3, 9, 6, 4, 1, 6, 9, 9, 5, 8, 6, 1, 8, 6, 1, 6, 2, 6, 2, 7, 7, 2, 0, 8, 6, 9, 1, 1, 1, 8, 8, 0, 7, 7, 8, 8, 5, 3, 2, 7, 7, 7, 2, 3, 1, 9, 1, 1, 2, 3, 3, 6, 1, 0, 4, 9, 4, 1, 0, 0, 1, 1, 6, 2, 4, 6, 2, 0, 7, 1, 8, 7, 2, 0, 6, 0, 1, 0, 8, 7, 0, 6, 1, 8, 5, 7, 8, 3, 8, 3, 4, 7, 9, 8, 4, 6, 6, 5, 3, 1, 3, 9, 1, 4, 1, 5, 3, 0, 1, 3, 6, 0, 9, 8, 3, 3, 7, 2, 4, 4, 7, 2, 3, 8, 2, 4, 9, 2, 7, 8, 1, 9, 8, 8, 8, 9, 0, 4, 3, 3, 1, 8, 3, 6, 3, 2, 5, 2, 2, 3, 3, 8, 9, 3, 8, 9, 8, 9, 1, 6, 5, 0, 4, 4, 8, 0, 7, 2, 9, 9, 3, 1, 6, 4, 0, 9, 1, 0, 5, 6, 0, 8, 4, 1, 9, 4, 5, 9, 5, 0, 7, 2, 0, 8, 4, 2, 6, 6, 3, 5, 2, 8, 1, 7, 4, 1, 4, 5, 6, 3, 1, 4, 4, 0, 9, 4, 2, 8, 6, 8, 6, 7, 2, 8, 1, 3, 6, 8, 8, 9, 7, 9, 5, 1, 4, 0, 8, 2, 3, 8, 9, 1, 9, 5, 2, 4, 9, 8, 1, 7, 3, 6, 2, 8, 9, 5, 3, 9, 5, 4, 6, 2, 2, 4, 5, 6, 1, 0, 7, 0, 5, 4, 7, 6, 1, 1, 9, 8, 1, 0, 1, 3, 1, 1, 1, 7, 3, 9, 2, 8, 4, 6, 8, 4, 9, 3, 7, 1, 7, 6, 8, 6, 9, 7, 0, 1, 6, 1, 6, 1, 8, 4, 6, 6, 1, 3, 0, 8, 4, 6, 2, 6, 5, 6, 3, 6, 4, 1, 1, 8, 6, 9, 2, 8, 1, 9, 7, 1, 3, 3, 7, 0, 7, 7, 5, 9, 7, 7, 7, 7, 1, 2, 8, 6, 4, 0, 7, 9, 8, 6, 8, 6, 1, 1, 7, 0, 2, 8, 9, 8, 1, 3, 2, 5, 1, 2, 7, 4, 8, 1, 8, 1, 8, 6, 0, 2, 2, 1, 3, 6, 7, 7, 4, 4, 3, 3, 4, 7, 2, 6, 9, 7, 8, 7, 6, 4, 3, 4, 8, 2, 8, 4, 5, 5, 4, 1, 4, 0, 4, 1, 6, 2, 3, 4, 4, 0, 8, 8, 4, 5, 7, 5, 6, 9, 1, 6, 7, 5, 9, 1, 7, 5, 6, 0, 9, 2, 6, 3, 6, 0, 5, 5, 9, 1, 7, 7, 5, 0, 5, 6, 4, 1, 4, 3, 3, 6, 7, 3, 5, 5, 8, 9, 7, 3, 1, 3, 2, 7, 6, 4, 2, 3, 1, 1, 1, 3, 7, 0, 7, 4, 3, 1, 4, 2, 4, 3, 8, 9, 4, 9, 9, 1, 8, 1, 6, 7, 5, 6, 4, 9, 4, 6, 5, 9, 6, 4, 0, 7, 9, 6, 5, 0, 0, 1, 9, 8, 2, 5, 4, 8, 3, 6, 3, 6, 0, 6, 6, 6, 9, 6, 6, 8, 6, 0, 4, 5, 8, 1, 2, 7, 6, 6, 7, 8, 8, 6, 8, 8, 6, 9, 2, 8, 9, 8, 0, 9, 4, 9, 5, 7, 5, 5, 9, 5, 3, 0, 1, 9, 1, 6, 6, 1, 0, 9, 5, 5, 1, 7, 8, 0, 4, 8, 6, 2, 2, 0, 0, 1, 0, 8, 8, 3, 1, 3, 9, 0, 5, 6, 3, 4, 1, 5, 8, 1, 0, 5, 2, 1, 0, 2, 8, 1, 5, 6, 7, 7, 5, 6, 2, 3, 0, 1, 4, 2, 5, 4, 6, 2, 2, 1, 7, 6, 2, 5, 5, 3, 0, 4, 8, 5, 7, 6, 3, 8, 1, 0, 1, 0, 3, 3, 7, 6, 9, 5, 3, 6, 0, 1, 4, 7, 4, 4, 2, 5, 1, 8, 1, 5, 9, 8, 8, 1, 5, 2, 1, 9, 7, 6, 5, 0, 8, 4, 0, 7, 9, 2, 8, 4, 7, 1, 3, 9, 6, 8, 9, 3, 4, 1, 3, 7, 8, 0, 7, 8, 9, 7, 2, 5, 3, 7, 3, 0, 0, 9, 5, 5, 8, 5, 4, 2, 8, 6, 4, 1, 7, 7, 8, 6, 2, 8, 2, 3, 5, 6, 8, 0, 2, 3, 7, 0, 1, 9, 1, 4, 6, 5, 8, 3, 2, 9, 6, 8, 6, 9, 3, 8, 9, 0, 0, 7, 8, 5, 0, 0, 1, 3, 5, 1, 3, 5, 7, 6, 0, 9, 9, 9, 2, 8, 2, 4, 2, 2, 5, 1, 3, 1, 0, 1, 4, 2, 1, 6, 0, 5, 9, 4, 3, 7, 0, 5, 3, 2, 2, 8, 4, 7, 8, 6, 5, 0, 5, 7, 4, 4, 4, 2, 7, 1, 6, 8, 2, 7, 6, 0, 3, 1, 7, 7, 8, 9, 9, 4, 6, 0, 6, 8, 5, 5, 6, 3, 9, 3, 2, 2, 7, 6, 4, 9, 5, 5, 7, 1, 6, 2, 9, 2, 5, 9, 8, 5, 6, 3, 4, 5, 7, 2, 7, 0, 9, 1, 7, 2, 5, 6, 8, 6, 6, 6, 2, 1, 9, 8, 5, 3, 6, 4, 5, 9, 7, 6, 4, 1, 4, 2, 6, 6, 3, 4, 2, 8, 0, 0, 1, 8, 5, 1, 5, 3, 8, 4, 8, 3, 8, 6, 5, 5, 5, 6, 0, 8, 5, 3, 4, 1, 8, 4, 7, 4, 3, 4, 2, 9, 6, 2, 2, 4, 3, 0, 6, 0, 1, 3, 2, 8, 7, 2, 1, 0, 7, 7, 2, 2, 1, 6, 5, 0, 4, 2, 0, 1, 2, 6, 0, 9, 6, 6, 5, 3, 5, 0, 3, 1, 1, 0, 2, 5, 9, 7, 8, 6, 7, 6, 0, 2, 0, 9, 1, 4, 6, 4, 0, 7, 2, 5, 5, 8, 9, 2, 6, 8, 9, 7, 1, 9, 3, 7, 2, 7, 9, 6, 9, 5, 7, 8, 3, 0, 8, 5, 9, 7, 0, 3, 5, 7, 1, 5, 0, 5, 3, 0, 2, 2, 4, 3, 9, 5, 9, 9, 3, 1, 4, 3, 4, 4, 9, 0, 1, 6, 9, 2, 9, 4, 0, 2, 8, 2, 8, 6, 1, 2, 0, 5, 9, 6, 9, 1, 1, 3, 4, 4, 2, 7, 2, 6, 4, 0, 5, 8, 4, 6, 1, 2, 6, 8, 3, 7, 6, 8, 7, 4, 3, 3, 3, 5, 7, 2, 5, 6, 1, 7, 1, 0, 3, 3, 9, 8, 1, 5, 0, 0, 7, 3, 3, 2, 0, 3, 4, 0, 1, 5, 4, 6, 4, 6, 3, 8, 8, 6, 3, 3, 4, 9, 7, 3, 1, 6, 0, 5, 9, 9, 7, 5, 9, 4, 8, 3, 3, 2, 5, 1, 9, 5, 5, 1, 1, 8, 9, 7, 2, 3, 3, 2, 0, 2, 6, 9, 3, 9, 1, 6, 4, 7, 2, 6, 3, 2, 5, 5, 2, 7, 3, 2, 2, 8, 0, 5, 7, 0, 7, 4, 0, 3, 2, 6, 9, 3, 9, 7, 6, 2, 7, 0, 5, 6, 0, 1, 1, 8, 5, 3, 5, 1, 2, 4, 8, 0, 8, 1, 3, 4, 7, 2, 6, 2, 6, 7, 9, 4, 0, 1, 0, 4, 2, 0, 8, 8, 8, 6, 1, 8, 8, 5, 9, 2, 5, 4, 3, 9, 0, 6, 1, 5, 2, 1, 6, 0, 7, 6, 8, 8, 0, 0, 9, 6, 7, 6, 4, 9, 2, 4, 3, 0, 6, 6, 6, 3, 6, 7, 8, 4, 1, 8, 4, 2, 8, 9, 2, 5, 6, 0, 4, 8, 0, 9, 0, 6, 6, 0, 9, 1, 7, 4, 3, 2, 3, 6, 9, 6, 2, 5, 1, 8, 5, 4, 1, 6, 8, 6, 8, 5, 9, 0, 1, 9, 2, 9, 2, 9, 0, 9, 7, 8, 5, 0, 6, 6, 8, 1, 6, 5, 8, 7, 1, 2, 1, 6, 4, 3, 6, 2, 0, 0, 8, 9, 5, 8, 9, 0, 3, 2, 4, 4, 8, 8, 1, 9, 3, 0, 4, 6, 4, 1, 2, 2, 1, 2, 2, 9, 7, 5, 1, 9, 1, 6, 3, 2, 4, 8, 9, 5, 1, 3, 1, 3, 9, 2, 5, 1, 6, 8, 2, 1, 2, 3, 2, 4, 8, 6, 0, 4, 6, 2, 9, 8, 7, 7, 6, 2, 4, 7, 7, 6, 4, 2, 2, 3, 2, 4, 7, 0, 2, 9, 6, 5, 8, 4, 2, 4, 8, 8, 5, 6, 5, 7, 6, 5, 7, 0, 4, 0, 3, 8, 4, 8, 0, 4, 3, 3, 3, 3, 8, 1, 6, 7, 8, 4, 3, 1, 4, 5, 2, 3, 3, 2, 0, 7, 1, 3, 5, 7, 1, 8, 0, 8, 8, 2, 7, 7, 0, 2, 6, 4, 4, 3, 9, 4, 1, 6, 4, 6, 7, 4, 2, 3, 3, 1, 3, 1, 7, 6, 7, 2, 7, 4, 5, 4, 9, 7, 7, 2, 3, 3, 6, 9, 4, 1, 6, 1, 0, 6, 3, 6, 0, 6, 0, 6, 4, 7, 0, 0, 0, 0, 7, 5, 3, 2, 7, 8, 3, 3, 2, 2, 8, 9, 1, 2, 7, 0, 3, 4, 3, 1, 2, 0, 8, 0, 3, 6, 3, 2, 7, 5, 1, 8, 9, 0, 3, 0, 5, 2, 3, 4, 6, 2, 0, 8, 5, 9, 2, 6, 6, 5, 7, 3, 7, 2, 8, 0, 4, 2, 0, 6, 2, 9, 9, 8, 2, 3, 1, 0, 5, 2, 5, 7, 6, 3, 3, 1, 1, 3, 2, 7, 2, 4, 1, 9, 4, 3, 5, 4, 5, 7, 6, 1, 2, 7, 7, 3, 4, 2, 7, 7, 0, 0, 0, 4, 4, 3, 7, 9, 8, 7, 0, 9, 0, 3, 7, 5, 5, 8, 4, 5, 6, 5, 7, 2, 2, 1, 2, 7, 3, 2, 0, 1, 9, 3, 7, 9, 4, 1, 6, 0, 9, 3, 7, 2, 4, 5, 2, 6, 6, 5, 3, 0, 4, 3, 3, 8, 1, 2, 3, 4, 7, 1, 3, 5, 1, 0, 6, 6, 3, 4, 2, 9, 7, 5, 2, 0, 4, 3, 5, 5, 6, 6, 5, 6, 9, 4, 2, 0, 8, 3, 1, 1, 8, 8, 9, 0, 3, 0, 4, 7, 7, 2, 6, 5, 6, 9, 7, 3, 5, 7, 0, 8, 6, 5, 8, 3, 8, 9, 5, 2, 9, 2, 7, 4, 1, 9, 7, 0, 8, 1, 4, 0, 6, 5, 1, 4, 2, 8, 2, 8, 3, 3, 1, 4, 9, 8, 1, 1, 3, 9, 9, 4, 6, 8, 5, 5, 2, 2, 3, 8, 5, 1, 9, 4, 3, 1, 8, 3, 9, 0, 3, 8, 9, 3, 0, 3, 0, 8, 0, 4, 0, 3, 0, 3, 0, 7, 0, 5, 5, 4, 3, 0, 9, 4, 0, 6, 2, 0, 8, 4, 4, 5, 2, 8, 1, 1, 3, 5, 4, 3, 8, 0, 8, 4, 8, 5, 5, 4, 5, 1, 7, 2, 4, 0, 5, 6, 8, 7, 6, 3, 1, 7, 5, 6, 4, 5, 5, 3, 9, 8, 7, 3, 0, 6, 7, 1, 1, 9, 6, 9, 3, 1, 2, 3, 9, 8, 3, 0, 7, 4, 8, 4, 7, 5, 8, 6, 0, 3, 0, 8, 2, 4, 3, 9, 4, 6, 1, 3, 7, 7, 9, 0, 1, 3, 1, 3, 0, 3, 0, 7, 8, 3, 1, 3, 2, 1, 8, 8, 1, 9, 7, 3, 3, 2, 9, 8, 6, 8, 4, 1, 5, 7, 0, 6, 7, 7, 4, 9, 0, 7, 8, 6, 7, 1, 8, 5, 8, 8, 3, 0, 0, 6, 0, 3, 7, 0, 6, 4, 2, 9, 1, 8, 6, 3, 9, 6, 9, 3, 3, 4, 5, 9, 7, 5, 4, 3, 8, 8, 8, 9, 5, 3, 1, 9, 2, 2, 0, 1, 9, 8, 1, 1, 0, 8, 9, 9, 1, 2, 4, 9, 1, 9, 2, 1, 8, 2, 7, 9, 9, 1, 9, 9, 2, 9, 7, 0, 5, 3, 3, 9, 8, 3, 0, 6, 7, 7, 4, 8, 3, 0, 2, 2, 3, 6, 7, 6, 6, 6, 5, 6, 3, 4, 5, 8, 0, 0, 1, 6, 9, 8, 6, 9, 6, 1, 7, 7, 2, 1, 9, 5, 7, 7, 6, 9, 8, 2, 3, 8, 5, 3, 7, 8, 3, 5, 5, 9, 6, 1, 1, 7, 4, 8, 7, 7, 1, 5, 0, 3, 2, 5, 4, 9, 3, 5, 4, 7, 3, 3, 7, 0, 2, 1, 0, 8, 7, 5, 5, 7, 8, 5, 7, 8, 9, 4, 7, 7, 0, 8, 3, 2, 9, 5, 7, 9, 6, 7, 9, 8, 5, 5, 4, 1, 0, 9, 4, 3, 7, 4, 4, 8, 0, 8, 2, 9, 6, 9, 7, 7, 2, 5, 5, 2, 9, 6, 7, 7, 8, 0, 7, 0, 2, 5, 3, 5, 4, 5, 2, 3, 7, 8, 7, 2, 5, 8, 8, 7, 0, 9, 6, 1, 8, 5, 1, 7, 2, 9, 1, 6, 8, 1, 6, 3, 0, 5, 4, 8, 9, 4, 4, 4, 1, 1, 4, 3, 8, 7, 9, 3, 1, 2, 1, 6, 6, 4, 5, 7, 4, 5, 8, 3, 4, 8, 7, 8, 2, 6, 6, 1, 5, 7, 1, 5, 1, 9, 0, 1, 2, 0, 0, 2, 4, 8, 5, 7, 6, 1, 4, 9, 7, 3, 3, 8, 7, 3, 4, 4, 1, 4, 3, 0, 3, 8, 5, 0, 0, 6, 3, 0, 8, 4, 5, 5, 5, 6, 4, 7, 9, 6, 4, 0, 2, 2, 0, 0, 5, 4, 6, 1, 1, 5, 3, 2, 2, 6, 3, 4, 5, 0, 1, 7, 2, 3, 9, 6, 5, 0, 2, 9, 5, 1, 7, 2, 2, 0, 6, 6, 6, 3, 2, 7, 7, 0, 4, 1, 6, 5, 1, 3, 8, 3, 9, 0, 1, 7, 0, 0, 3, 0, 1, 1, 8, 4, 9, 4, 2, 4, 3, 3, 6, 4, 4, 4, 5, 8, 9, 1, 5, 8, 1, 8, 2, 6, 4, 2, 4, 1, 1, 6, 6, 8, 5, 2, 0, 5, 0, 2, 2, 3, 6, 2, 9, 6, 1, 4, 5, 9, 0, 9, 4, 0, 0, 1, 1, 3, 6, 1, 5, 4, 9, 5, 8, 6, 9, 1, 7, 6, 0, 5, 5, 6, 3, 2, 3, 3, 4, 9, 7, 1, 4, 4, 1, 1, 3, 8, 8, 6, 6, 7, 7, 4, 7, 2, 3, 2, 4, 6, 2, 7, 2, 3, 3, 3, 2, 4, 3, 2, 9, 9, 5, 1, 1, 7, 3, 7, 4, 3, 2, 1, 0, 4, 3, 5, 4, 0, 9, 4, 3, 3, 8, 0, 1, 3, 3, 7, 6, 2, 9, 7, 2, 8, 1, 8, 9, 9, 3, 1, 7, 3, 0, 0, 2, 8, 2, 9, 2, 2, 4, 6, 0, 1, 6, 1, 6, 4, 5, 5, 6, 3, 9, 4, 0, 0, 3, 4, 9, 5, 1, 0, 0, 2, 4, 3, 9, 2, 8, 9, 5, 7, 9, 1, 4, 8, 2, 8, 2, 7, 8, 9, 3, 1, 1, 3, 5, 8, 2, 6, 2, 5, 2, 6, 3, 2, 9, 1, 6, 6, 8, 5, 2, 2, 7, 1, 6, 2, 6, 9, 6, 8, 1, 6, 9, 5, 7, 3, 3, 2, 9, 7, 0, 2, 9, 8, 4, 1, 6, 9, 5, 9, 9, 7, 3, 6, 0, 0, 7, 4, 2, 4, 7, 0, 1, 8, 1, 0, 8, 6, 1, 9, 9, 0, 8, 2, 5, 6, 9, 7, 4, 2, 4, 2, 0, 0, 5, 4, 7, 4, 7, 1, 2, 2, 8, 6, 1, 7, 5, 6, 5, 7, 9, 0, 7, 8, 5, 9, 2, 8, 0, 4, 3, 7, 9, 8, 1, 4, 5, 8, 9, 3, 2, 6, 4, 0, 4, 0, 1, 4, 0, 8, 3, 5, 7, 9, 0, 4, 7, 9, 1, 5, 6, 9, 8, 4, 2, 0, 9, 0, 8, 6, 9, 2, 2, 3, 8, 1, 9, 1, 8, 3, 7, 6, 4, 2, 3, 7, 0, 5, 5, 8, 8, 8, 5, 9, 6, 2, 7, 4, 7, 7, 6, 7, 1, 7, 3, 6, 8, 3, 6, 6, 7, 1, 5, 9, 7, 0, 7, 0, 1, 6, 0, 6, 1, 0, 9, 2, 5, 2, 2, 3, 2, 9, 8, 7, 4, 4, 9, 3, 6, 7, 7, 8, 2, 3, 5, 1, 9, 0, 6, 5, 1, 5, 6, 2, 6, 4, 6, 8, 8, 9, 6, 6, 1, 0, 7, 5, 8, 2, 9, 5, 8, 1, 4, 4, 5, 0, 3, 0, 9, 5, 2, 8, 7, 5, 1, 0, 4, 4, 8, 2, 3, 0, 7, 9, 8, 7, 1, 2, 2, 1, 8, 6, 9, 9, 6, 7, 7, 1, 9, 2, 4, 2, 0, 6, 8, 3, 6, 7, 2, 9, 0, 6, 4, 0, 0, 5, 8, 6, 8, 2, 7, 7, 1, 3, 8, 1, 2, 5, 1, 4, 8, 9, 6, 4, 8, 1, 1, 4, 0, 2, 1, 4, 3, 6, 2, 2, 0, 0, 9, 7, 0, 4, 4, 3, 2, 7, 7, 4, 5, 4, 3, 5, 5, 4, 7, 0, 0, 7, 7, 1, 6, 5, 0, 7, 7, 4, 6, 1, 8, 5, 9, 6, 5, 6, 2, 2, 7, 5, 5, 8, 1, 0, 6, 8, 7, 7, 8, 5, 7, 3, 4, 9, 7, 5, 5, 8, 8, 3, 9, 4, 7, 2, 0, 8, 0, 7, 8, 3, 6, 5, 2, 3, 5, 0, 3, 8, 2, 4, 0, 6, 9, 5, 6, 0, 8, 2, 0, 6, 1, 1, 6, 1, 4, 2, 9, 0, 2, 6, 4, 3, 7, 8, 8, 5, 1, 8, 2, 2, 3, 9, 6, 4, 3, 0, 7, 3, 3, 2, 4, 4, 5, 6, 8, 6, 1, 8, 1, 0, 9, 3, 1, 0, 5, 5, 2, 7, 3, 6, 7, 2, 0, 0, 5, 7, 4, 4, 7, 0, 6, 1, 7, 9, 0, 0, 0, 3, 8, 4, 0, 8, 4, 1, 0, 2, 4, 4, 1, 1, 2, 4, 3, 4, 1, 4, 7, 1, 0, 2, 9, 0, 4, 0, 8, 8, 5, 5, 0, 4, 8, 8, 3, 2, 5, 9, 2, 9, 1, 1, 3, 2, 7, 5, 0, 6, 7, 1, 5, 7, 3, 4, 1, 8, 9, 9, 8, 9, 8, 6, 8, 5, 8, 9, 4, 6, 2, 6, 3, 7, 7, 0, 0, 1, 7, 3, 1, 5, 9, 3, 1, 6, 0, 7, 3, 6, 1, 6, 2, 3, 1, 9, 2, 6, 1, 9, 0, 0, 1, 9, 9, 2, 8, 4, 5, 5, 1, 0, 5, 3, 0, 5, 4, 7, 3, 0, 1, 6, 8, 8, 1, 2, 0, 5, 4, 5, 9, 6, 7, 1, 0, 6, 9, 4, 2, 7, 7, 8, 9, 1, 9, 7, 0, 1, 3, 5, 4, 6, 3, 8, 8, 0, 4, 8, 5, 6, 7, 3, 0, 4, 5, 2, 6, 8, 4, 9, 9, 9, 2, 0, 2, 7, 8, 1, 1, 0, 0, 5, 7, 4, 1, 1, 9, 7, 7, 4, 6, 8, 6, 0, 2, 8, 5, 8, 3, 7, 5, 7, 9, 8, 4, 7, 3, 1, 4, 8, 4, 6, 5, 3, 4, 8, 9, 5, 7, 6, 2, 0, 2, 9, 9, 0, 5, 2, 8, 2, 1, 1, 0, 2, 8, 2, 1, 1, 2, 5, 2, 5, 2, 1, 6, 9, 2, 1, 7, 4, 8, 1, 0, 0, 4, 9, 0, 2, 2, 0, 6, 8, 7, 3, 3, 8, 9, 0, 2, 1, 3, 6, 1, 3, 9, 5, 0, 5, 4, 4, 1, 1, 5, 6, 1, 7, 9, 1, 6, 2, 4, 7, 8, 3, 4, 7, 6, 4, 8, 4, 8, 5, 8, 8, 8, 3, 3, 5, 7, 4, 0, 4, 1, 5, 9, 7, 0, 6, 8, 3, 9, 0, 9, 8, 9, 9, 3, 9, 2, 4, 4, 0, 5, 6, 6, 4, 5, 1, 9, 8, 2, 6, 9, 6, 7, 8, 9, 2, 4, 1, 7, 4, 0, 4, 7, 1, 0, 5, 3, 3, 4, 3, 2, 0, 0, 3, 1, 5, 3, 7, 4, 4, 8, 4, 8, 9, 9, 4, 2, 4, 3, 6, 4, 6, 4, 6, 6, 3, 1, 7, 4, 8, 0, 5, 9, 3, 2, 0, 7, 5, 1, 9, 5, 9, 3, 8, 4, 2, 1, 6, 4, 8, 7, 1, 6, 8, 6, 1, 7, 1, 4, 2, 4, 3, 6, 9, 7, 8, 2, 5, 5, 4, 5, 4, 5, 7, 6, 5, 4, 1, 7, 7, 8, 3, 6, 0, 2, 5, 2, 5, 0, 4, 5, 1, 6, 8, 6, 0, 3, 2, 4, 5, 9, 7, 9, 4, 1, 3, 6, 1, 5, 3, 0, 0, 6, 6, 8, 6, 6, 0, 3, 4, 7, 7, 8, 4, 9, 9, 3, 4, 1, 6, 8, 3, 7, 1, 2, 2, 8, 6, 5, 8, 3, 5, 6, 2, 6, 0, 6, 1, 9, 5, 2, 9, 3, 8, 9, 9, 4, 1, 6, 9, 9, 3, 4, 9, 8, 1, 4, 9, 5, 9, 0, 9, 7, 2, 2, 4, 4, 6, 4, 0, 1, 9, 5, 6, 3, 1, 8, 6, 0, 7, 6, 5, 1, 5, 9, 6, 1, 0, 8, 1, 6, 4, 4, 0, 7, 9, 1, 0, 5, 5, 1, 6, 9, 8, 6, 0, 6, 1, 6, 3, 3, 5, 4, 1, 0, 7, 2, 2, 8, 3, 5, 8, 6, 9, 9, 9, 4, 6, 3, 3, 9, 5, 4, 0, 9, 4, 0, 7, 3, 3, 1, 8, 5, 0, 5, 2, 8, 8, 0, 8, 6, 0, 9, 5, 3, 4, 1, 3, 0, 7, 2, 9, 3, 3, 3, 1, 4, 6, 4, 9, 9, 7, 1, 4, 0, 1, 2, 1, 5, 3, 8, 4, 1, 9, 9, 9, 9, 7, 0, 1, 7, 6, 2, 6, 5, 1, 5, 9, 3, 1, 9, 9, 2, 8, 8, 7, 9, 3, 9, 1, 3, 6, 7, 6, 0, 8, 6, 2, 4, 2, 3, 3, 5, 4, 1, 6, 5, 1, 2, 1, 4, 1, 6, 2, 3, 0, 4, 6, 9, 7, 3, 2, 0, 0, 9, 8, 1, 1, 3, 5, 6, 1, 3, 8, 7, 6, 9, 7, 6, 5, 1, 1, 9, 1, 1, 1, 9, 3, 5, 5, 3, 0, 4, 0, 6, 6, 8, 6, 8, 1, 6, 3, 1, 1, 2, 6, 9, 0, 9, 8, 5, 4, 4, 7, 4, 8, 1, 2, 4, 4, 5, 9, 0, 7, 2, 9, 8, 1, 7, 3, 5, 9, 1, 9, 1, 1, 5, 2, 5, 5, 8, 3, 5, 6, 5, 0, 1, 7, 7, 7, 5, 3, 5, 1, 7, 6, 8, 4, 2, 5, 5, 3, 4, 2, 7, 5, 6, 2, 7, 2, 6, 9, 7, 1, 8, 0, 2, 3, 1, 5, 4, 0, 1, 3, 4, 0, 2, 3, 0, 5, 0, 1, 7, 6, 3, 9, 2, 0, 4, 7, 5, 5, 9, 7, 3, 1, 6, 3, 9, 0, 2, 7, 1, 4, 3, 1, 5, 6, 5, 8, 4, 9, 4, 8, 7, 1, 2, 8, 4, 6, 5, 0, 8, 1, 7, 5, 6, 9, 5, 2, 4, 9, 4, 6, 9, 0, 1, 0, 9, 8, 7, 3, 5, 2, 3, 5, 6, 9, 8, 7, 3, 9, 1, 9, 8, 6, 7, 6, 7, 5, 6, 7, 2, 5, 9, 6, 6, 2, 0, 1, 0, 1, 3, 4, 8, 6, 1, 2, 3, 1, 9, 9, 8, 6, 8, 6, 8, 9, 9, 4, 0, 1, 3, 6, 4, 3, 8, 7, 2, 7, 5, 6, 4, 6, 0, 3, 5, 5, 0, 2, 9, 2, 7, 2, 9, 2, 5, 0, 6, 6, 9, 6, 5, 3, 7, 1, 9, 5, 4, 3, 5, 4, 8, 0, 0, 3, 9, 2, 7, 4, 2, 8, 3, 6, 5, 1, 9, 5, 3, 8, 3, 8, 4, 7, 5, 7, 5, 3, 9, 2, 6, 1, 7, 2, 0, 7, 5, 0, 0, 8, 1, 6, 4, 5, 8, 4, 5, 1, 9, 1, 0, 4, 2, 3, 9, 6, 0, 1, 2, 1, 7, 7, 9, 8, 7, 5, 4, 0, 9, 0, 0, 8, 2, 0, 0, 2, 4, 8, 6, 2, 4, 6, 3, 5, 1, 5, 5, 5, 6, 2, 9, 0, 0, 1, 0, 3, 4, 6, 6, 1, 6, 3, 4, 2, 2, 9, 7, 0, 8, 0, 2, 6, 5, 7, 9, 7, 0, 5, 5, 4, 3, 1, 9, 3, 2, 9, 5, 3, 7, 9, 4, 4, 1, 7, 6, 1, 4, 1, 0, 8, 7, 0, 0, 4, 3, 2, 9, 7, 6, 1, 3, 5, 8, 0, 4, 6, 8, 3, 2, 4, 4, 1, 1, 3, 1, 7, 5, 1, 8, 8, 7, 0, 8, 6, 3, 3, 2, 7, 7, 8, 1, 0, 3, 6, 3, 7, 3, 1, 0, 1, 3, 5, 1, 4, 1, 3, 0, 8, 6, 2, 1, 6, 5, 4, 1, 9, 9, 4, 1, 0, 1, 9, 8, 3, 1, 2, 4, 7, 4, 2, 7, 7, 9, 1, 5, 2, 6, 3, 4, 4, 1, 4, 8, 6, 6, 6, 1, 6, 3, 6, 5, 8, 4, 6, 7, 1, 9, 5, 6, 7, 6, 0, 4, 1, 9, 5, 7, 6, 9, 4, 3, 5, 9, 1, 3, 6, 0, 2, 0, 1, 2, 8, 6, 5, 0, 0, 0, 5, 7, 7, 3, 4, 5, 3, 1, 6, 1, 5, 1, 0, 6, 2, 3, 2, 1, 3, 2, 1, 9, 8, 3, 6, 9, 7, 3, 0, 2, 3, 9, 4, 6, 6, 9, 6, 1, 6, 6, 8, 2, 4, 4, 6, 7, 7, 4, 6, 9, 6, 2, 9, 8, 1, 3, 6, 2, 9, 2, 6, 0, 0, 8, 7, 5, 9, 6, 8, 4, 0, 6, 3, 6, 3, 7, 4, 5, 7, 9, 0, 5, 6, 7, 2, 0, 5, 5, 5, 3, 5, 9, 4, 6, 5, 3, 3, 6, 6, 4, 9, 6, 3, 1, 6, 7, 0, 5, 0, 1, 9, 7, 3, 5, 2, 3, 9, 3, 4, 3, 0, 0, 0, 8, 0, 3, 2, 4, 3, 3, 7, 9, 2, 9, 8, 1, 2, 6, 7, 4, 4, 1, 5, 7, 8, 9, 9, 0, 3, 8, 5, 8, 5, 6, 5, 0, 8, 2, 8, 1, 8, 1, 5, 2, 9, 1, 6, 6, 3, 1, 4, 5, 7, 4, 7, 6, 7, 3, 4, 4, 5, 7, 3, 8, 2, 8, 3, 7, 4, 0, 5, 2, 8, 5, 2, 4, 4, 1, 7, 8, 8, 6, 0, 6, 1, 7, 0, 4, 3, 8, 5, 9, 7, 6, 5, 1, 0, 3, 2, 5, 6, 4, 1, 6, 2, 8, 3, 7, 2, 5, 7, 3, 7, 7, 1, 7, 4, 3, 3, 4, 0, 4, 2, 7, 0, 2, 2, 6, 6, 2, 5, 2, 6, 0, 6, 1, 7, 9, 0, 0, 1, 5, 5, 1, 6, 7, 8, 9, 6, 3, 3, 6, 0, 9, 9, 2, 2, 6, 1, 4, 6, 2, 4, 7, 8, 8, 3, 6, 4, 3, 2, 5, 6, 4, 4, 8, 1, 2, 6, 0, 9, 7, 9, 8, 7, 7, 6, 8, 2, 9, 6, 3, 7, 5, 8, 7, 3, 7, 0, 7, 1, 6, 2, 4, 0, 0, 2, 9, 8, 4, 8, 2, 4, 5, 2, 0, 1, 2, 9, 6, 1, 0, 1, 8, 6, 5, 0, 5, 7, 4, 4, 8, 3, 5, 3, 7, 2, 5, 0, 6, 5, 7, 3, 3, 0, 5, 4, 4, 6, 3, 3, 5, 9, 1, 2, 1, 6, 2, 4, 7, 6, 0, 5, 5, 8, 4, 6, 2, 1, 6, 5, 4, 5, 5, 0, 7, 2, 0, 1, 2, 4, 9, 6, 4, 5, 9, 5, 4, 3, 4, 4, 2, 1, 6, 9, 4, 8, 0, 5, 1, 6, 6, 4, 4, 1, 4, 6, 3, 0, 8, 9, 7, 6, 1, 4, 8, 1, 2, 5, 9, 3, 7, 9, 4, 5, 6, 9, 3, 6, 4, 7, 1, 3, 9, 3, 1, 8, 8, 2, 7, 0, 4, 2, 0, 6, 7, 7, 2, 4, 4, 4, 3, 6, 3, 1, 9, 9, 2, 9, 4, 3, 2, 0, 6, 5, 0, 6, 9, 0, 9, 7, 8, 0, 4, 3, 9, 0, 6, 2, 6, 9, 9, 7, 9, 9, 0, 5, 1, 1, 0, 6, 9, 9, 5, 6, 3, 6, 9, 7, 9, 7, 5, 4, 3, 2, 9, 8, 8, 3, 7, 8, 4, 0, 2, 0, 7, 2, 8, 0, 2, 0, 7, 4, 0, 6, 6, 4, 8, 7, 4, 6, 4, 0, 6, 9, 5, 6, 6, 3, 3, 3, 2, 6, 3, 6, 0, 0, 8, 5, 4, 2, 9, 5, 0, 3, 4, 8, 7, 1, 6, 5, 7, 8, 2, 0, 1, 8, 5, 4, 8, 4, 3, 0, 4, 0, 1, 9, 3, 0, 4, 6, 5, 2, 2, 8, 3, 8, 9, 7, 5, 2, 4, 6, 4, 0, 2, 3, 1, 0, 0, 3, 1, 2, 1, 4, 6, 7, 1, 0, 5, 2, 5, 8, 2, 5, 6, 7, 1, 9, 3, 6, 1, 0, 2, 9, 2, 2, 9, 3, 0, 2, 9, 8, 4, 1, 0, 1, 5, 2, 3, 6, 8, 1, 3, 2, 0, 2, 1, 3, 5, 0, 3, 3, 7, 5, 3, 9, 9, 8, 9, 9, 7, 6, 8, 9, 4, 7, 1, 4, 6, 7, 7, 8, 5, 7, 2, 1, 2, 6, 7, 3, 7, 9, 1, 9, 3, 7, 2, 4, 1, 1, 3, 3, 9, 2, 4, 0, 0, 8, 1, 5, 1, 5, 9, 9, 9, 2, 6, 0, 6, 9, 1, 1, 3, 4, 9, 5, 9, 3, 5, 3, 3, 1, 5, 9, 8, 7, 2, 8, 7, 6, 5, 2, 5, 8, 9, 7, 2, 0, 0, 7, 5, 6, 5, 7, 7, 6, 2, 0, 8, 7, 7, 6, 1, 5, 8, 6, 2, 0, 2, 2, 8, 6, 4, 0, 2, 5, 4, 9, 2, 3, 4, 6, 9, 2, 8, 5, 8, 2, 8, 2, 6, 4, 7, 9, 5, 7, 6, 6, 6, 1, 9, 9, 7, 2, 3, 1, 7, 1, 6, 3, 0, 8, 9, 5, 2, 9, 9, 9, 6, 3, 0, 8, 8, 5, 3, 4, 1, 1, 0, 7, 0, 6, 0, 4, 4, 6, 5, 3, 2, 9, 6, 6, 7, 0, 7, 7, 0, 8, 7, 2, 7, 7, 7, 4, 0, 1, 6, 0, 5, 3, 2, 2, 4, 9, 5, 6, 3, 1, 8, 8, 3, 3, 8, 0, 8, 8, 0, 0, 2, 5, 7, 0, 7, 4, 7, 2, 2, 0, 4, 0, 3, 7, 8, 3, 7, 9, 3, 1, 1, 6, 9, 3, 8, 9, 7, 8, 4, 1, 3, 2, 6, 5, 2, 4, 5, 2, 7, 9, 6, 2, 0, 8, 4, 5, 6, 1, 0, 4, 8, 4, 7, 1, 9, 2, 0, 9, 1, 8, 9, 6, 8, 1, 7, 9, 0, 9, 7, 4, 4, 5, 0, 2, 1, 3, 5, 8, 1, 1, 8, 8, 8, 9, 0, 0, 4, 4, 2, 5, 6, 6, 3, 1, 2, 4, 7, 8, 0, 1, 6, 6, 6, 6, 2, 2, 2, 6, 3, 4, 0, 8, 1, 3, 5, 6, 8, 9, 1, 6, 1, 9, 8, 2, 0, 4, 9, 4, 0, 0, 4, 6, 8, 8, 0, 6, 2, 8, 8, 5, 1, 1, 0, 7, 7, 4, 6, 7, 9, 2, 6, 6, 7, 4, 5, 8, 0, 9, 7, 7, 2, 5, 2, 2, 5, 7, 6, 2, 6, 4, 1, 4, 8, 3, 8, 5, 4, 2, 3, 7, 7, 2, 7, 5, 1, 5, 3, 7, 8, 8, 9, 2, 0, 9, 2, 6, 0, 8, 1, 7, 1, 3, 4, 1, 8, 9, 6, 4, 6, 9, 5, 6, 3, 9, 1, 4, 2, 8, 9, 5, 4, 5, 0, 3, 3, 1, 6, 9, 9, 3, 4, 0, 6, 1, 6, 5, 8, 2, 2, 3, 5, 2, 3, 2, 2, 1, 4, 6, 7, 0, 8, 9, 2, 6, 3, 9, 5, 3, 8, 8, 5, 8, 5, 7, 4, 4, 0, 0, 7, 0, 4, 0, 4, 4, 2, 3, 4, 0, 7, 2, 7, 0, 3, 3, 2, 9, 1, 1, 3, 6, 9, 1, 0, 2, 4, 5, 0, 9, 0, 6, 2, 0, 6, 9, 3, 7, 6, 1, 0, 4, 6, 0, 4, 5, 4, 7, 6, 2, 1, 5, 9, 6, 5, 2, 0, 5, 7, 4, 3, 9, 4, 5, 8, 9, 9, 6, 2, 8, 5, 8, 6, 6, 3, 4, 0, 3, 4, 2, 2, 1, 8, 6, 9, 4, 3, 5, 2, 3, 3, 5, 0, 2, 1, 2, 8, 0, 9, 2, 4, 5, 3, 7, 9, 8, 3, 6, 1, 5, 8, 6, 4, 5, 8, 9, 4, 0, 0, 2, 2, 1, 1, 8, 3, 7, 2, 8, 2, 9, 4, 8, 9, 2, 8, 9, 3, 4, 8, 1, 5, 5, 5, 4, 3, 8, 8, 1, 4, 3, 1, 3, 7, 2, 7, 0, 8, 2, 6, 1, 7, 6, 9, 6, 9, 6, 3, 5, 1, 0, 5, 7, 9, 3, 8, 9, 0, 0, 8, 8, 6, 6, 4, 3, 9, 1, 1, 7, 8, 6, 8, 9, 0, 6, 1, 0, 1, 1, 7, 2, 1, 0, 2, 5, 2, 3, 6, 2, 3, 6, 1, 8, 1, 3, 1, 3, 4, 5, 1, 4, 9, 1, 3, 1, 7, 2, 9, 8, 0, 4, 6, 0, 9, 5, 8, 4, 5, 2, 1, 1, 2, 8, 3, 6, 0, 4, 4, 6, 1, 6, 7, 9, 6, 3, 6, 5, 3, 8, 5, 9, 2, 2, 9, 7, 0, 0, 1, 4, 4, 5, 5, 9, 6, 6, 6, 2, 6, 9, 5, 7, 3, 9, 4, 1, 5, 2, 1, 6, 6, 4, 7, 6, 5, 3, 8, 1, 4, 6, 4, 2, 5, 6, 2, 0, 6, 2, 7, 7, 2, 5, 2, 5, 9, 3, 6, 7, 3, 8, 2, 2, 1, 4, 3, 4, 5, 3, 6, 8, 4, 0, 0, 9, 8, 0, 0, 7, 6, 6, 7, 4, 9, 1, 5, 9, 5, 3, 0, 3, 0, 3, 0, 9, 1, 5, 9, 8, 3, 7, 4, 4, 9, 2, 1, 1, 1, 0, 3, 8, 4, 4, 3, 1, 4, 3, 4, 1, 0, 3, 8, 8, 8, 1, 4, 7, 0, 9, 6, 9, 1, 4, 0, 7, 7, 1, 3, 3, 5, 1, 0, 2, 7, 9, 2, 2, 9, 6, 3, 5, 9, 4, 7, 0, 4, 8, 0, 7, 2, 7, 0, 4, 0, 0, 8, 6, 4, 3, 1, 8, 2, 2, 8, 3, 1, 1, 0, 2, 2, 6, 9, 4, 8, 4, 6, 1, 5, 3, 6, 9, 0, 0, 7, 1, 8, 9, 3, 9, 9, 0, 7, 7, 3, 4, 0, 6, 4, 3, 7, 4, 8, 7, 3, 6, 2, 2, 4, 2, 0, 3, 1, 5, 5, 6, 0, 0, 1, 3, 8, 6, 2, 4, 3, 5, 0, 9, 1, 0, 0, 3, 5, 7, 7, 9, 9, 6, 5, 5, 3, 5, 3, 9, 6, 6, 4, 2, 2, 4, 1, 5, 0, 0, 4, 3, 8, 6, 8, 5, 9, 5, 0, 5, 0, 1, 6, 7, 8, 9, 1, 5, 7, 6, 5, 3, 3, 6, 0, 0, 1, 7, 3, 1, 9, 2, 4, 1, 3, 7, 2, 2, 0, 9, 6, 6, 0, 5, 5, 8, 7, 7, 4, 0, 2, 7, 7, 8, 8, 7, 0, 2, 9, 1, 3, 4, 3, 7, 4, 6, 2, 3, 1, 0, 3, 3, 2, 4, 5, 1, 2, 8, 0, 7, 9, 5, 8, 7, 1, 1, 7, 7, 0, 3, 2, 8, 1, 3, 9, 2, 9, 7, 4, 4, 0, 3, 6, 1, 5, 4, 2, 8, 4, 9, 8, 7, 8, 4, 2, 3, 4, 0, 3, 4, 1, 8, 2, 5, 4, 5, 4, 6, 3, 7, 9, 7, 1, 4, 9, 3, 1, 4, 5, 5, 1, 7, 1, 4, 8, 1, 8, 2, 7, 0, 6, 3, 3, 7, 5, 5, 8, 9, 4, 6, 3, 6, 6, 8, 2, 6, 4, 8, 4, 1, 5, 8, 2, 3, 3, 0, 1, 6, 2, 2, 8, 2, 4, 5, 1, 4, 6, 4, 4, 9, 7, 5, 7, 6, 5, 4, 5, 6, 5, 6, 2, 4, 7, 6, 6, 6, 5, 0, 0, 3, 9, 2, 3, 8, 0, 7, 0, 6, 8, 1, 2, 8, 9, 1, 5, 4, 5, 5, 5, 5, 6, 6, 5, 0, 3, 7, 1, 3, 5, 7, 7, 4, 9, 2, 5, 9, 5, 1, 7, 6, 1, 4, 8, 4, 1, 3, 8, 4, 3, 3, 3, 3, 0, 2, 8, 7, 2, 9, 2, 8, 2, 5, 9, 1, 0, 3, 1, 3, 8, 0, 4, 0, 4, 2, 9, 2, 7, 2, 0, 3, 2, 9, 7, 3, 0, 7, 0, 3, 5, 3, 3, 8, 7, 2, 1, 6, 3, 8, 9, 0, 1, 1, 4, 9, 0, 1, 7, 2, 5, 8, 5, 9, 1, 2, 8, 0, 6, 6, 8, 6, 9, 3, 1, 1, 5, 3, 5, 2, 7, 6, 1, 4, 6, 1, 1, 8, 1, 1, 2, 3, 4, 9, 9, 3, 2, 7, 6, 3, 6, 9, 6, 9, 8, 8, 3, 7, 4, 7, 2, 5, 8, 0, 9, 0, 7, 8, 1, 2, 4, 2, 4, 2, 9, 0, 8, 8, 9, 6, 5, 5, 2, 5, 1, 0, 6, 1, 8, 4, 5, 5, 5, 0, 8, 9, 0, 4, 7, 9, 6, 5, 4, 6, 4, 8, 5, 1, 2, 5, 2, 1, 0, 5, 2, 9, 8, 1, 9, 4, 5, 3, 1, 3, 1, 1, 3, 8, 8, 1, 9, 5, 8, 9, 3, 1, 1, 6, 5, 7, 2, 6, 4, 6, 9, 6, 0, 1, 3, 9, 3, 8, 2, 8, 2, 9, 1, 6, 6, 0, 5, 8, 7, 7, 7, 9, 4, 5, 0, 0, 3, 5, 1, 8, 1, 9, 2, 7, 1, 3, 4, 6, 9, 1, 7, 7, 1, 9, 3, 8, 3, 9, 1, 3, 9, 8, 3, 0, 2, 6, 2, 2, 2, 4, 0, 8, 4, 8, 1, 3, 7, 2, 7, 9, 5, 2, 2, 9, 4, 6, 5, 4, 2, 5, 6, 5, 9, 1, 2, 9, 8, 6, 5, 0, 8, 0, 0, 9, 9, 6, 8, 0, 6, 6, 0, 7, 9, 8, 0, 7, 0, 9, 6, 0, 4, 7, 1, 7, 8, 6, 4, 6, 9, 4, 5, 3, 3, 1, 7, 3, 0, 2, 5, 2, 3, 2, 8, 4, 4, 6, 1, 9, 4, 1, 7, 0, 1, 5, 3, 8, 2, 9, 4, 5, 0, 3, 3, 7, 2, 3, 0, 0, 4, 7, 9, 9, 0, 7, 5, 6, 7, 1, 2, 3, 7, 3, 6, 8, 6, 9, 8, 4, 9, 2, 3, 6, 0, 2, 5, 6, 1, 5, 3, 5, 8, 5, 4, 2, 9, 5, 6, 3, 0, 6, 1, 8, 3, 9, 8, 6, 3, 9, 0, 4, 2, 0, 5, 9, 9, 3, 8, 8, 6, 0, 2, 0, 7, 1, 3, 6, 9, 1, 3, 2, 6, 7, 9, 3, 1, 5, 5, 2, 1, 4, 8, 8, 4, 0, 0, 7, 0, 3, 1, 6, 0, 0, 9, 2, 3, 7, 4, 0, 0, 0, 4, 2, 3, 2, 6, 4, 2, 7, 8, 6, 1, 0, 8, 3, 6, 0, 8, 0, 6, 0, 9, 1, 6, 3, 1, 0, 1, 6, 0, 6, 7, 9, 1, 3, 7, 5, 7, 1, 3, 6, 9, 1, 1, 2, 4, 2, 1, 7, 0, 1, 2, 3, 1, 3, 4, 5, 9, 9, 3, 2, 0, 8, 7, 3, 2, 6, 2, 6, 0, 4, 8, 9, 3, 0, 5, 4, 2, 0, 2, 9, 9, 3, 8, 4, 1, 1, 2, 2, 2, 6, 4, 1, 2, 6, 1, 3, 1, 1, 9, 2, 8, 1, 9, 9, 9, 4, 3, 5, 0, 3, 3, 7, 1, 7, 7, 4, 8, 1, 3, 5, 3, 1, 2, 2, 7, 8, 4, 7, 3, 5, 9, 8, 8, 3, 1, 0, 6, 5, 0, 9, 6, 2, 0, 8, 7, 1, 2, 6, 9, 1, 6, 5, 7, 1, 9, 0, 0, 2, 2, 8, 3, 8, 2, 8, 4, 0, 8, 6, 3, 1, 4, 3, 0, 6, 0, 4, 1, 7, 0, 0, 1, 3, 9, 1, 6, 1, 6, 1, 2, 0, 7, 0, 9, 5, 9, 8, 0, 1, 7, 9, 7, 1, 9, 6, 1, 9, 4, 3, 6, 0, 2, 0, 0, 9, 1, 8, 9, 2, 3, 3, 6, 0, 7, 8, 7, 3, 7, 5, 4, 6, 5, 9, 5, 8, 4, 2, 7, 9, 6, 7, 3, 7, 1, 2, 3, 1, 1, 3, 2, 8, 7, 7, 7, 0, 8, 1, 5, 2, 6, 5, 4, 6, 3, 3, 9, 8, 8, 3, 8, 0, 7, 1, 7, 8, 3, 9, 2, 2, 6, 6, 8, 8, 6, 7, 3, 8, 9, 1, 5, 3, 7, 9, 9, 9, 8, 5, 9, 9, 6, 8, 8, 4, 8, 1, 0, 1, 8, 8, 6, 5, 9, 0, 6, 1, 3, 6, 6, 6, 5, 6, 3, 5, 3, 3, 6, 8, 9, 4, 2, 3, 8, 5, 6, 0, 8, 5, 7, 8, 6, 2, 5, 3, 1, 8, 9, 0, 2, 4, 3, 3, 5, 3, 3, 2, 7, 7, 9, 6, 0, 5, 6, 6, 1, 1, 3, 9, 9, 2, 6, 7, 1, 8, 3, 9, 4, 7, 8, 2, 0, 3, 2, 4, 8, 7, 3, 7, 1, 8, 7, 3, 5, 4, 4, 3, 8, 6, 0, 9, 6, 3, 2, 2, 0, 9, 8, 3, 3, 1, 1, 8, 0, 5, 2, 0, 5, 2, 6, 8, 6, 3, 9, 6, 6, 7, 8, 2, 8, 3, 4, 4, 1, 1, 2, 9, 2, 8, 5, 5, 0, 6, 3, 0, 8, 0, 5, 1, 5, 3, 3, 4, 6, 0, 9, 2, 6, 4, 2, 4, 5, 8, 7, 7, 6, 6, 4, 2, 4, 1, 7, 2, 6, 9, 5, 8, 2, 7, 7, 8, 5, 2, 9, 3, 6, 3, 3, 3, 3, 8, 5, 6, 1, 3, 7, 9, 6, 1, 6, 4, 9, 2, 5, 7, 4, 9, 1, 5, 0, 2, 7, 8, 3, 2, 7, 6, 1, 6, 6, 4, 4, 2, 9, 8, 4, 4, 7, 8, 3, 8, 9, 4, 3, 2, 2, 1, 9, 0, 1, 1, 8, 1, 6, 8, 9, 1, 3, 2, 4, 6, 0, 3, 0, 6, 4, 0, 9, 8, 2, 8, 5, 8, 2, 1, 6, 0, 4, 1, 8, 2, 6, 2, 2, 6, 5, 6, 9, 8, 6, 4, 9, 8, 5, 3, 9, 3, 5, 7, 1, 8, 3, 8, 6, 0, 5, 0, 3, 8, 2, 1, 9, 4, 4, 9, 2, 1, 4, 4, 5, 9, 8, 7, 4, 9, 6, 1, 9, 3, 6, 1, 8, 8, 2, 2, 4, 1, 6, 5, 5, 4, 2, 3, 1, 0, 7, 0, 4, 2, 9, 1, 5, 3, 1, 2, 1, 1, 0, 4, 1, 9, 4, 0, 9, 1, 1, 5, 9, 0, 9, 6, 7, 2, 9, 9, 7, 8, 8, 1, 9, 7, 6, 8, 1, 6, 6, 3, 9, 1, 3, 9, 8, 8, 4, 6, 6, 7, 0, 0, 7, 6, 4, 1, 6, 0, 6, 6, 8, 6, 3, 9, 1, 8, 6, 2, 0, 5, 4, 3, 0, 1, 7, 8, 6, 2, 1, 7, 4, 8, 7, 6, 6, 7, 0, 0, 4, 9, 8, 6, 5, 1, 3, 8, 6, 8, 1, 9, 2, 7, 6, 3, 0, 6, 0, 1, 6, 1, 1, 3, 3, 4, 4, 5, 8, 1, 3, 6, 1, 8, 0, 6, 3, 7, 4, 6, 8, 9, 2, 4, 3, 5, 6, 1, 4, 1, 9, 5, 1, 7, 7, 7, 2, 2, 3, 2, 3, 6, 6, 4, 0, 7, 1, 4, 6, 0, 0, 1, 2, 4, 1, 2, 2, 2, 9, 1, 6, 8, 7, 6, 3, 4, 7, 2, 3, 1, 5, 9, 0, 4, 4, 4, 9, 6, 3, 9, 1, 7, 8, 5, 1, 4, 6, 2, 5, 7, 2, 7, 9, 2, 8, 6, 0, 6, 4, 9, 0, 4, 0, 5, 4, 6, 5, 8, 0, 4, 8, 6, 7, 2, 3, 1, 7, 4, 1, 2, 4, 2, 2, 8, 7, 2, 0, 5, 7, 7, 6, 8, 9, 0, 2, 5, 2, 9, 8, 7, 7, 2, 4, 7, 4, 3, 2, 1, 1, 8, 1, 5, 4, 2, 6, 5, 9, 5, 3, 7, 3, 6, 2, 8, 9, 7, 8, 8, 8, 9, 1, 4, 5, 7, 6, 0, 6, 6, 1, 2, 3, 1, 5, 0, 3, 5, 0, 2, 5, 5, 4, 8, 3, 4, 5, 5, 0, 6, 6, 7, 5, 0, 9, 9, 6, 1, 0, 7, 6, 2, 6, 9, 2, 6, 6, 2, 2, 7, 0, 1, 9, 5, 7, 4, 3, 0, 2, 7, 6, 4, 2, 1, 8, 2, 1, 0, 9, 6, 4, 6, 8, 7, 6, 1, 8, 1, 2, 2, 4, 8, 5, 2, 6, 5, 3, 9, 9, 0, 7, 2, 4, 6, 0, 0, 6, 2, 2, 4, 0, 5, 9, 7, 1, 8, 7, 6, 5, 9, 0, 5, 2, 8, 9, 9, 8, 9, 1, 6, 4, 8, 0, 3, 5, 4, 8, 4, 8, 9, 8, 6, 0, 0, 8, 2, 0, 6, 2, 7, 6, 0, 5, 8, 4, 1, 9, 0, 1, 4, 7, 8, 4, 9, 6, 0, 7, 4, 6, 8, 9, 2, 2, 0, 4, 9, 2, 9, 2, 9, 2, 6, 7, 0, 9, 7, 1, 8, 5, 0, 6, 5, 7, 1, 9, 4, 2, 7, 9, 8, 3, 9, 2, 1, 4, 7, 6, 1, 0, 0, 5, 6, 0, 4, 5, 2, 8, 8, 0, 6, 3, 3, 2, 8, 7, 1, 6, 5, 9, 4, 2, 2, 6, 0, 6, 2, 2, 4, 1, 0, 5, 9, 8, 9, 3, 5, 9, 3, 8, 1, 6, 3, 7, 5, 6, 2, 0, 2, 8, 2, 8, 7, 7, 8, 1, 0, 8, 9, 7, 0, 3, 8, 0, 5, 9, 1, 8, 4, 2, 8, 9, 2, 4, 7, 4, 9, 6, 6, 5, 3, 1, 5, 2, 0, 0, 4, 0, 6, 3, 8, 0, 5, 8, 6, 4, 8, 5, 2, 9, 7, 9, 7, 1, 0, 1, 1, 6, 9, 2, 7, 9, 6, 4, 0, 6, 2, 4, 1, 5, 7, 6, 0, 3, 9, 0, 3, 3, 3, 2, 7, 2, 3, 2, 5, 9, 0, 5, 1, 9, 8, 4, 4, 4, 0, 6, 5, 2, 3, 1, 0, 4, 1, 8, 8, 4, 9, 3, 2, 3, 3, 9, 2, 0, 1, 1, 8, 2, 4, 8, 5, 3, 9, 5, 7, 6, 6, 5, 4, 7, 3, 3, 7, 0, 1, 5, 9, 5, 9, 6, 0, 4, 2, 2, 5, 6, 3, 8, 9, 3, 6, 1, 2, 5, 4, 6, 7, 2, 9, 9, 2, 0, 4, 9, 8, 4, 9, 9, 1, 5, 0, 0, 8, 4, 1, 7, 4, 2, 5, 4, 3, 2, 0, 6, 6, 0, 1, 3, 9, 8, 3, 7, 8, 8, 4, 8, 9, 0, 1, 7, 1, 6, 2, 3, 5, 9, 9, 3, 9, 8, 4, 7, 1, 6, 0, 3, 9, 3, 1, 0, 5, 1, 9, 6, 0, 9, 3, 9, 8, 8, 2, 7, 3, 7, 1, 6, 9, 8, 9, 3, 6, 7, 0, 5, 3, 0, 3, 9, 7, 3, 5, 2, 6, 3, 1, 8, 6, 7, 1, 9, 0, 0, 0, 0, 8, 7, 3, 7, 8, 9, 2, 7, 8, 7, 8, 4, 9, 8, 5, 4, 8, 7, 7, 6, 3, 8, 2, 1, 9, 6, 5, 3, 9, 5, 4, 8, 7, 3, 5, 3, 5, 9, 7, 6, 7, 4, 6, 4, 3, 9, 4, 2, 1, 9, 6, 0, 3, 6, 7, 4, 7, 9, 0, 9, 4, 5, 3, 3, 9, 1, 1, 6, 8, 2, 1, 5, 8, 5, 0, 6, 1, 8, 4, 0, 6, 0, 9, 8, 6, 5, 8, 9, 6, 5, 6, 5, 9, 1, 3, 8, 8, 7, 1, 7, 4, 5, 7, 9, 7, 3, 2, 9, 9, 8, 7, 2, 1, 3, 8, 7, 9, 0, 4, 5, 7, 5, 2, 1, 7, 6, 1, 6, 7, 5, 8, 5, 6, 6, 9, 5, 7, 8, 0, 3, 1, 7, 2, 1, 2, 5, 9, 3, 2, 2, 6, 4, 1, 3, 4, 6, 3, 9, 7, 7, 5, 6, 3, 7, 0, 8, 4, 4, 5, 7, 7, 3, 4, 2, 8, 6, 8, 1, 3, 3, 1, 6, 9, 7, 0, 3, 6, 2, 9, 4, 7, 8, 2, 7, 0, 9, 6, 8, 0, 8, 6, 8, 5, 7, 7, 2, 2, 0, 0, 0, 7, 4, 1, 6, 6, 8, 8, 9, 0, 9, 0, 1, 6, 6, 0, 9, 6, 6, 4, 6, 7, 2, 0, 8, 6, 1, 4, 0, 5, 5, 0, 9, 9, 9, 9, 1, 2, 9, 5, 4, 2, 9, 3, 8, 9, 6, 6, 8, 0, 6, 9, 3, 6, 8, 0, 5, 4, 1, 2, 0, 9, 6, 4, 3, 4, 6, 2, 9, 7, 7, 3, 6, 2, 0, 1, 0, 0, 3, 5, 9, 0, 9, 7, 8, 6, 7, 6, 8, 5, 4, 5, 3, 0, 3, 6, 1, 7, 5, 9, 6, 4, 3, 9, 1, 5, 0, 1, 1, 9, 9, 7, 5, 4, 9, 7, 8, 5, 0, 4, 9, 5, 6, 4, 0, 1, 4, 8, 2, 4, 6, 6, 4, 8, 1, 8, 4, 6, 5, 9, 2, 2, 1, 4, 9, 1, 6, 7, 2, 0, 1, 7, 6, 9, 2, 2, 5, 3, 0, 8, 0, 1, 7, 3, 6, 5, 8, 7, 2, 6, 7, 8, 0, 3, 9, 4, 6, 5, 1, 1, 0, 5, 3, 9, 7, 8, 1, 7, 7, 9, 9, 4, 0, 6, 3, 2, 8, 2, 7, 6, 7, 0, 2, 1, 2, 9, 2, 3, 9, 4, 4, 0, 1, 8, 7, 0, 0, 4, 7, 4, 4, 6, 7, 7, 9, 0, 7, 4, 5, 8, 1, 4, 4, 9, 9, 8, 8, 6, 3, 7, 0, 8, 9, 8, 2, 6, 6, 2, 9, 7, 4, 6, 8, 5, 6, 1, 6, 9, 9, 9, 9, 3, 2, 0, 3, 0, 6, 0, 7, 3, 9, 6, 7, 7, 6, 6, 9, 5, 6, 1, 2, 4, 0, 4, 7, 8, 4, 4, 0, 9, 3, 9, 4, 9, 3, 2, 4, 5, 2, 6, 8, 8, 2, 8, 1, 0, 8, 2, 8, 9, 0, 4, 9, 1, 5, 7, 1, 3, 0, 1, 5, 0, 8, 1, 1, 6, 1, 1, 3, 1, 8, 2, 1, 1, 0, 5, 0, 4, 0, 5, 1, 2, 0, 2, 9, 6, 1, 2, 6, 7, 8, 2, 2, 4, 5, 3, 7, 0, 6, 1, 5, 9, 8, 8, 2, 0, 4, 6, 0, 2, 9, 7, 5, 9, 4, 6, 3, 6, 6, 6, 0, 1, 9, 8, 9, 7, 2, 9, 0, 2, 2, 9, 0, 6, 2, 9, 7, 9, 1, 7, 1, 8, 6, 5, 0, 8, 0, 7, 3, 6, 1, 4, 4, 8, 9, 7, 8, 6, 8, 6, 0, 9, 1, 1, 8, 1, 7, 4, 0, 7, 8, 2, 1, 2, 3, 4, 6, 0, 5, 5, 2, 4, 6, 9, 7, 8, 2, 0, 0, 2, 4, 1, 8, 3, 9, 5, 5, 1, 7, 2, 7, 7, 0, 6, 8, 3, 3, 0, 5, 4, 0, 8, 2, 0, 9, 2, 0, 3, 4, 8, 6, 2, 6, 4, 6, 8, 2, 9, 4, 0, 1, 7, 5, 5, 7, 3, 0, 4, 6, 0, 7, 3, 8, 0, 8, 4, 7, 0, 3, 5, 3, 0, 3, 5, 1, 7]\n"
          ],
          "name": "stdout"
        }
      ]
    },
    {
      "cell_type": "code",
      "metadata": {
        "id": "Agtcbgv3DF4Q",
        "colab_type": "code",
        "colab": {
          "base_uri": "https://localhost:8080/",
          "height": 35
        },
        "outputId": "4dbe52bd-afdf-4494-fde5-ad8494d36c67"
      },
      "source": [
        "catagories = {'dog': 0,'automobile': 1,'bird': 2,'cat': 3,'deer': 4,'airplane': 5,'frog': 6,'horse': 7,'ship': 8,'truck': 9}\n",
        "reverse_catagory = {n:i for i,n in catagories.items()}\n",
        "print(reverse_catagory)"
      ],
      "execution_count": 70,
      "outputs": [
        {
          "output_type": "stream",
          "text": [
            "{0: 'dog', 1: 'automobile', 2: 'bird', 3: 'cat', 4: 'deer', 5: 'airplane', 6: 'frog', 7: 'horse', 8: 'ship', 9: 'truck'}\n"
          ],
          "name": "stdout"
        }
      ]
    },
    {
      "cell_type": "code",
      "metadata": {
        "id": "AzPUhu-sRVed",
        "colab_type": "code",
        "colab": {
          "base_uri": "https://localhost:8080/",
          "height": 35
        },
        "outputId": "6d9d739a-8163-4bb9-8de7-af911bc85996"
      },
      "source": [
        "test_dataset = [reverse_catagory[name] for name in test_labels]\n",
        "print(test_dataset[:5])"
      ],
      "execution_count": 71,
      "outputs": [
        {
          "output_type": "stream",
          "text": [
            "['cat', 'ship', 'ship', 'dog', 'frog']\n"
          ],
          "name": "stdout"
        }
      ]
    },
    {
      "cell_type": "code",
      "metadata": {
        "id": "6HautPmqRozc",
        "colab_type": "code",
        "colab": {
          "base_uri": "https://localhost:8080/",
          "height": 35
        },
        "outputId": "7bd9791c-55cd-4917-e80a-0a31b59a851d"
      },
      "source": [
        "prediction_dataset = [reverse_catagory[name] for name in predictions]\n",
        "print(prediction_dataset[:5])"
      ],
      "execution_count": 72,
      "outputs": [
        {
          "output_type": "stream",
          "text": [
            "['cat', 'ship', 'ship', 'ship', 'frog']\n"
          ],
          "name": "stdout"
        }
      ]
    },
    {
      "cell_type": "code",
      "metadata": {
        "id": "jvFSvoKBRwfR",
        "colab_type": "code",
        "colab": {
          "base_uri": "https://localhost:8080/",
          "height": 202
        },
        "outputId": "a77402bc-427e-48b9-8593-5bf05b3bd43a"
      },
      "source": [
        "final_dataset = pd.DataFrame({\"Actual\":test_dataset,\"Prediction\":prediction_dataset})\n",
        "final_dataset.head()"
      ],
      "execution_count": 74,
      "outputs": [
        {
          "output_type": "execute_result",
          "data": {
            "text/html": [
              "<div>\n",
              "<style scoped>\n",
              "    .dataframe tbody tr th:only-of-type {\n",
              "        vertical-align: middle;\n",
              "    }\n",
              "\n",
              "    .dataframe tbody tr th {\n",
              "        vertical-align: top;\n",
              "    }\n",
              "\n",
              "    .dataframe thead th {\n",
              "        text-align: right;\n",
              "    }\n",
              "</style>\n",
              "<table border=\"1\" class=\"dataframe\">\n",
              "  <thead>\n",
              "    <tr style=\"text-align: right;\">\n",
              "      <th></th>\n",
              "      <th>Actual</th>\n",
              "      <th>Prediction</th>\n",
              "    </tr>\n",
              "  </thead>\n",
              "  <tbody>\n",
              "    <tr>\n",
              "      <th>0</th>\n",
              "      <td>cat</td>\n",
              "      <td>cat</td>\n",
              "    </tr>\n",
              "    <tr>\n",
              "      <th>1</th>\n",
              "      <td>ship</td>\n",
              "      <td>ship</td>\n",
              "    </tr>\n",
              "    <tr>\n",
              "      <th>2</th>\n",
              "      <td>ship</td>\n",
              "      <td>ship</td>\n",
              "    </tr>\n",
              "    <tr>\n",
              "      <th>3</th>\n",
              "      <td>dog</td>\n",
              "      <td>ship</td>\n",
              "    </tr>\n",
              "    <tr>\n",
              "      <th>4</th>\n",
              "      <td>frog</td>\n",
              "      <td>frog</td>\n",
              "    </tr>\n",
              "  </tbody>\n",
              "</table>\n",
              "</div>"
            ],
            "text/plain": [
              "  Actual Prediction\n",
              "0    cat        cat\n",
              "1   ship       ship\n",
              "2   ship       ship\n",
              "3    dog       ship\n",
              "4   frog       frog"
            ]
          },
          "metadata": {
            "tags": []
          },
          "execution_count": 74
        }
      ]
    },
    {
      "cell_type": "code",
      "metadata": {
        "id": "TC8mJsqiSLTh",
        "colab_type": "code",
        "colab": {}
      },
      "source": [
        ""
      ],
      "execution_count": null,
      "outputs": []
    }
  ]
}