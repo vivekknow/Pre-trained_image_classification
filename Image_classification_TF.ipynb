{
  "nbformat": 4,
  "nbformat_minor": 0,
  "metadata": {
    "kernelspec": {
      "display_name": "Python 3",
      "language": "python",
      "name": "python3"
    },
    "language_info": {
      "codemirror_mode": {
        "name": "ipython",
        "version": 3
      },
      "file_extension": ".py",
      "mimetype": "text/x-python",
      "name": "python",
      "nbconvert_exporter": "python",
      "pygments_lexer": "ipython3",
      "version": "3.6.1"
    },
    "colab": {
      "name": "Image_classification_TF.ipynb",
      "provenance": []
    },
    "accelerator": "GPU"
  },
  "cells": [
    {
      "cell_type": "markdown",
      "metadata": {
        "id": "VCeLQSvd33GC",
        "colab_type": "text"
      },
      "source": [
        "The VGG() class takes a few arguments\n",
        "\n",
        "1) include_top (True): Whether or not to include the output layers for the model. You don’t need these if you are fitting the model on your own problem.\n",
        "\n",
        "2) weights (‘imagenet‘): What weights to load. You can specify None to not load pre-trained weights if you are interested in training the model yourself from scratch.\n",
        "\n",
        "3) input_tensor (None): A new input layer if you intend to fit the model on new data of a different size.\n",
        "\n",
        "4) input_shape (None): The size of images that the model is expected to take if you change the input layer.\n",
        "\n",
        "5) pooling (None): The type of pooling to use when you are training a new set of output layers.\n",
        "\n",
        "6) classes (1000): The number of classes (e.g. size of output vector) for the model."
      ]
    },
    {
      "cell_type": "code",
      "metadata": {
        "id": "wwsL2ZUO33GE",
        "colab_type": "code",
        "colab": {}
      },
      "source": [
        "import scipy as sp\n",
        "import numpy as np\n",
        "import pandas as pd\n",
        "from numpy.random import rand\n",
        "pd.options.display.max_colwidth = 600\n",
        "\n",
        "# Scikit Imports\n",
        "from sklearn import preprocessing\n",
        "from sklearn.metrics import roc_curve, auc, precision_recall_curve\n",
        "from sklearn.model_selection import train_test_split\n",
        "\n",
        "# import cnn_utils as utils\n",
        "# from model_evaluation_utils import get_metrics\n",
        "\n",
        "# Matplot Imports\n",
        "import matplotlib.pyplot as plt\n",
        "params = {'legend.fontsize': 'x-large',\n",
        "          'figure.figsize': (15, 5),\n",
        "          'axes.labelsize': 'x-large',\n",
        "          'axes.titlesize':'x-large',\n",
        "          'xtick.labelsize':'x-large',\n",
        "          'ytick.labelsize':'x-large'}\n",
        "\n",
        "plt.rcParams.update(params)\n",
        "%matplotlib inline\n",
        "\n",
        "# pandas display data frames as tables\n",
        "# from IPython.display import display, HTML\n",
        "\n",
        "# import warnings\n",
        "# warnings.filterwarnings('ignore')\n",
        "import tensorflow as tf\n",
        "from tensorflow.keras import callbacks\n",
        "from tensorflow.keras import optimizers\n",
        "from tensorflow.keras.datasets import cifar10\n",
        "from tensorflow.keras import Model\n",
        "from tensorflow.keras.applications import vgg16 as vgg\n",
        "from tensorflow.keras.layers import Dropout, Flatten, Dense, GlobalAveragePooling2D,BatchNormalization\n",
        "from tensorflow.keras.preprocessing.image import ImageDataGenerator\n",
        "#from tensorflow.keras.utils \n",
        "import np_utils\n",
        "\n",
        "# import tensorflow as tf\n",
        "from tensorflow.keras.utils import to_categorical"
      ],
      "execution_count": 1,
      "outputs": []
    },
    {
      "cell_type": "code",
      "metadata": {
        "id": "Tn-UhhJW6SJp",
        "colab_type": "code",
        "colab": {}
      },
      "source": [
        "BATCH_SIZE = 100\n",
        "EPOCHS = 70\n",
        "NUM_CLASSES = 10\n",
        "# 1e-4 = 0.0001\n",
        "LEARNING_RATE = 1e-4\n",
        "MOMENTUM = 0.9"
      ],
      "execution_count": 2,
      "outputs": []
    },
    {
      "cell_type": "code",
      "metadata": {
        "id": "YnyUN8wP33GJ",
        "colab_type": "code",
        "colab": {}
      },
      "source": [
        "(X_train, y_train), (X_test, y_test) = cifar10.load_data()"
      ],
      "execution_count": 3,
      "outputs": []
    },
    {
      "cell_type": "code",
      "metadata": {
        "id": "x-Yvrd6i33GM",
        "colab_type": "code",
        "colab": {}
      },
      "source": [
        "X_train, X_val, y_train, y_val = train_test_split(X_train, \n",
        "                                                  y_train, \n",
        "                                                  test_size=0.2, \n",
        "                                                  stratify=np.array(y_train), \n",
        "                                                  random_state=42)"
      ],
      "execution_count": 4,
      "outputs": []
    },
    {
      "cell_type": "code",
      "metadata": {
        "id": "2NO02k5060j-",
        "colab_type": "code",
        "colab": {
          "base_uri": "https://localhost:8080/",
          "height": 104
        },
        "outputId": "05737129-2a6d-4c7b-bcf4-3c1dc01018f4"
      },
      "source": [
        "# This is one-hot encoding\n",
        "Y_train = to_categorical(y_train, NUM_CLASSES)\n",
        "Y_val = to_categorical(y_val, NUM_CLASSES)\n",
        "Y_test = to_categorical(y_test, NUM_CLASSES)\n",
        "print(Y_train[:5])"
      ],
      "execution_count": 5,
      "outputs": [
        {
          "output_type": "stream",
          "text": [
            "[[0. 0. 0. 0. 0. 0. 1. 0. 0. 0.]\n",
            " [0. 0. 0. 0. 0. 0. 0. 1. 0. 0.]\n",
            " [0. 0. 0. 0. 0. 0. 0. 0. 1. 0.]\n",
            " [0. 0. 0. 1. 0. 0. 0. 0. 0. 0.]\n",
            " [0. 0. 1. 0. 0. 0. 0. 0. 0. 0.]]\n"
          ],
          "name": "stdout"
        }
      ]
    },
    {
      "cell_type": "code",
      "metadata": {
        "id": "9c46DZbt60sk",
        "colab_type": "code",
        "colab": {}
      },
      "source": [
        "import cv2\n",
        "\n",
        "X_train = np.array([cv2.resize(x, (64, 64)) for x in X_train])\n",
        "X_val = np.array([cv2.resize(x, (64, 64)) for x in X_val])\n",
        "X_test = np.array([cv2.resize(x, (64, 64)) for x in X_test])"
      ],
      "execution_count": 6,
      "outputs": []
    },
    {
      "cell_type": "markdown",
      "metadata": {
        "id": "0IkCPcVL73xb",
        "colab_type": "text"
      },
      "source": [
        "**Prepare the Model**\n",
        "\n",
        "Load VGG16 without the top classification layer\n",
        "\n",
        "Prepare a custom classifier\n",
        "\n",
        "Stack both models on top of each other"
      ]
    },
    {
      "cell_type": "code",
      "metadata": {
        "id": "GcUdmzLF33GR",
        "colab_type": "code",
        "colab": {}
      },
      "source": [
        "base_model = vgg.VGG16(weights='imagenet', \n",
        "                       include_top=False, \n",
        "                       input_shape=(64, 64, 3))"
      ],
      "execution_count": 7,
      "outputs": []
    },
    {
      "cell_type": "code",
      "metadata": {
        "id": "b_jDYFtB33GU",
        "colab_type": "code",
        "colab": {}
      },
      "source": [
        "# Extract the last layer from third block of vgg16 model\n",
        "last = base_model.get_layer('block3_pool').output"
      ],
      "execution_count": 8,
      "outputs": []
    },
    {
      "cell_type": "code",
      "metadata": {
        "id": "fBdre2um33GY",
        "colab_type": "code",
        "colab": {}
      },
      "source": [
        "# Add classification layers on top of it\n",
        "x = GlobalAveragePooling2D()(last)\n",
        "x = BatchNormalization()(x)\n",
        "x = Dense(256, activation='relu')(x)\n",
        "x = Dense(256, activation='relu')(x)\n",
        "x = Dropout(0.6)(x)\n",
        "pred = Dense(NUM_CLASSES, activation='softmax')(x)\n",
        "model = Model(base_model.input, pred)"
      ],
      "execution_count": 9,
      "outputs": []
    },
    {
      "cell_type": "markdown",
      "metadata": {
        "id": "ah7skMwu8YU8",
        "colab_type": "text"
      },
      "source": [
        "Since our objective is to only train the custom classifier, we freeze the layers of VGG16\n",
        "\n",
        "**Why do we freeze the layers ?**\n",
        "\n",
        "Layer freezing means layer weights of a trained model are not changed when they are reused in a subsequent downstream task - they remain frozen. Essentially when backprop is done during training these layers weights are untouched.\n",
        "\n",
        "link: https://www.quora.com/What-is-layer-freezing-in-transfer-learning"
      ]
    },
    {
      "cell_type": "code",
      "metadata": {
        "id": "jeUjBY_C33Gb",
        "colab_type": "code",
        "colab": {}
      },
      "source": [
        "for layer in base_model.layers:\n",
        "     layer.trainable = False"
      ],
      "execution_count": 10,
      "outputs": []
    },
    {
      "cell_type": "code",
      "metadata": {
        "id": "6heIeXGk33Ge",
        "colab_type": "code",
        "colab": {}
      },
      "source": [
        "model.compile(loss='categorical_crossentropy',\n",
        "              optimizer=optimizers.Adam(lr=LEARNING_RATE),\n",
        "              metrics=['accuracy'])"
      ],
      "execution_count": 11,
      "outputs": []
    },
    {
      "cell_type": "code",
      "metadata": {
        "id": "60Eiv6aF33Gh",
        "colab_type": "code",
        "colab": {
          "base_uri": "https://localhost:8080/",
          "height": 745
        },
        "outputId": "2f8aa136-d7d0-4d83-89f5-b44050d70cb2"
      },
      "source": [
        "model.summary()"
      ],
      "execution_count": 12,
      "outputs": [
        {
          "output_type": "stream",
          "text": [
            "Model: \"model\"\n",
            "_________________________________________________________________\n",
            "Layer (type)                 Output Shape              Param #   \n",
            "=================================================================\n",
            "input_1 (InputLayer)         [(None, 64, 64, 3)]       0         \n",
            "_________________________________________________________________\n",
            "block1_conv1 (Conv2D)        (None, 64, 64, 64)        1792      \n",
            "_________________________________________________________________\n",
            "block1_conv2 (Conv2D)        (None, 64, 64, 64)        36928     \n",
            "_________________________________________________________________\n",
            "block1_pool (MaxPooling2D)   (None, 32, 32, 64)        0         \n",
            "_________________________________________________________________\n",
            "block2_conv1 (Conv2D)        (None, 32, 32, 128)       73856     \n",
            "_________________________________________________________________\n",
            "block2_conv2 (Conv2D)        (None, 32, 32, 128)       147584    \n",
            "_________________________________________________________________\n",
            "block2_pool (MaxPooling2D)   (None, 16, 16, 128)       0         \n",
            "_________________________________________________________________\n",
            "block3_conv1 (Conv2D)        (None, 16, 16, 256)       295168    \n",
            "_________________________________________________________________\n",
            "block3_conv2 (Conv2D)        (None, 16, 16, 256)       590080    \n",
            "_________________________________________________________________\n",
            "block3_conv3 (Conv2D)        (None, 16, 16, 256)       590080    \n",
            "_________________________________________________________________\n",
            "block3_pool (MaxPooling2D)   (None, 8, 8, 256)         0         \n",
            "_________________________________________________________________\n",
            "global_average_pooling2d (Gl (None, 256)               0         \n",
            "_________________________________________________________________\n",
            "batch_normalization (BatchNo (None, 256)               1024      \n",
            "_________________________________________________________________\n",
            "dense (Dense)                (None, 256)               65792     \n",
            "_________________________________________________________________\n",
            "dense_1 (Dense)              (None, 256)               65792     \n",
            "_________________________________________________________________\n",
            "dropout (Dropout)            (None, 256)               0         \n",
            "_________________________________________________________________\n",
            "dense_2 (Dense)              (None, 10)                2570      \n",
            "=================================================================\n",
            "Total params: 1,870,666\n",
            "Trainable params: 134,666\n",
            "Non-trainable params: 1,736,000\n",
            "_________________________________________________________________\n"
          ],
          "name": "stdout"
        }
      ]
    },
    {
      "cell_type": "markdown",
      "metadata": {
        "id": "NpXVnq1d8q12",
        "colab_type": "text"
      },
      "source": [
        "**Data Augmentation**"
      ]
    },
    {
      "cell_type": "code",
      "metadata": {
        "id": "kMuRUi9A33Gk",
        "colab_type": "code",
        "colab": {}
      },
      "source": [
        "train_datagen = ImageDataGenerator(\n",
        "    rescale=1. / 255,\n",
        "    horizontal_flip=False)"
      ],
      "execution_count": 13,
      "outputs": []
    },
    {
      "cell_type": "code",
      "metadata": {
        "id": "wDA6dqoU33Gn",
        "colab_type": "code",
        "colab": {}
      },
      "source": [
        "  train_datagen.fit(X_train)\n",
        "  train_generator = train_datagen.flow(X_train,\n",
        "                                      Y_train, \n",
        "                                      batch_size=BATCH_SIZE)"
      ],
      "execution_count": 14,
      "outputs": []
    },
    {
      "cell_type": "code",
      "metadata": {
        "id": "Q-vewDHd33Gp",
        "colab_type": "code",
        "colab": {}
      },
      "source": [
        "val_datagen = ImageDataGenerator(rescale=1. / 255,\n",
        "    horizontal_flip=False)\n",
        "\n",
        "val_datagen.fit(X_val)\n",
        "val_generator = val_datagen.flow(X_val,Y_val,batch_size=BATCH_SIZE)"
      ],
      "execution_count": 15,
      "outputs": []
    },
    {
      "cell_type": "markdown",
      "metadata": {
        "id": "0ZW6Rk3t9If1",
        "colab_type": "text"
      },
      "source": [
        "**Train the Model**"
      ]
    },
    {
      "cell_type": "code",
      "metadata": {
        "id": "SosC4k0E33Gt",
        "colab_type": "code",
        "colab": {
          "base_uri": "https://localhost:8080/",
          "height": 1000
        },
        "outputId": "75d35a5f-49eb-4798-b457-3747ffeb9fc4"
      },
      "source": [
        "train_steps_per_epoch = X_train.shape[0] // BATCH_SIZE\n",
        "val_steps_per_epoch = X_val.shape[0] // BATCH_SIZE\n",
        "\n",
        "history = model.fit_generator(train_generator,\n",
        "                              steps_per_epoch=train_steps_per_epoch,\n",
        "                              validation_data=val_generator,\n",
        "                              validation_steps=val_steps_per_epoch,\n",
        "                              epochs=EPOCHS,\n",
        "                              verbose=1)"
      ],
      "execution_count": 16,
      "outputs": [
        {
          "output_type": "stream",
          "text": [
            "WARNING:tensorflow:From <ipython-input-16-38ab0eb7bcd0>:9: Model.fit_generator (from tensorflow.python.keras.engine.training) is deprecated and will be removed in a future version.\n",
            "Instructions for updating:\n",
            "Please use Model.fit, which supports generators.\n",
            "Epoch 1/70\n",
            "400/400 [==============================] - 33s 83ms/step - loss: 1.8607 - accuracy: 0.3536 - val_loss: 1.3744 - val_accuracy: 0.5397\n",
            "Epoch 2/70\n",
            "400/400 [==============================] - 33s 82ms/step - loss: 1.4091 - accuracy: 0.5152 - val_loss: 1.1737 - val_accuracy: 0.5986\n",
            "Epoch 3/70\n",
            "400/400 [==============================] - 33s 82ms/step - loss: 1.2490 - accuracy: 0.5693 - val_loss: 1.0615 - val_accuracy: 0.6354\n",
            "Epoch 4/70\n",
            "400/400 [==============================] - 33s 81ms/step - loss: 1.1466 - accuracy: 0.6043 - val_loss: 0.9911 - val_accuracy: 0.6573\n",
            "Epoch 5/70\n",
            "400/400 [==============================] - 32s 81ms/step - loss: 1.0756 - accuracy: 0.6302 - val_loss: 0.9420 - val_accuracy: 0.6746\n",
            "Epoch 6/70\n",
            "400/400 [==============================] - 32s 81ms/step - loss: 1.0198 - accuracy: 0.6486 - val_loss: 0.9044 - val_accuracy: 0.6841\n",
            "Epoch 7/70\n",
            "400/400 [==============================] - 33s 82ms/step - loss: 0.9766 - accuracy: 0.6646 - val_loss: 0.8793 - val_accuracy: 0.6893\n",
            "Epoch 8/70\n",
            "400/400 [==============================] - 33s 81ms/step - loss: 0.9473 - accuracy: 0.6733 - val_loss: 0.8521 - val_accuracy: 0.7009\n",
            "Epoch 9/70\n",
            "400/400 [==============================] - 33s 81ms/step - loss: 0.9218 - accuracy: 0.6827 - val_loss: 0.8323 - val_accuracy: 0.7078\n",
            "Epoch 10/70\n",
            "400/400 [==============================] - 33s 81ms/step - loss: 0.8901 - accuracy: 0.6926 - val_loss: 0.8174 - val_accuracy: 0.7144\n",
            "Epoch 11/70\n",
            "400/400 [==============================] - 33s 81ms/step - loss: 0.8716 - accuracy: 0.6989 - val_loss: 0.8028 - val_accuracy: 0.7179\n",
            "Epoch 12/70\n",
            "400/400 [==============================] - 33s 81ms/step - loss: 0.8518 - accuracy: 0.7053 - val_loss: 0.7913 - val_accuracy: 0.7231\n",
            "Epoch 13/70\n",
            "400/400 [==============================] - 33s 81ms/step - loss: 0.8315 - accuracy: 0.7138 - val_loss: 0.7807 - val_accuracy: 0.7232\n",
            "Epoch 14/70\n",
            "400/400 [==============================] - 33s 81ms/step - loss: 0.8178 - accuracy: 0.7173 - val_loss: 0.7705 - val_accuracy: 0.7285\n",
            "Epoch 15/70\n",
            "400/400 [==============================] - 33s 81ms/step - loss: 0.8048 - accuracy: 0.7222 - val_loss: 0.7624 - val_accuracy: 0.7312\n",
            "Epoch 16/70\n",
            "400/400 [==============================] - 33s 82ms/step - loss: 0.7871 - accuracy: 0.7285 - val_loss: 0.7573 - val_accuracy: 0.7333\n",
            "Epoch 17/70\n",
            "400/400 [==============================] - 33s 82ms/step - loss: 0.7778 - accuracy: 0.7281 - val_loss: 0.7476 - val_accuracy: 0.7371\n",
            "Epoch 18/70\n",
            "400/400 [==============================] - 33s 82ms/step - loss: 0.7637 - accuracy: 0.7369 - val_loss: 0.7411 - val_accuracy: 0.7372\n",
            "Epoch 19/70\n",
            "400/400 [==============================] - 33s 81ms/step - loss: 0.7556 - accuracy: 0.7394 - val_loss: 0.7360 - val_accuracy: 0.7417\n",
            "Epoch 20/70\n",
            "400/400 [==============================] - 32s 81ms/step - loss: 0.7418 - accuracy: 0.7436 - val_loss: 0.7311 - val_accuracy: 0.7426\n",
            "Epoch 21/70\n",
            "400/400 [==============================] - 33s 82ms/step - loss: 0.7356 - accuracy: 0.7442 - val_loss: 0.7250 - val_accuracy: 0.7456\n",
            "Epoch 22/70\n",
            "400/400 [==============================] - 32s 81ms/step - loss: 0.7222 - accuracy: 0.7505 - val_loss: 0.7198 - val_accuracy: 0.7477\n",
            "Epoch 23/70\n",
            "400/400 [==============================] - 32s 81ms/step - loss: 0.7096 - accuracy: 0.7551 - val_loss: 0.7203 - val_accuracy: 0.7463\n",
            "Epoch 24/70\n",
            "400/400 [==============================] - 32s 81ms/step - loss: 0.7074 - accuracy: 0.7556 - val_loss: 0.7121 - val_accuracy: 0.7519\n",
            "Epoch 25/70\n",
            "400/400 [==============================] - 32s 81ms/step - loss: 0.6947 - accuracy: 0.7606 - val_loss: 0.7096 - val_accuracy: 0.7498\n",
            "Epoch 26/70\n",
            "400/400 [==============================] - 33s 81ms/step - loss: 0.6926 - accuracy: 0.7574 - val_loss: 0.7037 - val_accuracy: 0.7524\n",
            "Epoch 27/70\n",
            "400/400 [==============================] - 33s 81ms/step - loss: 0.6798 - accuracy: 0.7649 - val_loss: 0.7016 - val_accuracy: 0.7522\n",
            "Epoch 28/70\n",
            "400/400 [==============================] - 32s 81ms/step - loss: 0.6742 - accuracy: 0.7682 - val_loss: 0.7011 - val_accuracy: 0.7529\n",
            "Epoch 29/70\n",
            "400/400 [==============================] - 32s 81ms/step - loss: 0.6657 - accuracy: 0.7695 - val_loss: 0.6956 - val_accuracy: 0.7548\n",
            "Epoch 30/70\n",
            "400/400 [==============================] - 32s 81ms/step - loss: 0.6580 - accuracy: 0.7709 - val_loss: 0.6965 - val_accuracy: 0.7563\n",
            "Epoch 31/70\n",
            "400/400 [==============================] - 33s 81ms/step - loss: 0.6516 - accuracy: 0.7729 - val_loss: 0.6923 - val_accuracy: 0.7562\n",
            "Epoch 32/70\n",
            "400/400 [==============================] - 32s 81ms/step - loss: 0.6444 - accuracy: 0.7781 - val_loss: 0.6910 - val_accuracy: 0.7594\n",
            "Epoch 33/70\n",
            "400/400 [==============================] - 32s 81ms/step - loss: 0.6398 - accuracy: 0.7768 - val_loss: 0.6866 - val_accuracy: 0.7601\n",
            "Epoch 34/70\n",
            "400/400 [==============================] - 32s 81ms/step - loss: 0.6349 - accuracy: 0.7798 - val_loss: 0.6888 - val_accuracy: 0.7579\n",
            "Epoch 35/70\n",
            "400/400 [==============================] - 32s 81ms/step - loss: 0.6296 - accuracy: 0.7800 - val_loss: 0.6861 - val_accuracy: 0.7581\n",
            "Epoch 36/70\n",
            "400/400 [==============================] - 32s 81ms/step - loss: 0.6220 - accuracy: 0.7818 - val_loss: 0.6810 - val_accuracy: 0.7583\n",
            "Epoch 37/70\n",
            "400/400 [==============================] - 33s 81ms/step - loss: 0.6209 - accuracy: 0.7850 - val_loss: 0.6824 - val_accuracy: 0.7595\n",
            "Epoch 38/70\n",
            "400/400 [==============================] - 32s 81ms/step - loss: 0.6057 - accuracy: 0.7899 - val_loss: 0.6829 - val_accuracy: 0.7607\n",
            "Epoch 39/70\n",
            "400/400 [==============================] - 32s 81ms/step - loss: 0.6059 - accuracy: 0.7883 - val_loss: 0.6837 - val_accuracy: 0.7592\n",
            "Epoch 40/70\n",
            "400/400 [==============================] - 33s 81ms/step - loss: 0.6003 - accuracy: 0.7891 - val_loss: 0.6783 - val_accuracy: 0.7626\n",
            "Epoch 41/70\n",
            "400/400 [==============================] - 33s 81ms/step - loss: 0.5910 - accuracy: 0.7929 - val_loss: 0.6757 - val_accuracy: 0.7644\n",
            "Epoch 42/70\n",
            "400/400 [==============================] - 33s 82ms/step - loss: 0.5866 - accuracy: 0.7959 - val_loss: 0.6742 - val_accuracy: 0.7651\n",
            "Epoch 43/70\n",
            "400/400 [==============================] - 33s 82ms/step - loss: 0.5827 - accuracy: 0.7969 - val_loss: 0.6745 - val_accuracy: 0.7643\n",
            "Epoch 44/70\n",
            "400/400 [==============================] - 33s 82ms/step - loss: 0.5718 - accuracy: 0.8014 - val_loss: 0.6745 - val_accuracy: 0.7636\n",
            "Epoch 45/70\n",
            "400/400 [==============================] - 33s 82ms/step - loss: 0.5740 - accuracy: 0.8005 - val_loss: 0.6739 - val_accuracy: 0.7630\n",
            "Epoch 46/70\n",
            "400/400 [==============================] - 33s 82ms/step - loss: 0.5695 - accuracy: 0.8029 - val_loss: 0.6726 - val_accuracy: 0.7639\n",
            "Epoch 47/70\n",
            "400/400 [==============================] - 32s 81ms/step - loss: 0.5617 - accuracy: 0.8063 - val_loss: 0.6745 - val_accuracy: 0.7633\n",
            "Epoch 48/70\n",
            "400/400 [==============================] - 33s 82ms/step - loss: 0.5604 - accuracy: 0.8036 - val_loss: 0.6725 - val_accuracy: 0.7632\n",
            "Epoch 49/70\n",
            "400/400 [==============================] - 33s 81ms/step - loss: 0.5512 - accuracy: 0.8090 - val_loss: 0.6739 - val_accuracy: 0.7644\n",
            "Epoch 50/70\n",
            "400/400 [==============================] - 33s 82ms/step - loss: 0.5498 - accuracy: 0.8069 - val_loss: 0.6692 - val_accuracy: 0.7666\n",
            "Epoch 51/70\n",
            "400/400 [==============================] - 33s 81ms/step - loss: 0.5435 - accuracy: 0.8090 - val_loss: 0.6749 - val_accuracy: 0.7656\n",
            "Epoch 52/70\n",
            "400/400 [==============================] - 32s 81ms/step - loss: 0.5395 - accuracy: 0.8111 - val_loss: 0.6703 - val_accuracy: 0.7649\n",
            "Epoch 53/70\n",
            "400/400 [==============================] - 33s 81ms/step - loss: 0.5319 - accuracy: 0.8148 - val_loss: 0.6734 - val_accuracy: 0.7631\n",
            "Epoch 54/70\n",
            "400/400 [==============================] - 33s 81ms/step - loss: 0.5280 - accuracy: 0.8139 - val_loss: 0.6715 - val_accuracy: 0.7660\n",
            "Epoch 55/70\n",
            "400/400 [==============================] - 32s 81ms/step - loss: 0.5271 - accuracy: 0.8143 - val_loss: 0.6723 - val_accuracy: 0.7668\n",
            "Epoch 56/70\n",
            "400/400 [==============================] - 32s 81ms/step - loss: 0.5213 - accuracy: 0.8195 - val_loss: 0.6707 - val_accuracy: 0.7654\n",
            "Epoch 57/70\n",
            "400/400 [==============================] - 32s 81ms/step - loss: 0.5148 - accuracy: 0.8193 - val_loss: 0.6726 - val_accuracy: 0.7684\n",
            "Epoch 58/70\n",
            "400/400 [==============================] - 32s 81ms/step - loss: 0.5150 - accuracy: 0.8209 - val_loss: 0.6715 - val_accuracy: 0.7662\n",
            "Epoch 59/70\n",
            "400/400 [==============================] - 33s 81ms/step - loss: 0.5104 - accuracy: 0.8209 - val_loss: 0.6759 - val_accuracy: 0.7668\n",
            "Epoch 60/70\n",
            "400/400 [==============================] - 33s 81ms/step - loss: 0.5087 - accuracy: 0.8211 - val_loss: 0.6708 - val_accuracy: 0.7683\n",
            "Epoch 61/70\n",
            "400/400 [==============================] - 32s 81ms/step - loss: 0.5025 - accuracy: 0.8234 - val_loss: 0.6732 - val_accuracy: 0.7668\n",
            "Epoch 62/70\n",
            "400/400 [==============================] - 32s 81ms/step - loss: 0.5019 - accuracy: 0.8227 - val_loss: 0.6712 - val_accuracy: 0.7670\n",
            "Epoch 63/70\n",
            "400/400 [==============================] - 32s 81ms/step - loss: 0.4981 - accuracy: 0.8249 - val_loss: 0.6745 - val_accuracy: 0.7671\n",
            "Epoch 64/70\n",
            "400/400 [==============================] - 32s 81ms/step - loss: 0.4911 - accuracy: 0.8284 - val_loss: 0.6707 - val_accuracy: 0.7703\n",
            "Epoch 65/70\n",
            "400/400 [==============================] - 32s 81ms/step - loss: 0.4855 - accuracy: 0.8271 - val_loss: 0.6736 - val_accuracy: 0.7688\n",
            "Epoch 66/70\n",
            "400/400 [==============================] - 32s 81ms/step - loss: 0.4851 - accuracy: 0.8278 - val_loss: 0.6752 - val_accuracy: 0.7684\n",
            "Epoch 67/70\n",
            "400/400 [==============================] - 32s 81ms/step - loss: 0.4794 - accuracy: 0.8324 - val_loss: 0.6755 - val_accuracy: 0.7686\n",
            "Epoch 68/70\n",
            "400/400 [==============================] - 32s 81ms/step - loss: 0.4725 - accuracy: 0.8331 - val_loss: 0.6736 - val_accuracy: 0.7708\n",
            "Epoch 69/70\n",
            "400/400 [==============================] - 33s 81ms/step - loss: 0.4722 - accuracy: 0.8318 - val_loss: 0.6762 - val_accuracy: 0.7682\n",
            "Epoch 70/70\n",
            "400/400 [==============================] - 33s 81ms/step - loss: 0.4704 - accuracy: 0.8320 - val_loss: 0.6760 - val_accuracy: 0.7668\n"
          ],
          "name": "stdout"
        }
      ]
    },
    {
      "cell_type": "code",
      "metadata": {
        "id": "oVd2F9su33Gv",
        "colab_type": "code",
        "colab": {
          "base_uri": "https://localhost:8080/",
          "height": 721
        },
        "outputId": "db5a6b05-94ee-42d8-b3a4-a1348ae1f173"
      },
      "source": [
        "acc = history.history['accuracy']\n",
        "val_acc = history.history['val_accuracy']\n",
        "\n",
        "loss = history.history['loss']\n",
        "val_loss = history.history['val_loss']\n",
        "\n",
        "epochs_range = range(70)\n",
        "\n",
        "plt.figure(figsize=(12, 12))\n",
        "plt.subplot(1, 2, 1)\n",
        "plt.plot(epochs_range, acc, label='Training Accuracy')\n",
        "plt.plot(epochs_range, val_acc, label='Validation Accuracy')\n",
        "plt.legend(loc='lower right')\n",
        "plt.title('Training and Validation Accuracy')\n",
        "\n",
        "plt.subplot(1, 2, 2)\n",
        "plt.plot(epochs_range, loss, label='Training Loss')\n",
        "plt.plot(epochs_range, val_loss, label='Validation Loss')\n",
        "plt.legend(loc='upper right')\n",
        "plt.title('Training and Validation Loss')\n",
        "plt.show()"
      ],
      "execution_count": 19,
      "outputs": [
        {
          "output_type": "display_data",
          "data": {
            "image/png": "[encoded data removed]",
            "text/plain": [
              "<Figure size 864x864 with 2 Axes>"
            ]
          },
          "metadata": {
            "tags": [],
            "needs_background": "light"
          }
        }
      ]
    },
    {
      "cell_type": "code",
      "metadata": {
        "id": "UW8VVsI3jXi1",
        "colab_type": "code",
        "colab": {
          "base_uri": "https://localhost:8080/",
          "height": 107
        },
        "outputId": "2896598a-e1f1-4bd3-915e-9e4e63bc9dfc"
      },
      "source": [
        "#Save the model\n",
        "history.model.save(\"image_classification_TF.model\")"
      ],
      "execution_count": 20,
      "outputs": [
        {
          "output_type": "stream",
          "text": [
            "WARNING:tensorflow:From /usr/local/lib/python3.6/dist-packages/tensorflow/python/ops/resource_variable_ops.py:1817: calling BaseResourceVariable.__init__ (from tensorflow.python.ops.resource_variable_ops) with constraint is deprecated and will be removed in a future version.\n",
            "Instructions for updating:\n",
            "If using Keras pass *_constraint arguments to layers.\n",
            "INFO:tensorflow:Assets written to: image_classification_TF.model/assets\n"
          ],
          "name": "stdout"
        }
      ]
    },
    {
      "cell_type": "code",
      "metadata": {
        "id": "M24Hia-D-JpE",
        "colab_type": "code",
        "colab": {
          "base_uri": "https://localhost:8080/",
          "height": 89
        },
        "outputId": "266e0654-a845-4c56-8e6b-84845ab8f05f"
      },
      "source": [
        "STEP_SIZE_VAL=val_generator.n//val_generator.batch_size\n",
        "\n",
        "loss_acc = model.evaluate_generator(generator=val_generator,steps=STEP_SIZE_VAL)"
      ],
      "execution_count": 21,
      "outputs": [
        {
          "output_type": "stream",
          "text": [
            "WARNING:tensorflow:From <ipython-input-21-93258ecb8741>:3: Model.evaluate_generator (from tensorflow.python.keras.engine.training) is deprecated and will be removed in a future version.\n",
            "Instructions for updating:\n",
            "Please use Model.evaluate, which supports generators.\n"
          ],
          "name": "stdout"
        }
      ]
    },
    {
      "cell_type": "code",
      "metadata": {
        "id": "ZMpTSNgcRzqa",
        "colab_type": "code",
        "colab": {
          "base_uri": "https://localhost:8080/",
          "height": 52
        },
        "outputId": "8998c771-fc4a-488a-99fc-ffb1caed124c"
      },
      "source": [
        "print(\"loss:\",loss_acc[0],\"\\nAccuracy:\",loss_acc[1])"
      ],
      "execution_count": 22,
      "outputs": [
        {
          "output_type": "stream",
          "text": [
            "loss: 0.675953209400177 \n",
            "Accuracy: 0.7667999863624573\n"
          ],
          "name": "stdout"
        }
      ]
    },
    {
      "cell_type": "code",
      "metadata": {
        "id": "iNsZ5mgKMf4J",
        "colab_type": "code",
        "colab": {}
      },
      "source": [
        "test_datagen = ImageDataGenerator(\n",
        "    rescale=1. / 255,\n",
        "    horizontal_flip=False)\n",
        "\n",
        "test_datagen.fit(X_test)\n",
        "test_generator = train_datagen.flow(X_test,\n",
        "                                    Y_test,\n",
        "                                    shuffle=False,\n",
        "                                    batch_size=100)"
      ],
      "execution_count": 23,
      "outputs": []
    },
    {
      "cell_type": "code",
      "metadata": {
        "id": "kJjiRcr9fpZN",
        "colab_type": "code",
        "colab": {
          "base_uri": "https://localhost:8080/",
          "height": 52
        },
        "outputId": "b1fcf652-66e8-4265-d285-ca7c18b350c4"
      },
      "source": [
        "STEP_SIZE_VAL=test_generator.n//test_generator.batch_size\n",
        "\n",
        "loss_acc_test = model.evaluate_generator(generator=test_generator,steps=STEP_SIZE_VAL)\n",
        "print(\"loss:\",loss_acc_test[0],\"\\nAccuracy:\",loss_acc_test[1])"
      ],
      "execution_count": 24,
      "outputs": [
        {
          "output_type": "stream",
          "text": [
            "loss: 0.6783964037895203 \n",
            "Accuracy: 0.7692999839782715\n"
          ],
          "name": "stdout"
        }
      ]
    },
    {
      "cell_type": "code",
      "metadata": {
        "id": "PX94FBE1Mdzg",
        "colab_type": "code",
        "colab": {
          "base_uri": "https://localhost:8080/",
          "height": 89
        },
        "outputId": "0c03ee9c-6f4e-431d-e1de-ba24f385eb22"
      },
      "source": [
        "STEP_SIZE_TEST=test_generator.n//test_generator.batch_size\n",
        "\n",
        "test_generator.reset()\n",
        "pred=model.predict_generator(test_generator,steps=STEP_SIZE_TEST,verbose=0)"
      ],
      "execution_count": 25,
      "outputs": [
        {
          "output_type": "stream",
          "text": [
            "WARNING:tensorflow:From <ipython-input-25-2c6c20eddbd6>:4: Model.predict_generator (from tensorflow.python.keras.engine.training) is deprecated and will be removed in a future version.\n",
            "Instructions for updating:\n",
            "Please use Model.predict, which supports generators.\n"
          ],
          "name": "stdout"
        }
      ]
    },
    {
      "cell_type": "code",
      "metadata": {
        "id": "HQjtTwBg-8Vj",
        "colab_type": "code",
        "colab": {
          "base_uri": "https://localhost:8080/",
          "height": 35
        },
        "outputId": "80a5eb71-2fde-4a02-f498-e7ff54e56ff9"
      },
      "source": [
        "catagories = {'dog': 0,'automobile': 1,'bird': 2,'cat': 3,'deer': 4,'airplane': 5,'frog': 6,'horse': 7,'ship': 8,'truck': 9}\n",
        "reverse_catagory = {n:i for i,n in catagories.items()}\n",
        "print(reverse_catagory)"
      ],
      "execution_count": 26,
      "outputs": [
        {
          "output_type": "stream",
          "text": [
            "{0: 'dog', 1: 'automobile', 2: 'bird', 3: 'cat', 4: 'deer', 5: 'airplane', 6: 'frog', 7: 'horse', 8: 'ship', 9: 'truck'}\n"
          ],
          "name": "stdout"
        }
      ]
    },
    {
      "cell_type": "code",
      "metadata": {
        "id": "JiBAJpg033Gy",
        "colab_type": "code",
        "colab": {
          "base_uri": "https://localhost:8080/",
          "height": 35
        },
        "outputId": "f144aec4-3a41-4e91-befa-a4d183cde111"
      },
      "source": [
        "predicted_class_indices=np.argmax(pred,axis=1)\n",
        "prediction = [reverse_catagory[img_] for img_ in predicted_class_indices]\n",
        "print(prediction[:10],len(prediction))"
      ],
      "execution_count": 27,
      "outputs": [
        {
          "output_type": "stream",
          "text": [
            "['cat', 'ship', 'ship', 'dog', 'frog', 'frog', 'automobile', 'frog', 'cat', 'automobile'] 10000\n"
          ],
          "name": "stdout"
        }
      ]
    },
    {
      "cell_type": "code",
      "metadata": {
        "id": "hF-YFRQRSgZE",
        "colab_type": "code",
        "colab": {
          "base_uri": "https://localhost:8080/",
          "height": 35
        },
        "outputId": "3dedd642-4a93-4073-9dd6-3714694d95fe"
      },
      "source": [
        "actual = [reverse_catagory[img_[0]] for img_ in y_test]\n",
        "print(actual[:10],len(actual))"
      ],
      "execution_count": 28,
      "outputs": [
        {
          "output_type": "stream",
          "text": [
            "['cat', 'ship', 'ship', 'dog', 'frog', 'frog', 'automobile', 'frog', 'cat', 'automobile'] 10000\n"
          ],
          "name": "stdout"
        }
      ]
    },
    {
      "cell_type": "code",
      "metadata": {
        "id": "xDX04-TLd473",
        "colab_type": "code",
        "colab": {
          "base_uri": "https://localhost:8080/",
          "height": 202
        },
        "outputId": "ac685aab-b42b-48dc-bc2a-a53e560e3102"
      },
      "source": [
        "results=pd.DataFrame({\"Actual\":actual,\n",
        "                     \"Predictions\":prediction})\n",
        "results.head()"
      ],
      "execution_count": 29,
      "outputs": [
        {
          "output_type": "execute_result",
          "data": {
            "text/html": [
              "<div>\n",
              "<style scoped>\n",
              "    .dataframe tbody tr th:only-of-type {\n",
              "        vertical-align: middle;\n",
              "    }\n",
              "\n",
              "    .dataframe tbody tr th {\n",
              "        vertical-align: top;\n",
              "    }\n",
              "\n",
              "    .dataframe thead th {\n",
              "        text-align: right;\n",
              "    }\n",
              "</style>\n",
              "<table border=\"1\" class=\"dataframe\">\n",
              "  <thead>\n",
              "    <tr style=\"text-align: right;\">\n",
              "      <th></th>\n",
              "      <th>Actual</th>\n",
              "      <th>Predictions</th>\n",
              "    </tr>\n",
              "  </thead>\n",
              "  <tbody>\n",
              "    <tr>\n",
              "      <th>0</th>\n",
              "      <td>cat</td>\n",
              "      <td>cat</td>\n",
              "    </tr>\n",
              "    <tr>\n",
              "      <th>1</th>\n",
              "      <td>ship</td>\n",
              "      <td>ship</td>\n",
              "    </tr>\n",
              "    <tr>\n",
              "      <th>2</th>\n",
              "      <td>ship</td>\n",
              "      <td>ship</td>\n",
              "    </tr>\n",
              "    <tr>\n",
              "      <th>3</th>\n",
              "      <td>dog</td>\n",
              "      <td>dog</td>\n",
              "    </tr>\n",
              "    <tr>\n",
              "      <th>4</th>\n",
              "      <td>frog</td>\n",
              "      <td>frog</td>\n",
              "    </tr>\n",
              "  </tbody>\n",
              "</table>\n",
              "</div>"
            ],
            "text/plain": [
              "  Actual Predictions\n",
              "0    cat         cat\n",
              "1   ship        ship\n",
              "2   ship        ship\n",
              "3    dog         dog\n",
              "4   frog        frog"
            ]
          },
          "metadata": {
            "tags": []
          },
          "execution_count": 29
        }
      ]
    }
  ]
}