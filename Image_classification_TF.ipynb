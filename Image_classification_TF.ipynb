{
  "nbformat": 4,
  "nbformat_minor": 0,
  "metadata": {
    "kernelspec": {
      "display_name": "Python 3",
      "language": "python",
      "name": "python3"
    },
    "language_info": {
      "codemirror_mode": {
        "name": "ipython",
        "version": 3
      },
      "file_extension": ".py",
      "mimetype": "text/x-python",
      "name": "python",
      "nbconvert_exporter": "python",
      "pygments_lexer": "ipython3",
      "version": "3.6.1"
    },
    "colab": {
      "name": "Image_classification_TF.ipynb",
      "provenance": []
    },
    "accelerator": "GPU"
  },
  "cells": [
    {
      "cell_type": "markdown",
      "metadata": {
        "id": "VCeLQSvd33GC",
        "colab_type": "text"
      },
      "source": [
        "The VGG() class takes a few arguments\n",
        "\n",
        "1) include_top (True): Whether or not to include the output layers for the model. You don’t need these if you are fitting the model on your own problem.\n",
        "\n",
        "2) weights (‘imagenet‘): What weights to load. You can specify None to not load pre-trained weights if you are interested in training the model yourself from scratch.\n",
        "\n",
        "3) input_tensor (None): A new input layer if you intend to fit the model on new data of a different size.\n",
        "\n",
        "4) input_shape (None): The size of images that the model is expected to take if you change the input layer.\n",
        "\n",
        "5) pooling (None): The type of pooling to use when you are training a new set of output layers.\n",
        "\n",
        "6) classes (1000): The number of classes (e.g. size of output vector) for the model."
      ]
    },
    {
      "cell_type": "code",
      "metadata": {
        "id": "wwsL2ZUO33GE",
        "colab_type": "code",
        "colab": {}
      },
      "source": [
        "import scipy as sp\n",
        "import numpy as np\n",
        "import pandas as pd\n",
        "from numpy.random import rand\n",
        "pd.options.display.max_colwidth = 600\n",
        "\n",
        "# Scikit Imports\n",
        "from sklearn import preprocessing\n",
        "from sklearn.metrics import roc_curve, auc, precision_recall_curve\n",
        "from sklearn.model_selection import train_test_split\n",
        "\n",
        "# import cnn_utils as utils\n",
        "# from model_evaluation_utils import get_metrics\n",
        "\n",
        "# Matplot Imports\n",
        "import matplotlib.pyplot as plt\n",
        "params = {'legend.fontsize': 'x-large',\n",
        "          'figure.figsize': (15, 5),\n",
        "          'axes.labelsize': 'x-large',\n",
        "          'axes.titlesize':'x-large',\n",
        "          'xtick.labelsize':'x-large',\n",
        "          'ytick.labelsize':'x-large'}\n",
        "\n",
        "plt.rcParams.update(params)\n",
        "%matplotlib inline\n",
        "\n",
        "# pandas display data frames as tables\n",
        "# from IPython.display import display, HTML\n",
        "\n",
        "# import warnings\n",
        "# warnings.filterwarnings('ignore')\n",
        "import tensorflow as tf\n",
        "from tensorflow.keras import callbacks\n",
        "from tensorflow.keras import optimizers\n",
        "from tensorflow.keras.datasets import cifar10\n",
        "from tensorflow.keras import Model\n",
        "from tensorflow.keras.applications import vgg16 as vgg\n",
        "from tensorflow.keras.layers import Dropout, Flatten, Dense, GlobalAveragePooling2D,BatchNormalization\n",
        "from tensorflow.keras.preprocessing.image import ImageDataGenerator\n",
        "#from tensorflow.keras.utils \n",
        "import np_utils\n",
        "\n",
        "# import tensorflow as tf\n",
        "from tensorflow.keras.utils import to_categorical"
      ],
      "execution_count": 1,
      "outputs": []
    },
    {
      "cell_type": "code",
      "metadata": {
        "id": "Tn-UhhJW6SJp",
        "colab_type": "code",
        "colab": {}
      },
      "source": [
        "BATCH_SIZE = 64\n",
        "EPOCHS = 50\n",
        "NUM_CLASSES = 10\n",
        "# 1e-4 = 0.0001\n",
        "LEARNING_RATE = 1e-4\n",
        "MOMENTUM = 0.9"
      ],
      "execution_count": 2,
      "outputs": []
    },
    {
      "cell_type": "code",
      "metadata": {
        "id": "YnyUN8wP33GJ",
        "colab_type": "code",
        "colab": {}
      },
      "source": [
        "(X_train, y_train), (X_test, y_test) = cifar10.load_data()"
      ],
      "execution_count": 3,
      "outputs": []
    },
    {
      "cell_type": "code",
      "metadata": {
        "id": "x-Yvrd6i33GM",
        "colab_type": "code",
        "colab": {}
      },
      "source": [
        "X_train, X_val, y_train, y_val = train_test_split(X_train, \n",
        "                                                  y_train, \n",
        "                                                  test_size=0.15, \n",
        "                                                  stratify=np.array(y_train), \n",
        "                                                  random_state=42)"
      ],
      "execution_count": 4,
      "outputs": []
    },
    {
      "cell_type": "code",
      "metadata": {
        "id": "2NO02k5060j-",
        "colab_type": "code",
        "colab": {
          "base_uri": "https://localhost:8080/",
          "height": 104
        },
        "outputId": "7ce5bbbc-ffd6-4e2a-e34a-b94df7a4ea88"
      },
      "source": [
        "# This is one-hot encoding\n",
        "Y_train = to_categorical(y_train, NUM_CLASSES)\n",
        "Y_val = to_categorical(y_val, NUM_CLASSES)\n",
        "Y_test = to_categorical(y_test, NUM_CLASSES)\n",
        "print(Y_train[:5])"
      ],
      "execution_count": 5,
      "outputs": [
        {
          "output_type": "stream",
          "text": [
            "[[0. 1. 0. 0. 0. 0. 0. 0. 0. 0.]\n",
            " [0. 0. 0. 0. 1. 0. 0. 0. 0. 0.]\n",
            " [0. 0. 1. 0. 0. 0. 0. 0. 0. 0.]\n",
            " [0. 0. 0. 0. 0. 0. 0. 1. 0. 0.]\n",
            " [0. 0. 0. 0. 0. 0. 0. 1. 0. 0.]]\n"
          ],
          "name": "stdout"
        }
      ]
    },
    {
      "cell_type": "code",
      "metadata": {
        "id": "9c46DZbt60sk",
        "colab_type": "code",
        "colab": {}
      },
      "source": [
        "import cv2\n",
        "\n",
        "X_train = np.array([cv2.resize(x, (32, 32)) for x in X_train])\n",
        "X_val = np.array([cv2.resize(x, (32, 32)) for x in X_val])\n",
        "X_test = np.array([cv2.resize(x, (32, 32)) for x in X_test])"
      ],
      "execution_count": 6,
      "outputs": []
    },
    {
      "cell_type": "markdown",
      "metadata": {
        "id": "0IkCPcVL73xb",
        "colab_type": "text"
      },
      "source": [
        "**Prepare the Model**\n",
        "\n",
        "Load VGG16 without the top classification layer\n",
        "\n",
        "Prepare a custom classifier\n",
        "\n",
        "Stack both models on top of each other"
      ]
    },
    {
      "cell_type": "code",
      "metadata": {
        "id": "GcUdmzLF33GR",
        "colab_type": "code",
        "colab": {}
      },
      "source": [
        "base_model = vgg.VGG16(weights='imagenet', \n",
        "                       include_top=False, \n",
        "                       input_shape=(32, 32, 3))"
      ],
      "execution_count": 7,
      "outputs": []
    },
    {
      "cell_type": "code",
      "metadata": {
        "id": "b_jDYFtB33GU",
        "colab_type": "code",
        "colab": {}
      },
      "source": [
        "# Extract the last layer from third block of vgg16 model\n",
        "last = base_model.get_layer('block3_pool').output"
      ],
      "execution_count": 8,
      "outputs": []
    },
    {
      "cell_type": "code",
      "metadata": {
        "id": "fBdre2um33GY",
        "colab_type": "code",
        "colab": {}
      },
      "source": [
        "# Add classification layers on top of it\n",
        "x = GlobalAveragePooling2D()(last)\n",
        "x = BatchNormalization()(x)\n",
        "x = Dense(256, activation='relu')(x)\n",
        "x = Dense(256, activation='relu')(x)\n",
        "x = Dropout(0.6)(x)\n",
        "pred = Dense(NUM_CLASSES, activation='softmax')(x)\n",
        "model = Model(base_model.input, pred)"
      ],
      "execution_count": 9,
      "outputs": []
    },
    {
      "cell_type": "markdown",
      "metadata": {
        "id": "ah7skMwu8YU8",
        "colab_type": "text"
      },
      "source": [
        "Since our objective is to only train the custom classifier, we freeze the layers of VGG16\n",
        "\n",
        "**Why do we freeze the layers ?**\n",
        "\n",
        "Layer freezing means layer weights of a trained model are not changed when they are reused in a subsequent downstream task - they remain frozen. Essentially when backprop is done during training these layers weights are untouched.\n",
        "\n",
        "link: https://www.quora.com/What-is-layer-freezing-in-transfer-learning"
      ]
    },
    {
      "cell_type": "code",
      "metadata": {
        "id": "jeUjBY_C33Gb",
        "colab_type": "code",
        "colab": {}
      },
      "source": [
        "for layer in base_model.layers:\n",
        "     layer.trainable = False"
      ],
      "execution_count": 10,
      "outputs": []
    },
    {
      "cell_type": "code",
      "metadata": {
        "id": "6heIeXGk33Ge",
        "colab_type": "code",
        "colab": {}
      },
      "source": [
        "model.compile(loss='categorical_crossentropy',\n",
        "              optimizer=optimizers.Adam(lr=LEARNING_RATE),\n",
        "              metrics=['accuracy'])"
      ],
      "execution_count": 11,
      "outputs": []
    },
    {
      "cell_type": "code",
      "metadata": {
        "id": "60Eiv6aF33Gh",
        "colab_type": "code",
        "colab": {
          "base_uri": "https://localhost:8080/",
          "height": 745
        },
        "outputId": "131e341d-5360-49e9-a73f-1652c128e575"
      },
      "source": [
        "model.summary()"
      ],
      "execution_count": 12,
      "outputs": [
        {
          "output_type": "stream",
          "text": [
            "Model: \"model\"\n",
            "_________________________________________________________________\n",
            "Layer (type)                 Output Shape              Param #   \n",
            "=================================================================\n",
            "input_1 (InputLayer)         [(None, 32, 32, 3)]       0         \n",
            "_________________________________________________________________\n",
            "block1_conv1 (Conv2D)        (None, 32, 32, 64)        1792      \n",
            "_________________________________________________________________\n",
            "block1_conv2 (Conv2D)        (None, 32, 32, 64)        36928     \n",
            "_________________________________________________________________\n",
            "block1_pool (MaxPooling2D)   (None, 16, 16, 64)        0         \n",
            "_________________________________________________________________\n",
            "block2_conv1 (Conv2D)        (None, 16, 16, 128)       73856     \n",
            "_________________________________________________________________\n",
            "block2_conv2 (Conv2D)        (None, 16, 16, 128)       147584    \n",
            "_________________________________________________________________\n",
            "block2_pool (MaxPooling2D)   (None, 8, 8, 128)         0         \n",
            "_________________________________________________________________\n",
            "block3_conv1 (Conv2D)        (None, 8, 8, 256)         295168    \n",
            "_________________________________________________________________\n",
            "block3_conv2 (Conv2D)        (None, 8, 8, 256)         590080    \n",
            "_________________________________________________________________\n",
            "block3_conv3 (Conv2D)        (None, 8, 8, 256)         590080    \n",
            "_________________________________________________________________\n",
            "block3_pool (MaxPooling2D)   (None, 4, 4, 256)         0         \n",
            "_________________________________________________________________\n",
            "global_average_pooling2d (Gl (None, 256)               0         \n",
            "_________________________________________________________________\n",
            "batch_normalization (BatchNo (None, 256)               1024      \n",
            "_________________________________________________________________\n",
            "dense (Dense)                (None, 256)               65792     \n",
            "_________________________________________________________________\n",
            "dense_1 (Dense)              (None, 256)               65792     \n",
            "_________________________________________________________________\n",
            "dropout (Dropout)            (None, 256)               0         \n",
            "_________________________________________________________________\n",
            "dense_2 (Dense)              (None, 10)                2570      \n",
            "=================================================================\n",
            "Total params: 1,870,666\n",
            "Trainable params: 134,666\n",
            "Non-trainable params: 1,736,000\n",
            "_________________________________________________________________\n"
          ],
          "name": "stdout"
        }
      ]
    },
    {
      "cell_type": "markdown",
      "metadata": {
        "id": "NpXVnq1d8q12",
        "colab_type": "text"
      },
      "source": [
        "**Data Augmentation**"
      ]
    },
    {
      "cell_type": "code",
      "metadata": {
        "id": "kMuRUi9A33Gk",
        "colab_type": "code",
        "colab": {}
      },
      "source": [
        "train_datagen = ImageDataGenerator(\n",
        "    rescale=1. / 255,\n",
        "    horizontal_flip=False)"
      ],
      "execution_count": 13,
      "outputs": []
    },
    {
      "cell_type": "code",
      "metadata": {
        "id": "wDA6dqoU33Gn",
        "colab_type": "code",
        "colab": {}
      },
      "source": [
        "  train_datagen.fit(X_train)\n",
        "  train_generator = train_datagen.flow(X_train,\n",
        "                                      Y_train, \n",
        "                                      batch_size=BATCH_SIZE)"
      ],
      "execution_count": 14,
      "outputs": []
    },
    {
      "cell_type": "code",
      "metadata": {
        "id": "Q-vewDHd33Gp",
        "colab_type": "code",
        "colab": {}
      },
      "source": [
        "val_datagen = ImageDataGenerator(rescale=1. / 255,\n",
        "    horizontal_flip=False)\n",
        "\n",
        "val_datagen.fit(X_val)\n",
        "val_generator = val_datagen.flow(X_val,Y_val,batch_size=BATCH_SIZE)"
      ],
      "execution_count": 15,
      "outputs": []
    },
    {
      "cell_type": "markdown",
      "metadata": {
        "id": "0ZW6Rk3t9If1",
        "colab_type": "text"
      },
      "source": [
        "**Train the Model**"
      ]
    },
    {
      "cell_type": "code",
      "metadata": {
        "id": "SosC4k0E33Gt",
        "colab_type": "code",
        "colab": {
          "base_uri": "https://localhost:8080/",
          "height": 1000
        },
        "outputId": "71409075-ce64-4542-87f0-44bf452d9d64"
      },
      "source": [
        "train_steps_per_epoch = X_train.shape[0] // BATCH_SIZE\n",
        "val_steps_per_epoch = X_val.shape[0] // BATCH_SIZE\n",
        "\n",
        "history = model.fit_generator(train_generator,\n",
        "                              steps_per_epoch=train_steps_per_epoch,\n",
        "                              validation_data=val_generator,\n",
        "                              validation_steps=val_steps_per_epoch,\n",
        "                              epochs=EPOCHS,\n",
        "                              verbose=1)"
      ],
      "execution_count": 16,
      "outputs": [
        {
          "output_type": "stream",
          "text": [
            "WARNING:tensorflow:From <ipython-input-16-38ab0eb7bcd0>:9: Model.fit_generator (from tensorflow.python.keras.engine.training) is deprecated and will be removed in a future version.\n",
            "Instructions for updating:\n",
            "Please use Model.fit, which supports generators.\n",
            "Epoch 1/50\n",
            "664/664 [==============================] - 12s 19ms/step - loss: 1.7936 - accuracy: 0.3753 - val_loss: 1.2978 - val_accuracy: 0.5589\n",
            "Epoch 2/50\n",
            "664/664 [==============================] - 12s 18ms/step - loss: 1.3579 - accuracy: 0.5265 - val_loss: 1.1173 - val_accuracy: 0.6116\n",
            "Epoch 3/50\n",
            "664/664 [==============================] - 12s 18ms/step - loss: 1.2135 - accuracy: 0.5781 - val_loss: 1.0310 - val_accuracy: 0.6418\n",
            "Epoch 4/50\n",
            "664/664 [==============================] - 12s 18ms/step - loss: 1.1226 - accuracy: 0.6106 - val_loss: 0.9745 - val_accuracy: 0.6617\n",
            "Epoch 5/50\n",
            "664/664 [==============================] - 12s 18ms/step - loss: 1.0635 - accuracy: 0.6301 - val_loss: 0.9323 - val_accuracy: 0.6740\n",
            "Epoch 6/50\n",
            "664/664 [==============================] - 12s 18ms/step - loss: 1.0154 - accuracy: 0.6460 - val_loss: 0.8997 - val_accuracy: 0.6883\n",
            "Epoch 7/50\n",
            "664/664 [==============================] - 12s 18ms/step - loss: 0.9778 - accuracy: 0.6602 - val_loss: 0.8737 - val_accuracy: 0.6967\n",
            "Epoch 8/50\n",
            "664/664 [==============================] - 12s 18ms/step - loss: 0.9461 - accuracy: 0.6735 - val_loss: 0.8551 - val_accuracy: 0.7003\n",
            "Epoch 9/50\n",
            "664/664 [==============================] - 12s 18ms/step - loss: 0.9198 - accuracy: 0.6790 - val_loss: 0.8362 - val_accuracy: 0.7067\n",
            "Epoch 10/50\n",
            "664/664 [==============================] - 12s 18ms/step - loss: 0.8965 - accuracy: 0.6875 - val_loss: 0.8211 - val_accuracy: 0.7122\n",
            "Epoch 11/50\n",
            "664/664 [==============================] - 12s 18ms/step - loss: 0.8755 - accuracy: 0.6947 - val_loss: 0.8095 - val_accuracy: 0.7134\n",
            "Epoch 12/50\n",
            "664/664 [==============================] - 12s 18ms/step - loss: 0.8580 - accuracy: 0.7026 - val_loss: 0.7990 - val_accuracy: 0.7157\n",
            "Epoch 13/50\n",
            "664/664 [==============================] - 12s 18ms/step - loss: 0.8372 - accuracy: 0.7101 - val_loss: 0.7920 - val_accuracy: 0.7244\n",
            "Epoch 14/50\n",
            "664/664 [==============================] - 12s 18ms/step - loss: 0.8214 - accuracy: 0.7142 - val_loss: 0.7815 - val_accuracy: 0.7244\n",
            "Epoch 15/50\n",
            "664/664 [==============================] - 12s 18ms/step - loss: 0.8100 - accuracy: 0.7189 - val_loss: 0.7744 - val_accuracy: 0.7300\n",
            "Epoch 16/50\n",
            "664/664 [==============================] - 12s 18ms/step - loss: 0.7988 - accuracy: 0.7241 - val_loss: 0.7699 - val_accuracy: 0.7300\n",
            "Epoch 17/50\n",
            "664/664 [==============================] - 12s 18ms/step - loss: 0.7836 - accuracy: 0.7296 - val_loss: 0.7600 - val_accuracy: 0.7332\n",
            "Epoch 18/50\n",
            "664/664 [==============================] - 12s 18ms/step - loss: 0.7725 - accuracy: 0.7318 - val_loss: 0.7604 - val_accuracy: 0.7334\n",
            "Epoch 19/50\n",
            "664/664 [==============================] - 12s 18ms/step - loss: 0.7619 - accuracy: 0.7358 - val_loss: 0.7539 - val_accuracy: 0.7349\n",
            "Epoch 20/50\n",
            "664/664 [==============================] - 12s 18ms/step - loss: 0.7478 - accuracy: 0.7400 - val_loss: 0.7501 - val_accuracy: 0.7385\n",
            "Epoch 21/50\n",
            "664/664 [==============================] - 12s 18ms/step - loss: 0.7376 - accuracy: 0.7452 - val_loss: 0.7439 - val_accuracy: 0.7382\n",
            "Epoch 22/50\n",
            "664/664 [==============================] - 12s 18ms/step - loss: 0.7294 - accuracy: 0.7453 - val_loss: 0.7427 - val_accuracy: 0.7373\n",
            "Epoch 23/50\n",
            "664/664 [==============================] - 12s 18ms/step - loss: 0.7217 - accuracy: 0.7484 - val_loss: 0.7444 - val_accuracy: 0.7409\n",
            "Epoch 24/50\n",
            "664/664 [==============================] - 12s 18ms/step - loss: 0.7090 - accuracy: 0.7547 - val_loss: 0.7388 - val_accuracy: 0.7423\n",
            "Epoch 25/50\n",
            "664/664 [==============================] - 12s 18ms/step - loss: 0.7029 - accuracy: 0.7545 - val_loss: 0.7405 - val_accuracy: 0.7412\n",
            "Epoch 26/50\n",
            "664/664 [==============================] - 12s 18ms/step - loss: 0.6913 - accuracy: 0.7579 - val_loss: 0.7389 - val_accuracy: 0.7428\n",
            "Epoch 27/50\n",
            "664/664 [==============================] - 12s 18ms/step - loss: 0.6885 - accuracy: 0.7607 - val_loss: 0.7310 - val_accuracy: 0.7441\n",
            "Epoch 28/50\n",
            "664/664 [==============================] - 12s 18ms/step - loss: 0.6818 - accuracy: 0.7625 - val_loss: 0.7298 - val_accuracy: 0.7447\n",
            "Epoch 29/50\n",
            "664/664 [==============================] - 12s 18ms/step - loss: 0.6725 - accuracy: 0.7651 - val_loss: 0.7290 - val_accuracy: 0.7445\n",
            "Epoch 30/50\n",
            "664/664 [==============================] - 12s 18ms/step - loss: 0.6664 - accuracy: 0.7675 - val_loss: 0.7268 - val_accuracy: 0.7451\n",
            "Epoch 31/50\n",
            "664/664 [==============================] - 12s 19ms/step - loss: 0.6595 - accuracy: 0.7691 - val_loss: 0.7251 - val_accuracy: 0.7468\n",
            "Epoch 32/50\n",
            "664/664 [==============================] - 12s 18ms/step - loss: 0.6543 - accuracy: 0.7711 - val_loss: 0.7243 - val_accuracy: 0.7457\n",
            "Epoch 33/50\n",
            "664/664 [==============================] - 12s 18ms/step - loss: 0.6420 - accuracy: 0.7766 - val_loss: 0.7265 - val_accuracy: 0.7459\n",
            "Epoch 34/50\n",
            "664/664 [==============================] - 12s 18ms/step - loss: 0.6356 - accuracy: 0.7779 - val_loss: 0.7230 - val_accuracy: 0.7467\n",
            "Epoch 35/50\n",
            "664/664 [==============================] - 12s 18ms/step - loss: 0.6297 - accuracy: 0.7807 - val_loss: 0.7243 - val_accuracy: 0.7464\n",
            "Epoch 36/50\n",
            "664/664 [==============================] - 12s 18ms/step - loss: 0.6215 - accuracy: 0.7833 - val_loss: 0.7251 - val_accuracy: 0.7475\n",
            "Epoch 37/50\n",
            "664/664 [==============================] - 12s 18ms/step - loss: 0.6204 - accuracy: 0.7827 - val_loss: 0.7195 - val_accuracy: 0.7525\n",
            "Epoch 38/50\n",
            "664/664 [==============================] - 12s 18ms/step - loss: 0.6107 - accuracy: 0.7836 - val_loss: 0.7174 - val_accuracy: 0.7491\n",
            "Epoch 39/50\n",
            "664/664 [==============================] - 12s 18ms/step - loss: 0.6070 - accuracy: 0.7857 - val_loss: 0.7162 - val_accuracy: 0.7507\n",
            "Epoch 40/50\n",
            "664/664 [==============================] - 12s 18ms/step - loss: 0.5975 - accuracy: 0.7900 - val_loss: 0.7180 - val_accuracy: 0.7496\n",
            "Epoch 41/50\n",
            "664/664 [==============================] - 12s 18ms/step - loss: 0.5938 - accuracy: 0.7912 - val_loss: 0.7171 - val_accuracy: 0.7533\n",
            "Epoch 42/50\n",
            "664/664 [==============================] - 12s 18ms/step - loss: 0.5896 - accuracy: 0.7917 - val_loss: 0.7233 - val_accuracy: 0.7505\n",
            "Epoch 43/50\n",
            "664/664 [==============================] - 12s 18ms/step - loss: 0.5846 - accuracy: 0.7960 - val_loss: 0.7198 - val_accuracy: 0.7515\n",
            "Epoch 44/50\n",
            "664/664 [==============================] - 12s 18ms/step - loss: 0.5789 - accuracy: 0.7971 - val_loss: 0.7223 - val_accuracy: 0.7515\n",
            "Epoch 45/50\n",
            "664/664 [==============================] - 12s 18ms/step - loss: 0.5758 - accuracy: 0.7964 - val_loss: 0.7195 - val_accuracy: 0.7517\n",
            "Epoch 46/50\n",
            "664/664 [==============================] - 12s 18ms/step - loss: 0.5684 - accuracy: 0.7999 - val_loss: 0.7212 - val_accuracy: 0.7511\n",
            "Epoch 47/50\n",
            "664/664 [==============================] - 12s 18ms/step - loss: 0.5605 - accuracy: 0.8021 - val_loss: 0.7193 - val_accuracy: 0.7532\n",
            "Epoch 48/50\n",
            "664/664 [==============================] - 12s 18ms/step - loss: 0.5565 - accuracy: 0.8043 - val_loss: 0.7220 - val_accuracy: 0.7513\n",
            "Epoch 49/50\n",
            "664/664 [==============================] - 12s 19ms/step - loss: 0.5521 - accuracy: 0.8050 - val_loss: 0.7236 - val_accuracy: 0.7520\n",
            "Epoch 50/50\n",
            "664/664 [==============================] - 12s 18ms/step - loss: 0.5468 - accuracy: 0.8079 - val_loss: 0.7231 - val_accuracy: 0.7532\n"
          ],
          "name": "stdout"
        }
      ]
    },
    {
      "cell_type": "code",
      "metadata": {
        "id": "oVd2F9su33Gv",
        "colab_type": "code",
        "colab": {
          "base_uri": "https://localhost:8080/",
          "height": 504
        },
        "outputId": "0dc3948b-394f-4751-fcf6-e63179162940"
      },
      "source": [
        "acc = history.history['accuracy']\n",
        "val_acc = history.history['val_accuracy']\n",
        "\n",
        "loss = history.history['loss']\n",
        "val_loss = history.history['val_loss']\n",
        "\n",
        "epochs_range = range(50)\n",
        "\n",
        "plt.figure(figsize=(8, 8))\n",
        "plt.subplot(1, 2, 1)\n",
        "plt.plot(epochs_range, acc, label='Training Accuracy')\n",
        "plt.plot(epochs_range, val_acc, label='Validation Accuracy')\n",
        "plt.legend(loc='lower right')\n",
        "plt.title('Training and Validation Accuracy')\n",
        "\n",
        "plt.subplot(1, 2, 2)\n",
        "plt.plot(epochs_range, loss, label='Training Loss')\n",
        "plt.plot(epochs_range, val_loss, label='Validation Loss')\n",
        "plt.legend(loc='upper right')\n",
        "plt.title('Training and Validation Loss')\n",
        "plt.show()"
      ],
      "execution_count": 18,
      "outputs": [
        {
          "output_type": "display_data",
          "data": {
            "image/png": "[encoded data removed]",
            "text/plain": [
              "<Figure size 576x576 with 2 Axes>"
            ]
          },
          "metadata": {
            "tags": [],
            "needs_background": "light"
          }
        }
      ]
    },
    {
      "cell_type": "code",
      "metadata": {
        "id": "UW8VVsI3jXi1",
        "colab_type": "code",
        "colab": {
          "base_uri": "https://localhost:8080/",
          "height": 107
        },
        "outputId": "874c3974-ba72-4f24-f914-8284abe1cdc6"
      },
      "source": [
        "#Save the model\n",
        "history.model.save(\"image_classification_TF.model\")"
      ],
      "execution_count": 117,
      "outputs": [
        {
          "output_type": "stream",
          "text": [
            "WARNING:tensorflow:From /usr/local/lib/python3.6/dist-packages/tensorflow/python/ops/resource_variable_ops.py:1817: calling BaseResourceVariable.__init__ (from tensorflow.python.ops.resource_variable_ops) with constraint is deprecated and will be removed in a future version.\n",
            "Instructions for updating:\n",
            "If using Keras pass *_constraint arguments to layers.\n",
            "INFO:tensorflow:Assets written to: image_classification_TF.model/assets\n"
          ],
          "name": "stdout"
        }
      ]
    },
    {
      "cell_type": "code",
      "metadata": {
        "id": "M24Hia-D-JpE",
        "colab_type": "code",
        "colab": {}
      },
      "source": [
        "STEP_SIZE_VAL=val_generator.n//val_generator.batch_size\n",
        "\n",
        "loss_acc = model.evaluate_generator(generator=val_generator,steps=STEP_SIZE_VAL)"
      ],
      "execution_count": 83,
      "outputs": []
    },
    {
      "cell_type": "code",
      "metadata": {
        "id": "ZMpTSNgcRzqa",
        "colab_type": "code",
        "colab": {
          "base_uri": "https://localhost:8080/",
          "height": 52
        },
        "outputId": "a513558a-120a-476a-df85-839bfd4a82f1"
      },
      "source": [
        "print(\"loss:\",loss_acc[0],\"\\nAccuracy:\",loss_acc[1])"
      ],
      "execution_count": 84,
      "outputs": [
        {
          "output_type": "stream",
          "text": [
            "loss: 0.7223419547080994 \n",
            "Accuracy: 0.7532051205635071\n"
          ],
          "name": "stdout"
        }
      ]
    },
    {
      "cell_type": "code",
      "metadata": {
        "id": "iNsZ5mgKMf4J",
        "colab_type": "code",
        "colab": {}
      },
      "source": [
        "test_datagen = ImageDataGenerator(\n",
        "    rescale=1. / 255,\n",
        "    horizontal_flip=False)\n",
        "\n",
        "test_datagen.fit(X_test)\n",
        "test_generator = train_datagen.flow(X_test,\n",
        "                                    Y_test,\n",
        "                                    shuffle=False,\n",
        "                                    batch_size=100)"
      ],
      "execution_count": 108,
      "outputs": []
    },
    {
      "cell_type": "code",
      "metadata": {
        "id": "kJjiRcr9fpZN",
        "colab_type": "code",
        "colab": {
          "base_uri": "https://localhost:8080/",
          "height": 52
        },
        "outputId": "c9950e1a-83c4-4ba3-ab9e-41e4fb93f1a5"
      },
      "source": [
        "STEP_SIZE_VAL=test_generator.n//test_generator.batch_size\n",
        "\n",
        "loss_acc_test = model.evaluate_generator(generator=test_generator,steps=STEP_SIZE_VAL)\n",
        "print(\"loss:\",loss_acc_test[0],\"\\nAccuracy:\",loss_acc_test[1])"
      ],
      "execution_count": 109,
      "outputs": [
        {
          "output_type": "stream",
          "text": [
            "loss: 0.7269835472106934 \n",
            "Accuracy: 0.7508000135421753\n"
          ],
          "name": "stdout"
        }
      ]
    },
    {
      "cell_type": "code",
      "metadata": {
        "id": "PX94FBE1Mdzg",
        "colab_type": "code",
        "colab": {}
      },
      "source": [
        "STEP_SIZE_TEST=test_generator.n//test_generator.batch_size\n",
        "\n",
        "test_generator.reset()\n",
        "pred=model.predict_generator(test_generator,steps=STEP_SIZE_TEST,verbose=0)"
      ],
      "execution_count": 110,
      "outputs": []
    },
    {
      "cell_type": "code",
      "metadata": {
        "id": "HQjtTwBg-8Vj",
        "colab_type": "code",
        "colab": {
          "base_uri": "https://localhost:8080/",
          "height": 55
        },
        "outputId": "4fce1b57-bd92-4d56-ef0a-298a259c6370"
      },
      "source": [
        "catagories = {'dog': 0,'automobile': 1,'bird': 2,'cat': 3,'deer': 4,'airplane': 5,'frog': 6,'horse': 7,'ship': 8,'truck': 9}\n",
        "reverse_catagory = {n:i for i,n in catagories.items()}\n",
        "print(reverse_catagory)"
      ],
      "execution_count": 111,
      "outputs": [
        {
          "output_type": "stream",
          "text": [
            "{0: 'dog', 1: 'automobile', 2: 'bird', 3: 'cat', 4: 'deer', 5: 'airplane', 6: 'frog', 7: 'horse', 8: 'ship', 9: 'truck'}\n"
          ],
          "name": "stdout"
        }
      ]
    },
    {
      "cell_type": "code",
      "metadata": {
        "id": "JiBAJpg033Gy",
        "colab_type": "code",
        "colab": {
          "base_uri": "https://localhost:8080/",
          "height": 35
        },
        "outputId": "05045f30-a894-4f7b-e6b0-565f9b4c7839"
      },
      "source": [
        "predicted_class_indices=np.argmax(pred,axis=1)\n",
        "prediction = [reverse_catagory[img_] for img_ in predicted_class_indices]\n",
        "print(prediction[:10],len(prediction))"
      ],
      "execution_count": 112,
      "outputs": [
        {
          "output_type": "stream",
          "text": [
            "['cat', 'automobile', 'ship', 'dog', 'frog', 'frog', 'automobile', 'bird', 'cat', 'frog'] 10000\n"
          ],
          "name": "stdout"
        }
      ]
    },
    {
      "cell_type": "code",
      "metadata": {
        "id": "hF-YFRQRSgZE",
        "colab_type": "code",
        "colab": {
          "base_uri": "https://localhost:8080/",
          "height": 35
        },
        "outputId": "d0686d16-4096-4a0a-b0e8-eb055584c825"
      },
      "source": [
        "actual = [reverse_catagory[img_[0]] for img_ in y_test]\n",
        "print(actual[:10],len(actual))"
      ],
      "execution_count": 113,
      "outputs": [
        {
          "output_type": "stream",
          "text": [
            "['cat', 'ship', 'ship', 'dog', 'frog', 'frog', 'automobile', 'frog', 'cat', 'automobile'] 10000\n"
          ],
          "name": "stdout"
        }
      ]
    },
    {
      "cell_type": "code",
      "metadata": {
        "id": "xDX04-TLd473",
        "colab_type": "code",
        "colab": {
          "base_uri": "https://localhost:8080/",
          "height": 202
        },
        "outputId": "5bd234bb-fb9b-44cd-f231-5fa2e39b549f"
      },
      "source": [
        "results=pd.DataFrame({\"Actual\":actual,\n",
        "                     \"Predictions\":prediction})\n",
        "results.head()"
      ],
      "execution_count": 114,
      "outputs": [
        {
          "output_type": "execute_result",
          "data": {
            "text/html": [
              "<div>\n",
              "<style scoped>\n",
              "    .dataframe tbody tr th:only-of-type {\n",
              "        vertical-align: middle;\n",
              "    }\n",
              "\n",
              "    .dataframe tbody tr th {\n",
              "        vertical-align: top;\n",
              "    }\n",
              "\n",
              "    .dataframe thead th {\n",
              "        text-align: right;\n",
              "    }\n",
              "</style>\n",
              "<table border=\"1\" class=\"dataframe\">\n",
              "  <thead>\n",
              "    <tr style=\"text-align: right;\">\n",
              "      <th></th>\n",
              "      <th>Actual</th>\n",
              "      <th>Predictions</th>\n",
              "    </tr>\n",
              "  </thead>\n",
              "  <tbody>\n",
              "    <tr>\n",
              "      <th>0</th>\n",
              "      <td>cat</td>\n",
              "      <td>cat</td>\n",
              "    </tr>\n",
              "    <tr>\n",
              "      <th>1</th>\n",
              "      <td>ship</td>\n",
              "      <td>automobile</td>\n",
              "    </tr>\n",
              "    <tr>\n",
              "      <th>2</th>\n",
              "      <td>ship</td>\n",
              "      <td>ship</td>\n",
              "    </tr>\n",
              "    <tr>\n",
              "      <th>3</th>\n",
              "      <td>dog</td>\n",
              "      <td>dog</td>\n",
              "    </tr>\n",
              "    <tr>\n",
              "      <th>4</th>\n",
              "      <td>frog</td>\n",
              "      <td>frog</td>\n",
              "    </tr>\n",
              "  </tbody>\n",
              "</table>\n",
              "</div>"
            ],
            "text/plain": [
              "  Actual Predictions\n",
              "0    cat         cat\n",
              "1   ship  automobile\n",
              "2   ship        ship\n",
              "3    dog         dog\n",
              "4   frog        frog"
            ]
          },
          "metadata": {
            "tags": []
          },
          "execution_count": 114
        }
      ]
    },
    {
      "cell_type": "code",
      "metadata": {
        "id": "2oq47BtHi7C2",
        "colab_type": "code",
        "colab": {}
      },
      "source": [
        ""
      ],
      "execution_count": null,
      "outputs": []
    }
  ]
}