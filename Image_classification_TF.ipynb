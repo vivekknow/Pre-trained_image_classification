{
  "nbformat": 4,
  "nbformat_minor": 0,
  "metadata": {
    "kernelspec": {
      "display_name": "Python 3",
      "language": "python",
      "name": "python3"
    },
    "language_info": {
      "codemirror_mode": {
        "name": "ipython",
        "version": 3
      },
      "file_extension": ".py",
      "mimetype": "text/x-python",
      "name": "python",
      "nbconvert_exporter": "python",
      "pygments_lexer": "ipython3",
      "version": "3.6.1"
    },
    "colab": {
      "name": "Image_classification_TF.ipynb",
      "provenance": []
    },
    "accelerator": "GPU"
  },
  "cells": [
    {
      "cell_type": "markdown",
      "metadata": {
        "id": "VCeLQSvd33GC",
        "colab_type": "text"
      },
      "source": [
        "The VGG() class takes a few arguments\n",
        "\n",
        "1) include_top (True): Whether or not to include the output layers for the model. You don’t need these if you are fitting the model on your own problem.\n",
        "\n",
        "2) weights (‘imagenet‘): What weights to load. You can specify None to not load pre-trained weights if you are interested in training the model yourself from scratch.\n",
        "\n",
        "3) input_tensor (None): A new input layer if you intend to fit the model on new data of a different size.\n",
        "\n",
        "4) input_shape (None): The size of images that the model is expected to take if you change the input layer.\n",
        "\n",
        "5) pooling (None): The type of pooling to use when you are training a new set of output layers.\n",
        "\n",
        "6) classes (1000): The number of classes (e.g. size of output vector) for the model."
      ]
    },
    {
      "cell_type": "code",
      "metadata": {
        "id": "wwsL2ZUO33GE",
        "colab_type": "code",
        "colab": {}
      },
      "source": [
        "import scipy as sp\n",
        "import numpy as np\n",
        "import pandas as pd\n",
        "from numpy.random import rand\n",
        "pd.options.display.max_colwidth = 600\n",
        "\n",
        "# Scikit Imports\n",
        "from sklearn import preprocessing\n",
        "from sklearn.metrics import roc_curve, auc, precision_recall_curve\n",
        "from sklearn.model_selection import train_test_split\n",
        "\n",
        "# Matplot Imports\n",
        "import matplotlib.pyplot as plt\n",
        "\n",
        "plt.rcParams.update(params)\n",
        "%matplotlib inline\n",
        "\n",
        "import tensorflow as tf\n",
        "from tensorflow.keras import callbacks\n",
        "from tensorflow.keras import optimizers\n",
        "from tensorflow.keras.datasets import cifar10\n",
        "from tensorflow.keras import Model\n",
        "from tensorflow.keras.applications import vgg16 as vgg\n",
        "from tensorflow.keras.layers import Dropout, Flatten, Dense, GlobalAveragePooling2D,BatchNormalization\n",
        "from tensorflow.keras.preprocessing.image import ImageDataGenerator\n",
        "#from tensorflow.keras.utils \n",
        "import np_utils\n",
        "\n",
        "# import tensorflow as tf\n",
        "from tensorflow.keras.utils import to_categorical"
      ],
      "execution_count": 1,
      "outputs": []
    },
    {
      "cell_type": "code",
      "metadata": {
        "id": "Tn-UhhJW6SJp",
        "colab_type": "code",
        "colab": {}
      },
      "source": [
        "BATCH_SIZE = 100\n",
        "EPOCHS = 70\n",
        "NUM_CLASSES = 10\n",
        "# 1e-4 = 0.0001\n",
        "LEARNING_RATE = 1e-4\n",
        "MOMENTUM = 0.9"
      ],
      "execution_count": 2,
      "outputs": []
    },
    {
      "cell_type": "code",
      "metadata": {
        "id": "YnyUN8wP33GJ",
        "colab_type": "code",
        "colab": {
          "base_uri": "https://localhost:8080/",
          "height": 52
        },
        "outputId": "dec79c30-d919-4274-9ef7-28c3ba2adb8b"
      },
      "source": [
        "(X_train, y_train), (X_test, y_test) = cifar10.load_data()"
      ],
      "execution_count": 3,
      "outputs": [
        {
          "output_type": "stream",
          "text": [
            "Downloading data from https://www.cs.toronto.edu/~kriz/cifar-10-python.tar.gz\n",
            "170500096/170498071 [==============================] - 6s 0us/step\n"
          ],
          "name": "stdout"
        }
      ]
    },
    {
      "cell_type": "code",
      "metadata": {
        "id": "x-Yvrd6i33GM",
        "colab_type": "code",
        "colab": {}
      },
      "source": [
        "X_train, X_val, y_train, y_val = train_test_split(X_train, \n",
        "                                                  y_train, \n",
        "                                                  test_size=0.2, \n",
        "                                                  stratify=np.array(y_train), \n",
        "                                                  random_state=42)"
      ],
      "execution_count": 4,
      "outputs": []
    },
    {
      "cell_type": "code",
      "metadata": {
        "id": "2NO02k5060j-",
        "colab_type": "code",
        "colab": {
          "base_uri": "https://localhost:8080/",
          "height": 104
        },
        "outputId": "8c4a81a0-78eb-4939-bf9d-757cfeaec08b"
      },
      "source": [
        "# This is one-hot encoding\n",
        "Y_train = to_categorical(y_train, NUM_CLASSES)\n",
        "Y_val = to_categorical(y_val, NUM_CLASSES)\n",
        "Y_test = to_categorical(y_test, NUM_CLASSES)\n",
        "print(Y_train[:5])"
      ],
      "execution_count": 5,
      "outputs": [
        {
          "output_type": "stream",
          "text": [
            "[[0. 0. 0. 0. 0. 0. 1. 0. 0. 0.]\n",
            " [0. 0. 0. 0. 0. 0. 0. 1. 0. 0.]\n",
            " [0. 0. 0. 0. 0. 0. 0. 0. 1. 0.]\n",
            " [0. 0. 0. 1. 0. 0. 0. 0. 0. 0.]\n",
            " [0. 0. 1. 0. 0. 0. 0. 0. 0. 0.]]\n"
          ],
          "name": "stdout"
        }
      ]
    },
    {
      "cell_type": "code",
      "metadata": {
        "id": "9c46DZbt60sk",
        "colab_type": "code",
        "colab": {}
      },
      "source": [
        "import cv2\n",
        "\n",
        "X_train = np.array([cv2.resize(x, (64, 64)) for x in X_train])\n",
        "X_val = np.array([cv2.resize(x, (64, 64)) for x in X_val])\n",
        "X_test = np.array([cv2.resize(x, (64, 64)) for x in X_test])"
      ],
      "execution_count": 6,
      "outputs": []
    },
    {
      "cell_type": "markdown",
      "metadata": {
        "id": "0IkCPcVL73xb",
        "colab_type": "text"
      },
      "source": [
        "**Prepare the Model**\n",
        "\n",
        "Load VGG16 without the top classification layer\n",
        "\n",
        "Prepare a custom classifier\n",
        "\n",
        "Stack both models on top of each other"
      ]
    },
    {
      "cell_type": "code",
      "metadata": {
        "id": "GcUdmzLF33GR",
        "colab_type": "code",
        "colab": {
          "base_uri": "https://localhost:8080/",
          "height": 52
        },
        "outputId": "04adfc3b-ffa7-4f4b-a993-8c094e248318"
      },
      "source": [
        "base_model = vgg.VGG16(weights='imagenet', \n",
        "                       include_top=False, \n",
        "                       input_shape=(64, 64, 3))"
      ],
      "execution_count": 7,
      "outputs": [
        {
          "output_type": "stream",
          "text": [
            "Downloading data from https://storage.googleapis.com/tensorflow/keras-applications/vgg16/vgg16_weights_tf_dim_ordering_tf_kernels_notop.h5\n",
            "58892288/58889256 [==============================] - 1s 0us/step\n"
          ],
          "name": "stdout"
        }
      ]
    },
    {
      "cell_type": "code",
      "metadata": {
        "id": "b_jDYFtB33GU",
        "colab_type": "code",
        "colab": {}
      },
      "source": [
        "# Extract the last layer from third block of vgg16 model\n",
        "last = base_model.get_layer('block3_pool').output"
      ],
      "execution_count": 8,
      "outputs": []
    },
    {
      "cell_type": "code",
      "metadata": {
        "id": "fBdre2um33GY",
        "colab_type": "code",
        "colab": {}
      },
      "source": [
        "# Add classification layers on top of it\n",
        "x = GlobalAveragePooling2D()(last)\n",
        "x = BatchNormalization()(x)\n",
        "x = Dense(256, activation='relu')(x)\n",
        "x = Dense(256, activation='relu')(x)\n",
        "x = Dropout(0.6)(x)\n",
        "pred = Dense(NUM_CLASSES, activation='softmax')(x)\n",
        "model = Model(base_model.input, pred)"
      ],
      "execution_count": 9,
      "outputs": []
    },
    {
      "cell_type": "markdown",
      "metadata": {
        "id": "ah7skMwu8YU8",
        "colab_type": "text"
      },
      "source": [
        "Since our objective is to only train the custom classifier, we freeze the layers of VGG16\n",
        "\n",
        "**Why do we freeze the layers ?**\n",
        "\n",
        "Layer freezing means layer weights of a trained model are not changed when they are reused in a subsequent downstream task - they remain frozen. Essentially when backprop is done during training these layers weights are untouched.\n",
        "\n",
        "link: https://www.quora.com/What-is-layer-freezing-in-transfer-learning"
      ]
    },
    {
      "cell_type": "code",
      "metadata": {
        "id": "jeUjBY_C33Gb",
        "colab_type": "code",
        "colab": {}
      },
      "source": [
        "for layer in base_model.layers:\n",
        "     layer.trainable = False"
      ],
      "execution_count": 10,
      "outputs": []
    },
    {
      "cell_type": "code",
      "metadata": {
        "id": "6heIeXGk33Ge",
        "colab_type": "code",
        "colab": {}
      },
      "source": [
        "model.compile(loss='categorical_crossentropy',\n",
        "              optimizer=optimizers.Adam(lr=LEARNING_RATE),\n",
        "              metrics=['accuracy'])"
      ],
      "execution_count": 11,
      "outputs": []
    },
    {
      "cell_type": "code",
      "metadata": {
        "id": "60Eiv6aF33Gh",
        "colab_type": "code",
        "colab": {
          "base_uri": "https://localhost:8080/",
          "height": 745
        },
        "outputId": "7005e8fd-9fbe-438b-bae5-b0d1323c2215"
      },
      "source": [
        "model.summary()"
      ],
      "execution_count": 12,
      "outputs": [
        {
          "output_type": "stream",
          "text": [
            "Model: \"model\"\n",
            "_________________________________________________________________\n",
            "Layer (type)                 Output Shape              Param #   \n",
            "=================================================================\n",
            "input_1 (InputLayer)         [(None, 64, 64, 3)]       0         \n",
            "_________________________________________________________________\n",
            "block1_conv1 (Conv2D)        (None, 64, 64, 64)        1792      \n",
            "_________________________________________________________________\n",
            "block1_conv2 (Conv2D)        (None, 64, 64, 64)        36928     \n",
            "_________________________________________________________________\n",
            "block1_pool (MaxPooling2D)   (None, 32, 32, 64)        0         \n",
            "_________________________________________________________________\n",
            "block2_conv1 (Conv2D)        (None, 32, 32, 128)       73856     \n",
            "_________________________________________________________________\n",
            "block2_conv2 (Conv2D)        (None, 32, 32, 128)       147584    \n",
            "_________________________________________________________________\n",
            "block2_pool (MaxPooling2D)   (None, 16, 16, 128)       0         \n",
            "_________________________________________________________________\n",
            "block3_conv1 (Conv2D)        (None, 16, 16, 256)       295168    \n",
            "_________________________________________________________________\n",
            "block3_conv2 (Conv2D)        (None, 16, 16, 256)       590080    \n",
            "_________________________________________________________________\n",
            "block3_conv3 (Conv2D)        (None, 16, 16, 256)       590080    \n",
            "_________________________________________________________________\n",
            "block3_pool (MaxPooling2D)   (None, 8, 8, 256)         0         \n",
            "_________________________________________________________________\n",
            "global_average_pooling2d (Gl (None, 256)               0         \n",
            "_________________________________________________________________\n",
            "batch_normalization (BatchNo (None, 256)               1024      \n",
            "_________________________________________________________________\n",
            "dense (Dense)                (None, 256)               65792     \n",
            "_________________________________________________________________\n",
            "dense_1 (Dense)              (None, 256)               65792     \n",
            "_________________________________________________________________\n",
            "dropout (Dropout)            (None, 256)               0         \n",
            "_________________________________________________________________\n",
            "dense_2 (Dense)              (None, 10)                2570      \n",
            "=================================================================\n",
            "Total params: 1,870,666\n",
            "Trainable params: 134,666\n",
            "Non-trainable params: 1,736,000\n",
            "_________________________________________________________________\n"
          ],
          "name": "stdout"
        }
      ]
    },
    {
      "cell_type": "markdown",
      "metadata": {
        "id": "NpXVnq1d8q12",
        "colab_type": "text"
      },
      "source": [
        "**Data Augmentation**"
      ]
    },
    {
      "cell_type": "code",
      "metadata": {
        "id": "kMuRUi9A33Gk",
        "colab_type": "code",
        "colab": {}
      },
      "source": [
        "train_datagen = ImageDataGenerator(\n",
        "    rescale=1. / 255,\n",
        "    horizontal_flip=False)"
      ],
      "execution_count": 13,
      "outputs": []
    },
    {
      "cell_type": "code",
      "metadata": {
        "id": "wDA6dqoU33Gn",
        "colab_type": "code",
        "colab": {}
      },
      "source": [
        "  train_datagen.fit(X_train)\n",
        "  train_generator = train_datagen.flow(X_train,\n",
        "                                      Y_train, \n",
        "                                      batch_size=BATCH_SIZE)"
      ],
      "execution_count": 14,
      "outputs": []
    },
    {
      "cell_type": "code",
      "metadata": {
        "id": "Q-vewDHd33Gp",
        "colab_type": "code",
        "colab": {}
      },
      "source": [
        "val_datagen = ImageDataGenerator(rescale=1. / 255,\n",
        "    horizontal_flip=False)\n",
        "\n",
        "val_datagen.fit(X_val)\n",
        "val_generator = val_datagen.flow(X_val,Y_val,batch_size=BATCH_SIZE)"
      ],
      "execution_count": 15,
      "outputs": []
    },
    {
      "cell_type": "markdown",
      "metadata": {
        "id": "0ZW6Rk3t9If1",
        "colab_type": "text"
      },
      "source": [
        "**Train the Model**"
      ]
    },
    {
      "cell_type": "code",
      "metadata": {
        "id": "SosC4k0E33Gt",
        "colab_type": "code",
        "colab": {
          "base_uri": "https://localhost:8080/",
          "height": 1000
        },
        "outputId": "ab11a1db-aa21-4919-ca44-b68b9e4fae93"
      },
      "source": [
        "train_steps_per_epoch = X_train.shape[0] // BATCH_SIZE\n",
        "val_steps_per_epoch = X_val.shape[0] // BATCH_SIZE\n",
        "\n",
        "history = model.fit_generator(train_generator,\n",
        "                              steps_per_epoch=train_steps_per_epoch,\n",
        "                              validation_data=val_generator,\n",
        "                              validation_steps=val_steps_per_epoch,\n",
        "                              epochs=EPOCHS,\n",
        "                              verbose=1)"
      ],
      "execution_count": 16,
      "outputs": [
        {
          "output_type": "stream",
          "text": [
            "WARNING:tensorflow:From <ipython-input-16-38ab0eb7bcd0>:9: Model.fit_generator (from tensorflow.python.keras.engine.training) is deprecated and will be removed in a future version.\n",
            "Instructions for updating:\n",
            "Please use Model.fit, which supports generators.\n",
            "Epoch 1/70\n",
            "400/400 [==============================] - 20s 49ms/step - loss: 1.8441 - accuracy: 0.3579 - val_loss: 1.3730 - val_accuracy: 0.5422\n",
            "Epoch 2/70\n",
            "400/400 [==============================] - 20s 49ms/step - loss: 1.4215 - accuracy: 0.5095 - val_loss: 1.1756 - val_accuracy: 0.5981\n",
            "Epoch 3/70\n",
            "400/400 [==============================] - 20s 50ms/step - loss: 1.2508 - accuracy: 0.5698 - val_loss: 1.0644 - val_accuracy: 0.6402\n",
            "Epoch 4/70\n",
            "400/400 [==============================] - 20s 50ms/step - loss: 1.1480 - accuracy: 0.6051 - val_loss: 0.9936 - val_accuracy: 0.6603\n",
            "Epoch 5/70\n",
            "400/400 [==============================] - 20s 51ms/step - loss: 1.0774 - accuracy: 0.6299 - val_loss: 0.9459 - val_accuracy: 0.6752\n",
            "Epoch 6/70\n",
            "400/400 [==============================] - 20s 51ms/step - loss: 1.0242 - accuracy: 0.6474 - val_loss: 0.9073 - val_accuracy: 0.6891\n",
            "Epoch 7/70\n",
            "400/400 [==============================] - 20s 51ms/step - loss: 0.9795 - accuracy: 0.6636 - val_loss: 0.8798 - val_accuracy: 0.6965\n",
            "Epoch 8/70\n",
            "400/400 [==============================] - 21s 52ms/step - loss: 0.9467 - accuracy: 0.6758 - val_loss: 0.8567 - val_accuracy: 0.7036\n",
            "Epoch 9/70\n",
            "400/400 [==============================] - 21s 51ms/step - loss: 0.9177 - accuracy: 0.6830 - val_loss: 0.8369 - val_accuracy: 0.7092\n",
            "Epoch 10/70\n",
            "400/400 [==============================] - 21s 51ms/step - loss: 0.8962 - accuracy: 0.6930 - val_loss: 0.8215 - val_accuracy: 0.7144\n",
            "Epoch 11/70\n",
            "400/400 [==============================] - 20s 51ms/step - loss: 0.8762 - accuracy: 0.6984 - val_loss: 0.8096 - val_accuracy: 0.7199\n",
            "Epoch 12/70\n",
            "400/400 [==============================] - 20s 51ms/step - loss: 0.8548 - accuracy: 0.7049 - val_loss: 0.7979 - val_accuracy: 0.7242\n",
            "Epoch 13/70\n",
            "400/400 [==============================] - 21s 51ms/step - loss: 0.8379 - accuracy: 0.7146 - val_loss: 0.7845 - val_accuracy: 0.7280\n",
            "Epoch 14/70\n",
            "400/400 [==============================] - 21s 51ms/step - loss: 0.8178 - accuracy: 0.7173 - val_loss: 0.7775 - val_accuracy: 0.7287\n",
            "Epoch 15/70\n",
            "400/400 [==============================] - 20s 51ms/step - loss: 0.8054 - accuracy: 0.7229 - val_loss: 0.7698 - val_accuracy: 0.7318\n",
            "Epoch 16/70\n",
            "400/400 [==============================] - 20s 51ms/step - loss: 0.7934 - accuracy: 0.7270 - val_loss: 0.7594 - val_accuracy: 0.7354\n",
            "Epoch 17/70\n",
            "400/400 [==============================] - 20s 51ms/step - loss: 0.7789 - accuracy: 0.7288 - val_loss: 0.7523 - val_accuracy: 0.7382\n",
            "Epoch 18/70\n",
            "400/400 [==============================] - 20s 51ms/step - loss: 0.7687 - accuracy: 0.7358 - val_loss: 0.7480 - val_accuracy: 0.7399\n",
            "Epoch 19/70\n",
            "400/400 [==============================] - 21s 51ms/step - loss: 0.7583 - accuracy: 0.7372 - val_loss: 0.7413 - val_accuracy: 0.7408\n",
            "Epoch 20/70\n",
            "400/400 [==============================] - 20s 51ms/step - loss: 0.7470 - accuracy: 0.7442 - val_loss: 0.7365 - val_accuracy: 0.7447\n",
            "Epoch 21/70\n",
            "400/400 [==============================] - 21s 51ms/step - loss: 0.7352 - accuracy: 0.7468 - val_loss: 0.7337 - val_accuracy: 0.7468\n",
            "Epoch 22/70\n",
            "400/400 [==============================] - 20s 51ms/step - loss: 0.7279 - accuracy: 0.7481 - val_loss: 0.7281 - val_accuracy: 0.7493\n",
            "Epoch 23/70\n",
            "400/400 [==============================] - 20s 51ms/step - loss: 0.7175 - accuracy: 0.7538 - val_loss: 0.7244 - val_accuracy: 0.7471\n",
            "Epoch 24/70\n",
            "400/400 [==============================] - 21s 52ms/step - loss: 0.7110 - accuracy: 0.7525 - val_loss: 0.7214 - val_accuracy: 0.7489\n",
            "Epoch 25/70\n",
            "400/400 [==============================] - 20s 51ms/step - loss: 0.6996 - accuracy: 0.7568 - val_loss: 0.7167 - val_accuracy: 0.7525\n",
            "Epoch 26/70\n",
            "400/400 [==============================] - 21s 51ms/step - loss: 0.6922 - accuracy: 0.7600 - val_loss: 0.7137 - val_accuracy: 0.7535\n",
            "Epoch 27/70\n",
            "400/400 [==============================] - 21s 51ms/step - loss: 0.6893 - accuracy: 0.7617 - val_loss: 0.7082 - val_accuracy: 0.7532\n",
            "Epoch 28/70\n",
            "400/400 [==============================] - 20s 51ms/step - loss: 0.6783 - accuracy: 0.7651 - val_loss: 0.7069 - val_accuracy: 0.7502\n",
            "Epoch 29/70\n",
            "400/400 [==============================] - 20s 51ms/step - loss: 0.6721 - accuracy: 0.7689 - val_loss: 0.7047 - val_accuracy: 0.7536\n",
            "Epoch 30/70\n",
            "400/400 [==============================] - 20s 51ms/step - loss: 0.6659 - accuracy: 0.7702 - val_loss: 0.7026 - val_accuracy: 0.7544\n",
            "Epoch 31/70\n",
            "400/400 [==============================] - 20s 51ms/step - loss: 0.6543 - accuracy: 0.7747 - val_loss: 0.7040 - val_accuracy: 0.7528\n",
            "Epoch 32/70\n",
            "400/400 [==============================] - 20s 51ms/step - loss: 0.6507 - accuracy: 0.7745 - val_loss: 0.6987 - val_accuracy: 0.7546\n",
            "Epoch 33/70\n",
            "400/400 [==============================] - 21s 51ms/step - loss: 0.6424 - accuracy: 0.7790 - val_loss: 0.6965 - val_accuracy: 0.7553\n",
            "Epoch 34/70\n",
            "400/400 [==============================] - 21s 51ms/step - loss: 0.6357 - accuracy: 0.7805 - val_loss: 0.6942 - val_accuracy: 0.7581\n",
            "Epoch 35/70\n",
            "400/400 [==============================] - 20s 51ms/step - loss: 0.6322 - accuracy: 0.7807 - val_loss: 0.6927 - val_accuracy: 0.7568\n",
            "Epoch 36/70\n",
            "400/400 [==============================] - 20s 51ms/step - loss: 0.6229 - accuracy: 0.7843 - val_loss: 0.6937 - val_accuracy: 0.7552\n",
            "Epoch 37/70\n",
            "400/400 [==============================] - 20s 51ms/step - loss: 0.6151 - accuracy: 0.7876 - val_loss: 0.6900 - val_accuracy: 0.7603\n",
            "Epoch 38/70\n",
            "400/400 [==============================] - 21s 51ms/step - loss: 0.6141 - accuracy: 0.7873 - val_loss: 0.6883 - val_accuracy: 0.7598\n",
            "Epoch 39/70\n",
            "400/400 [==============================] - 20s 51ms/step - loss: 0.6049 - accuracy: 0.7901 - val_loss: 0.6885 - val_accuracy: 0.7597\n",
            "Epoch 40/70\n",
            "400/400 [==============================] - 21s 51ms/step - loss: 0.6021 - accuracy: 0.7904 - val_loss: 0.6870 - val_accuracy: 0.7603\n",
            "Epoch 41/70\n",
            "400/400 [==============================] - 21s 51ms/step - loss: 0.5922 - accuracy: 0.7937 - val_loss: 0.6855 - val_accuracy: 0.7603\n",
            "Epoch 42/70\n",
            "400/400 [==============================] - 20s 51ms/step - loss: 0.5921 - accuracy: 0.7940 - val_loss: 0.6847 - val_accuracy: 0.7606\n",
            "Epoch 43/70\n",
            "400/400 [==============================] - 20s 51ms/step - loss: 0.5877 - accuracy: 0.7967 - val_loss: 0.6823 - val_accuracy: 0.7617\n",
            "Epoch 44/70\n",
            "400/400 [==============================] - 20s 51ms/step - loss: 0.5792 - accuracy: 0.7989 - val_loss: 0.6805 - val_accuracy: 0.7620\n",
            "Epoch 45/70\n",
            "400/400 [==============================] - 21s 51ms/step - loss: 0.5756 - accuracy: 0.7986 - val_loss: 0.6802 - val_accuracy: 0.7610\n",
            "Epoch 46/70\n",
            "400/400 [==============================] - 20s 51ms/step - loss: 0.5700 - accuracy: 0.8023 - val_loss: 0.6796 - val_accuracy: 0.7614\n",
            "Epoch 47/70\n",
            "400/400 [==============================] - 20s 51ms/step - loss: 0.5647 - accuracy: 0.8025 - val_loss: 0.6791 - val_accuracy: 0.7626\n",
            "Epoch 48/70\n",
            "400/400 [==============================] - 20s 51ms/step - loss: 0.5577 - accuracy: 0.8062 - val_loss: 0.6819 - val_accuracy: 0.7646\n",
            "Epoch 49/70\n",
            "400/400 [==============================] - 20s 51ms/step - loss: 0.5559 - accuracy: 0.8070 - val_loss: 0.6816 - val_accuracy: 0.7633\n",
            "Epoch 50/70\n",
            "400/400 [==============================] - 20s 51ms/step - loss: 0.5550 - accuracy: 0.8063 - val_loss: 0.6776 - val_accuracy: 0.7642\n",
            "Epoch 51/70\n",
            "400/400 [==============================] - 20s 51ms/step - loss: 0.5422 - accuracy: 0.8114 - val_loss: 0.6770 - val_accuracy: 0.7642\n",
            "Epoch 52/70\n",
            "400/400 [==============================] - 20s 51ms/step - loss: 0.5506 - accuracy: 0.8070 - val_loss: 0.6753 - val_accuracy: 0.7648\n",
            "Epoch 53/70\n",
            "400/400 [==============================] - 20s 51ms/step - loss: 0.5401 - accuracy: 0.8109 - val_loss: 0.6808 - val_accuracy: 0.7618\n",
            "Epoch 54/70\n",
            "400/400 [==============================] - 20s 51ms/step - loss: 0.5331 - accuracy: 0.8146 - val_loss: 0.6779 - val_accuracy: 0.7646\n",
            "Epoch 55/70\n",
            "400/400 [==============================] - 20s 51ms/step - loss: 0.5279 - accuracy: 0.8151 - val_loss: 0.6811 - val_accuracy: 0.7654\n",
            "Epoch 56/70\n",
            "400/400 [==============================] - 20s 51ms/step - loss: 0.5308 - accuracy: 0.8138 - val_loss: 0.6783 - val_accuracy: 0.7650\n",
            "Epoch 57/70\n",
            "400/400 [==============================] - 20s 51ms/step - loss: 0.5218 - accuracy: 0.8159 - val_loss: 0.6801 - val_accuracy: 0.7632\n",
            "Epoch 58/70\n",
            "400/400 [==============================] - 21s 51ms/step - loss: 0.5184 - accuracy: 0.8178 - val_loss: 0.6808 - val_accuracy: 0.7660\n",
            "Epoch 59/70\n",
            "400/400 [==============================] - 20s 51ms/step - loss: 0.5141 - accuracy: 0.8199 - val_loss: 0.6797 - val_accuracy: 0.7642\n",
            "Epoch 60/70\n",
            "400/400 [==============================] - 21s 51ms/step - loss: 0.5041 - accuracy: 0.8241 - val_loss: 0.6809 - val_accuracy: 0.7645\n",
            "Epoch 61/70\n",
            "400/400 [==============================] - 20s 51ms/step - loss: 0.5020 - accuracy: 0.8252 - val_loss: 0.6795 - val_accuracy: 0.7663\n",
            "Epoch 62/70\n",
            "400/400 [==============================] - 21s 51ms/step - loss: 0.5006 - accuracy: 0.8239 - val_loss: 0.6799 - val_accuracy: 0.7682\n",
            "Epoch 63/70\n",
            "400/400 [==============================] - 21s 51ms/step - loss: 0.4978 - accuracy: 0.8243 - val_loss: 0.6821 - val_accuracy: 0.7655\n",
            "Epoch 64/70\n",
            "400/400 [==============================] - 20s 51ms/step - loss: 0.4921 - accuracy: 0.8260 - val_loss: 0.6809 - val_accuracy: 0.7655\n",
            "Epoch 65/70\n",
            "400/400 [==============================] - 20s 51ms/step - loss: 0.4878 - accuracy: 0.8284 - val_loss: 0.6812 - val_accuracy: 0.7665\n",
            "Epoch 66/70\n",
            "400/400 [==============================] - 21s 52ms/step - loss: 0.4844 - accuracy: 0.8305 - val_loss: 0.6834 - val_accuracy: 0.7658\n",
            "Epoch 67/70\n",
            "400/400 [==============================] - 21s 51ms/step - loss: 0.4796 - accuracy: 0.8311 - val_loss: 0.6832 - val_accuracy: 0.7682\n",
            "Epoch 68/70\n",
            "400/400 [==============================] - 21s 52ms/step - loss: 0.4767 - accuracy: 0.8324 - val_loss: 0.6879 - val_accuracy: 0.7676\n",
            "Epoch 69/70\n",
            "400/400 [==============================] - 20s 51ms/step - loss: 0.4746 - accuracy: 0.8308 - val_loss: 0.6842 - val_accuracy: 0.7655\n",
            "Epoch 70/70\n",
            "400/400 [==============================] - 21s 51ms/step - loss: 0.4710 - accuracy: 0.8369 - val_loss: 0.6835 - val_accuracy: 0.7670\n"
          ],
          "name": "stdout"
        }
      ]
    },
    {
      "cell_type": "code",
      "metadata": {
        "id": "oVd2F9su33Gv",
        "colab_type": "code",
        "colab": {
          "base_uri": "https://localhost:8080/",
          "height": 721
        },
        "outputId": "7bc53a4f-422c-407c-bca4-0efe8cce1660"
      },
      "source": [
        "acc = history.history['accuracy']\n",
        "val_acc = history.history['val_accuracy']\n",
        "\n",
        "loss = history.history['loss']\n",
        "val_loss = history.history['val_loss']\n",
        "\n",
        "epochs_range = range(70)\n",
        "\n",
        "plt.figure(figsize=(12, 12))\n",
        "plt.subplot(1, 2, 1)\n",
        "plt.plot(epochs_range, acc, label='Training Accuracy')\n",
        "plt.plot(epochs_range, val_acc, label='Validation Accuracy')\n",
        "plt.legend(loc='lower right')\n",
        "plt.title('Training and Validation Accuracy')\n",
        "\n",
        "plt.subplot(1, 2, 2)\n",
        "plt.plot(epochs_range, loss, label='Training Loss')\n",
        "plt.plot(epochs_range, val_loss, label='Validation Loss')\n",
        "plt.legend(loc='upper right')\n",
        "plt.title('Training and Validation Loss')\n",
        "plt.show()"
      ],
      "execution_count": 17,
      "outputs": [
        {
          "output_type": "display_data",
          "data": {
            "image/png": "[encoded data removed]",
            "text/plain": [
              "<Figure size 864x864 with 2 Axes>"
            ]
          },
          "metadata": {
            "tags": [],
            "needs_background": "light"
          }
        }
      ]
    },
    {
      "cell_type": "code",
      "metadata": {
        "id": "UW8VVsI3jXi1",
        "colab_type": "code",
        "colab": {
          "base_uri": "https://localhost:8080/",
          "height": 107
        },
        "outputId": "374e1fb3-11d8-484c-a178-074d32520e20"
      },
      "source": [
        "#Save the model\n",
        "history.model.save(\"image_classification_TF.model\")"
      ],
      "execution_count": 18,
      "outputs": [
        {
          "output_type": "stream",
          "text": [
            "WARNING:tensorflow:From /usr/local/lib/python3.6/dist-packages/tensorflow/python/ops/resource_variable_ops.py:1817: calling BaseResourceVariable.__init__ (from tensorflow.python.ops.resource_variable_ops) with constraint is deprecated and will be removed in a future version.\n",
            "Instructions for updating:\n",
            "If using Keras pass *_constraint arguments to layers.\n",
            "INFO:tensorflow:Assets written to: image_classification_TF.model/assets\n"
          ],
          "name": "stdout"
        }
      ]
    },
    {
      "cell_type": "code",
      "metadata": {
        "id": "M24Hia-D-JpE",
        "colab_type": "code",
        "colab": {
          "base_uri": "https://localhost:8080/",
          "height": 89
        },
        "outputId": "5c722148-c201-4b33-e87e-20ddfad325eb"
      },
      "source": [
        "STEP_SIZE_VAL=val_generator.n//val_generator.batch_size\n",
        "\n",
        "loss_acc = model.evaluate_generator(generator=val_generator,steps=STEP_SIZE_VAL)"
      ],
      "execution_count": 19,
      "outputs": [
        {
          "output_type": "stream",
          "text": [
            "WARNING:tensorflow:From <ipython-input-19-93258ecb8741>:3: Model.evaluate_generator (from tensorflow.python.keras.engine.training) is deprecated and will be removed in a future version.\n",
            "Instructions for updating:\n",
            "Please use Model.evaluate, which supports generators.\n"
          ],
          "name": "stdout"
        }
      ]
    },
    {
      "cell_type": "code",
      "metadata": {
        "id": "ZMpTSNgcRzqa",
        "colab_type": "code",
        "colab": {
          "base_uri": "https://localhost:8080/",
          "height": 52
        },
        "outputId": "77baefce-073a-4f27-8f55-23d3092870d8"
      },
      "source": [
        "print(\"loss:\",loss_acc[0],\"\\nAccuracy:\",loss_acc[1])"
      ],
      "execution_count": 20,
      "outputs": [
        {
          "output_type": "stream",
          "text": [
            "loss: 0.6835426092147827 \n",
            "Accuracy: 0.7670000195503235\n"
          ],
          "name": "stdout"
        }
      ]
    },
    {
      "cell_type": "code",
      "metadata": {
        "id": "iNsZ5mgKMf4J",
        "colab_type": "code",
        "colab": {}
      },
      "source": [
        "test_datagen = ImageDataGenerator(\n",
        "    rescale=1. / 255,\n",
        "    horizontal_flip=False)\n",
        "\n",
        "test_datagen.fit(X_test)\n",
        "test_generator = train_datagen.flow(X_test,\n",
        "                                    Y_test,\n",
        "                                    shuffle=False,\n",
        "                                    batch_size=100)"
      ],
      "execution_count": 21,
      "outputs": []
    },
    {
      "cell_type": "code",
      "metadata": {
        "id": "kJjiRcr9fpZN",
        "colab_type": "code",
        "colab": {
          "base_uri": "https://localhost:8080/",
          "height": 52
        },
        "outputId": "8220c47e-2851-4489-a3ab-5ccf2607c953"
      },
      "source": [
        "STEP_SIZE_VAL=test_generator.n//test_generator.batch_size\n",
        "\n",
        "loss_acc_test = model.evaluate_generator(generator=test_generator,steps=STEP_SIZE_VAL)\n",
        "print(\"loss:\",loss_acc_test[0],\"\\nAccuracy:\",loss_acc_test[1])"
      ],
      "execution_count": 22,
      "outputs": [
        {
          "output_type": "stream",
          "text": [
            "loss: 0.6775728464126587 \n",
            "Accuracy: 0.7667999863624573\n"
          ],
          "name": "stdout"
        }
      ]
    },
    {
      "cell_type": "code",
      "metadata": {
        "id": "PX94FBE1Mdzg",
        "colab_type": "code",
        "colab": {
          "base_uri": "https://localhost:8080/",
          "height": 89
        },
        "outputId": "3b4e36fb-6e0c-4195-8ee2-546f8ad988e8"
      },
      "source": [
        "STEP_SIZE_TEST=test_generator.n//test_generator.batch_size\n",
        "\n",
        "test_generator.reset()\n",
        "pred=model.predict_generator(test_generator,steps=STEP_SIZE_TEST,verbose=0)"
      ],
      "execution_count": 23,
      "outputs": [
        {
          "output_type": "stream",
          "text": [
            "WARNING:tensorflow:From <ipython-input-23-2c6c20eddbd6>:4: Model.predict_generator (from tensorflow.python.keras.engine.training) is deprecated and will be removed in a future version.\n",
            "Instructions for updating:\n",
            "Please use Model.predict, which supports generators.\n"
          ],
          "name": "stdout"
        }
      ]
    },
    {
      "cell_type": "code",
      "metadata": {
        "id": "HQjtTwBg-8Vj",
        "colab_type": "code",
        "colab": {}
      },
      "source": [
        "catagories = {0:'airplane',\n",
        "             1:'automobile',\n",
        "             2:'bird',\n",
        "             3:'cat',\n",
        "             4:'deer',\n",
        "             5:'dog',\n",
        "             6:'frog',\n",
        "             7:'horse',\n",
        "             8:'ship',\n",
        "             9:'truck'}"
      ],
      "execution_count": 24,
      "outputs": []
    },
    {
      "cell_type": "code",
      "metadata": {
        "id": "JiBAJpg033Gy",
        "colab_type": "code",
        "colab": {
          "base_uri": "https://localhost:8080/",
          "height": 35
        },
        "outputId": "495413a9-3eb1-49de-86a8-8620923be23c"
      },
      "source": [
        "predicted_class_indices=np.argmax(pred,axis=1)\n",
        "prediction = [catagories[img_] for img_ in predicted_class_indices]\n",
        "print(prediction[:10],len(prediction))"
      ],
      "execution_count": 25,
      "outputs": [
        {
          "output_type": "stream",
          "text": [
            "['cat', 'ship', 'ship', 'airplane', 'frog', 'frog', 'automobile', 'frog', 'cat', 'truck'] 10000\n"
          ],
          "name": "stdout"
        }
      ]
    },
    {
      "cell_type": "code",
      "metadata": {
        "id": "hF-YFRQRSgZE",
        "colab_type": "code",
        "colab": {
          "base_uri": "https://localhost:8080/",
          "height": 35
        },
        "outputId": "772748dd-c5a0-4010-862c-9783a0a6d514"
      },
      "source": [
        "actual = [catagories[img_[0]] for img_ in y_test]\n",
        "print(actual[:10],len(actual))"
      ],
      "execution_count": 26,
      "outputs": [
        {
          "output_type": "stream",
          "text": [
            "['cat', 'ship', 'ship', 'airplane', 'frog', 'frog', 'automobile', 'frog', 'cat', 'automobile'] 10000\n"
          ],
          "name": "stdout"
        }
      ]
    },
    {
      "cell_type": "code",
      "metadata": {
        "id": "xDX04-TLd473",
        "colab_type": "code",
        "colab": {
          "base_uri": "https://localhost:8080/",
          "height": 202
        },
        "outputId": "58bed131-d38c-42f3-c3f7-7e054907041a"
      },
      "source": [
        "results=pd.DataFrame({\"Actual\":actual,\n",
        "                     \"Predictions\":prediction})\n",
        "results.head()"
      ],
      "execution_count": 27,
      "outputs": [
        {
          "output_type": "execute_result",
          "data": {
            "text/html": [
              "<div>\n",
              "<style scoped>\n",
              "    .dataframe tbody tr th:only-of-type {\n",
              "        vertical-align: middle;\n",
              "    }\n",
              "\n",
              "    .dataframe tbody tr th {\n",
              "        vertical-align: top;\n",
              "    }\n",
              "\n",
              "    .dataframe thead th {\n",
              "        text-align: right;\n",
              "    }\n",
              "</style>\n",
              "<table border=\"1\" class=\"dataframe\">\n",
              "  <thead>\n",
              "    <tr style=\"text-align: right;\">\n",
              "      <th></th>\n",
              "      <th>Actual</th>\n",
              "      <th>Predictions</th>\n",
              "    </tr>\n",
              "  </thead>\n",
              "  <tbody>\n",
              "    <tr>\n",
              "      <th>0</th>\n",
              "      <td>cat</td>\n",
              "      <td>cat</td>\n",
              "    </tr>\n",
              "    <tr>\n",
              "      <th>1</th>\n",
              "      <td>ship</td>\n",
              "      <td>ship</td>\n",
              "    </tr>\n",
              "    <tr>\n",
              "      <th>2</th>\n",
              "      <td>ship</td>\n",
              "      <td>ship</td>\n",
              "    </tr>\n",
              "    <tr>\n",
              "      <th>3</th>\n",
              "      <td>airplane</td>\n",
              "      <td>airplane</td>\n",
              "    </tr>\n",
              "    <tr>\n",
              "      <th>4</th>\n",
              "      <td>frog</td>\n",
              "      <td>frog</td>\n",
              "    </tr>\n",
              "  </tbody>\n",
              "</table>\n",
              "</div>"
            ],
            "text/plain": [
              "     Actual Predictions\n",
              "0       cat         cat\n",
              "1      ship        ship\n",
              "2      ship        ship\n",
              "3  airplane    airplane\n",
              "4      frog        frog"
            ]
          },
          "metadata": {
            "tags": []
          },
          "execution_count": 27
        }
      ]
    }
  ]
}