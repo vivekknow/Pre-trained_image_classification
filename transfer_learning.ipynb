{
  "nbformat": 4,
  "nbformat_minor": 0,
  "metadata": {
    "kernelspec": {
      "display_name": "Python 3",
      "language": "python",
      "name": "python3"
    },
    "language_info": {
      "codemirror_mode": {
        "name": "ipython",
        "version": 3
      },
      "file_extension": ".py",
      "mimetype": "text/x-python",
      "name": "python",
      "nbconvert_exporter": "python",
      "pygments_lexer": "ipython3",
      "version": "3.6.1"
    },
    "colab": {
      "name": "transfer_learning.ipynb",
      "provenance": []
    }
  },
  "cells": [
    {
      "cell_type": "markdown",
      "metadata": {
        "id": "vAXh72NR1MZY",
        "colab_type": "text"
      },
      "source": [
        "The VGG() class takes a few arguments\n",
        "\n",
        "1) include_top (True): Whether or not to include the output layers for the model. You don’t need these if you are fitting the model on your own problem.\n",
        "\n",
        "2) weights (‘imagenet‘): What weights to load. You can specify None to not load pre-trained weights if you are interested in training the model yourself from scratch.\n",
        "\n",
        "3) input_tensor (None): A new input layer if you intend to fit the model on new data of a different size.\n",
        "\n",
        "4) input_shape (None): The size of images that the model is expected to take if you change the input layer.\n",
        "\n",
        "5) pooling (None): The type of pooling to use when you are training a new set of output layers.\n",
        "\n",
        "6) classes (1000): The number of classes (e.g. size of output vector) for the model."
      ]
    },
    {
      "cell_type": "code",
      "metadata": {
        "id": "npjynuUf1MYv",
        "colab_type": "code",
        "colab": {}
      },
      "source": [
        "# https://github.com/tensorflow/docs/blob/master/site/en/tutorials/images/transfer_learning.ipynb\n",
        "import os\n",
        "import numpy as np\n",
        "import pandas as pd\n",
        "import matplotlib.pyplot as plt\n",
        "import tensorflow as tf\n",
        "import tensorflow_datasets as tfds\n",
        "from tensorflow.keras.datasets import cifar10"
      ],
      "execution_count": 2,
      "outputs": []
    },
    {
      "cell_type": "code",
      "metadata": {
        "id": "RIU7HKpN2cSY",
        "colab_type": "code",
        "colab": {}
      },
      "source": [
        "(trainX, trainy), (testX, testy) = cifar10.load_data()"
      ],
      "execution_count": 3,
      "outputs": []
    },
    {
      "cell_type": "code",
      "metadata": {
        "id": "Vn1tfHDt2emL",
        "colab_type": "code",
        "colab": {
          "base_uri": "https://localhost:8080/",
          "height": 87
        },
        "outputId": "fa8b051b-3dac-47ff-82b7-84b583e7d5df"
      },
      "source": [
        "print(len(trainX),trainX.shape)\n",
        "print(len(trainy))\n",
        "print(len(testX),testX.shape)\n",
        "print(len(testy))"
      ],
      "execution_count": 4,
      "outputs": [
        {
          "output_type": "stream",
          "text": [
            "50000 (50000, 32, 32, 3)\n",
            "50000\n",
            "10000 (10000, 32, 32, 3)\n",
            "10000\n"
          ],
          "name": "stdout"
        }
      ]
    },
    {
      "cell_type": "code",
      "metadata": {
        "id": "S9d410c51MZA",
        "colab_type": "code",
        "colab": {}
      },
      "source": [
        "from tensorflow.keras.applications.vgg16 import VGG16\n",
        "model = VGG16()"
      ],
      "execution_count": 5,
      "outputs": []
    },
    {
      "cell_type": "code",
      "metadata": {
        "id": "aFaXcc1x1MZF",
        "colab_type": "code",
        "colab": {
          "base_uri": "https://localhost:8080/",
          "height": 35
        },
        "outputId": "c48d3e7d-0ed4-4253-fd3b-830177c8e119"
      },
      "source": [
        "catagories = {'dog': 0,'automobile': 1,'bird': 2,'cat': 3,'deer': 4,'airplane': 5,'frog': 6,'horse': 7,'ship': 8,'truck': 9}\n",
        "reverse_catagory = {n:i for i,n in catagories.items()}\n",
        "print(reverse_catagory)"
      ],
      "execution_count": 6,
      "outputs": [
        {
          "output_type": "stream",
          "text": [
            "{0: 'dog', 1: 'automobile', 2: 'bird', 3: 'cat', 4: 'deer', 5: 'airplane', 6: 'frog', 7: 'horse', 8: 'ship', 9: 'truck'}\n"
          ],
          "name": "stdout"
        }
      ]
    },
    {
      "cell_type": "code",
      "metadata": {
        "id": "-A03FhKa1MZZ",
        "colab_type": "code",
        "colab": {}
      },
      "source": [
        "import tensorflow_datasets as tfds"
      ],
      "execution_count": 7,
      "outputs": []
    },
    {
      "cell_type": "code",
      "metadata": {
        "id": "YY5qHNBpQKts",
        "colab_type": "code",
        "colab": {}
      },
      "source": [
        "IMG_SIZE = 160 # All images will be resized to 160x160\n",
        "\n",
        "def format_example(image, label):\n",
        "  image = tf.cast(image, tf.float32)\n",
        "  image = (image/127.5) - 1\n",
        "  image = tf.image.resize(image, (IMG_SIZE, IMG_SIZE))\n",
        "  output = []\n",
        "  output.append(image)\n",
        "  output.append(label[0])\n",
        "  return output"
      ],
      "execution_count": 8,
      "outputs": []
    },
    {
      "cell_type": "code",
      "metadata": {
        "id": "sQtkxuXuTU2j",
        "colab_type": "code",
        "colab": {}
      },
      "source": [
        "train_dataset = []\n",
        "validation_dataset = []\n",
        "test_dataset = []\n",
        "\n",
        "for img_num in range(45000):\n",
        "  train_dataset.append(format_example(trainX[img_num],trainy[img_num]))\n"
      ],
      "execution_count": null,
      "outputs": []
    },
    {
      "cell_type": "code",
      "metadata": {
        "id": "C1vIOVvqWnV-",
        "colab_type": "code",
        "colab": {}
      },
      "source": [
        "for img_num in range(45000,len(trainX)+1):\n",
        "  validation_dataset.append(format_example(trainX[img_num],trainy[img_num]))\n",
        "\n",
        "for img_num in range(len(testX)):\n",
        "  train_dataset.append(format_example(testX[img_num],testy[img_num]))\n",
        "\n",
        "print(len(train_dataset),len(validation_dataset),len(train_dataset))"
      ],
      "execution_count": null,
      "outputs": []
    },
    {
      "cell_type": "code",
      "metadata": {
        "id": "LI-lD9DhWnet",
        "colab_type": "code",
        "colab": {}
      },
      "source": [
        ""
      ],
      "execution_count": null,
      "outputs": []
    },
    {
      "cell_type": "code",
      "metadata": {
        "id": "ecZagxT0O42R",
        "colab_type": "code",
        "colab": {}
      },
      "source": [
        "X_train = trainX[:45000]\n",
        "y_train = trainy[:45000]\n",
        "X_valid = trainX[45000:]\n",
        "y_valid = trainy[45000:]\n",
        "X_test = trainX\n",
        "y_test = trainy"
      ],
      "execution_count": 11,
      "outputs": []
    },
    {
      "cell_type": "code",
      "metadata": {
        "id": "eLU-z1oGPx8K",
        "colab_type": "code",
        "colab": {
          "base_uri": "https://localhost:8080/",
          "height": 580
        },
        "outputId": "d51192f1-0061-44b4-f593-86ba5f1ecf30"
      },
      "source": [
        "for i in range(2):\n",
        "  plt.figure()\n",
        "  plt.imshow(X_train[i])\n",
        "  # print(\"reverse_catagory[y_train[i]]: \",reverse_catagory[y_train[i][0]])\n",
        "  plt.title(reverse_catagory[y_train[i][0]])\n",
        "  print(X_train[i].shape)"
      ],
      "execution_count": 28,
      "outputs": [
        {
          "output_type": "stream",
          "text": [
            "(32, 32, 3)\n",
            "(32, 32, 3)\n"
          ],
          "name": "stdout"
        },
        {
          "output_type": "display_data",
          "data": {
            "image/png": "[encoded data removed]",
            "text/plain": [
              "<Figure size 432x288 with 1 Axes>"
            ]
          },
          "metadata": {
            "tags": [],
            "needs_background": "light"
          }
        },
        {
          "output_type": "display_data",
          "data": {
            "image/png": "[encoded data removed]",
            "text/plain": [
              "<Figure size 432x288 with 1 Axes>"
            ]
          },
          "metadata": {
            "tags": [],
            "needs_background": "light"
          }
        }
      ]
    }
  ]
}