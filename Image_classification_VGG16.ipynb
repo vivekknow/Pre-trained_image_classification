{
  "nbformat": 4,
  "nbformat_minor": 0,
  "metadata": {
    "kernelspec": {
      "display_name": "Python 3",
      "language": "python",
      "name": "python3"
    },
    "language_info": {
      "codemirror_mode": {
        "name": "ipython",
        "version": 3
      },
      "file_extension": ".py",
      "mimetype": "text/x-python",
      "name": "python",
      "nbconvert_exporter": "python",
      "pygments_lexer": "ipython3",
      "version": "3.6.1"
    },
    "colab": {
      "name": "TF_ver3.ipynb",
      "provenance": []
    },
    "accelerator": "GPU"
  },
  "cells": [
    {
      "cell_type": "code",
      "metadata": {
        "id": "EhpdyUFqDF1q",
        "colab_type": "code",
        "colab": {}
      },
      "source": [
        "import scipy as sp\n",
        "import numpy as np\n",
        "import pandas as pd\n",
        "from numpy.random import rand\n",
        "pd.options.display.max_colwidth = 600\n",
        "\n",
        "# Scikit Imports\n",
        "from sklearn import preprocessing\n",
        "from sklearn.metrics import roc_curve, auc, precision_recall_curve\n",
        "from sklearn.model_selection import train_test_split\n",
        "\n",
        "# import cnn_utils as utils\n",
        "# from model_evaluation_utils import get_metrics\n",
        "\n",
        "# Matplot Imports\n",
        "import matplotlib.pyplot as plt\n",
        "params = {'legend.fontsize': 'x-large',\n",
        "          'figure.figsize': (15, 5),\n",
        "          'axes.labelsize': 'x-large',\n",
        "          'axes.titlesize':'x-large',\n",
        "          'xtick.labelsize':'x-large',\n",
        "          'ytick.labelsize':'x-large'}\n",
        "\n",
        "plt.rcParams.update(params)\n",
        "%matplotlib inline\n",
        "\n",
        "# pandas display data frames as tables\n",
        "from IPython.display import display, HTML\n",
        "\n",
        "import warnings\n",
        "warnings.filterwarnings('ignore')"
      ],
      "execution_count": 1,
      "outputs": []
    },
    {
      "cell_type": "code",
      "metadata": {
        "id": "0JEK9DxGDF18",
        "colab_type": "code",
        "colab": {
          "base_uri": "https://localhost:8080/",
          "height": 35
        },
        "outputId": "0ad49faa-1f84-459e-8163-9d94f8a0e2ee"
      },
      "source": [
        "sp.__version__"
      ],
      "execution_count": 2,
      "outputs": [
        {
          "output_type": "execute_result",
          "data": {
            "application/vnd.google.colaboratory.intrinsic+json": {
              "type": "string"
            },
            "text/plain": [
              "'1.4.1'"
            ]
          },
          "metadata": {
            "tags": []
          },
          "execution_count": 2
        }
      ]
    },
    {
      "cell_type": "code",
      "metadata": {
        "id": "_sxxVbgzDF2G",
        "colab_type": "code",
        "colab": {}
      },
      "source": [
        "import tensorflow as tf\n",
        "from tensorflow.keras import callbacks\n",
        "from tensorflow.keras import optimizers\n",
        "from tensorflow.keras.datasets import cifar10\n",
        "from tensorflow.keras import Model\n",
        "from tensorflow.keras.applications import vgg16 as vgg\n",
        "from tensorflow.keras.layers import Dropout, Flatten, Dense, GlobalAveragePooling2D,BatchNormalization\n",
        "from tensorflow.keras.preprocessing.image import ImageDataGenerator\n",
        "#from tensorflow.keras.utils \n",
        "import np_utils"
      ],
      "execution_count": 3,
      "outputs": []
    },
    {
      "cell_type": "code",
      "metadata": {
        "id": "6GOv-CeYDF2Q",
        "colab_type": "code",
        "colab": {}
      },
      "source": [
        "# import tensorflow as tf\n",
        "from tensorflow.keras.utils import to_categorical"
      ],
      "execution_count": 4,
      "outputs": []
    },
    {
      "cell_type": "code",
      "metadata": {
        "id": "kAqQkfLqDF2X",
        "colab_type": "code",
        "colab": {}
      },
      "source": [
        "BATCH_SIZE = 64\n",
        "EPOCHS = 30\n",
        "NUM_CLASSES = 10\n",
        "# 1e-4 = 0.0001\n",
        "LEARNING_RATE = 1e-4\n",
        "MOMENTUM = 0.9"
      ],
      "execution_count": 5,
      "outputs": []
    },
    {
      "cell_type": "code",
      "metadata": {
        "id": "z8k0W4PYDF2k",
        "colab_type": "code",
        "colab": {}
      },
      "source": [
        "(X_train, y_train), (X_test, y_test) = cifar10.load_data()"
      ],
      "execution_count": 36,
      "outputs": []
    },
    {
      "cell_type": "code",
      "metadata": {
        "id": "LbDvk9bBDF2t",
        "colab_type": "code",
        "colab": {}
      },
      "source": [
        "X_train, X_val, y_train, y_val = train_test_split(X_train, \n",
        "                                                  y_train, \n",
        "                                                  test_size=0.15, \n",
        "                                                  stratify=np.array(y_train), \n",
        "                                                  random_state=42)"
      ],
      "execution_count": 37,
      "outputs": []
    },
    {
      "cell_type": "code",
      "metadata": {
        "id": "g5xFwyEqDF22",
        "colab_type": "code",
        "colab": {
          "base_uri": "https://localhost:8080/",
          "height": 104
        },
        "outputId": "ca4d3fdc-0dd0-457d-a5b4-712df5293268"
      },
      "source": [
        "# This is one-hot encoding\n",
        "Y_train = to_categorical(y_train, NUM_CLASSES)\n",
        "Y_val = to_categorical(y_val, NUM_CLASSES)\n",
        "Y_test = to_categorical(y_test, NUM_CLASSES)\n",
        "print(Y_train[:5])"
      ],
      "execution_count": 42,
      "outputs": [
        {
          "output_type": "stream",
          "text": [
            "[[0. 1. 0. 0. 0. 0. 0. 0. 0. 0.]\n",
            " [0. 0. 0. 0. 1. 0. 0. 0. 0. 0.]\n",
            " [0. 0. 1. 0. 0. 0. 0. 0. 0. 0.]\n",
            " [0. 0. 0. 0. 0. 0. 0. 1. 0. 0.]\n",
            " [0. 0. 0. 0. 0. 0. 0. 1. 0. 0.]]\n"
          ],
          "name": "stdout"
        }
      ]
    },
    {
      "cell_type": "code",
      "metadata": {
        "id": "yZULQBvNDF3A",
        "colab_type": "code",
        "colab": {}
      },
      "source": [
        "# min size that VGG16 takes is 48.\n",
        "import cv2\n",
        "\n",
        "\n",
        "X_train = np.array([cv2.resize(x, (48, 48)) for x in X_train])\n",
        "X_val = np.array([cv2.resize(x, (48, 48)) for x in X_val])\n",
        "X_test = np.array([cv2.resize(x, (48, 48)) for x in X_test])\n",
        "\n",
        "\n",
        "# height = 256\n",
        "# width  = 256\n",
        "# ...\n",
        "# img_array = cv2.imread((train_dir+str(img_name)+\".png\"))\n",
        "# new_array = cv2.resize(img_array,(IMG_SIZE,IMG_SIZE),3)\n",
        "# img = ...\n",
        "# img = np.array(Image.fromarray(img).resize(height, width), PIL.Image.BILINEAR).astype(np.double)\n"
      ],
      "execution_count": 9,
      "outputs": []
    },
    {
      "cell_type": "markdown",
      "metadata": {
        "id": "_6jDo5bdDF3H",
        "colab_type": "text"
      },
      "source": [
        "### Prepare the Model\n",
        "Load VGG16 without the top classification layer\n",
        "\n",
        "Prepare a custom classifier\n",
        "\n",
        "Stack both models on top of each other"
      ]
    },
    {
      "cell_type": "code",
      "metadata": {
        "id": "Jzi8E9B_DF3J",
        "colab_type": "code",
        "colab": {
          "base_uri": "https://localhost:8080/",
          "height": 52
        },
        "outputId": "5b2f4495-9d9d-4c84-b906-ac37ae3a13fc"
      },
      "source": [
        "base_model = vgg.VGG16(weights='imagenet', \n",
        "                       include_top=False, \n",
        "                       input_shape=(48, 48, 3))"
      ],
      "execution_count": 10,
      "outputs": [
        {
          "output_type": "stream",
          "text": [
            "Downloading data from https://storage.googleapis.com/tensorflow/keras-applications/vgg16/vgg16_weights_tf_dim_ordering_tf_kernels_notop.h5\n",
            "58892288/58889256 [==============================] - 1s 0us/step\n"
          ],
          "name": "stdout"
        }
      ]
    },
    {
      "cell_type": "code",
      "metadata": {
        "id": "Rd0etkAnDF3Q",
        "colab_type": "code",
        "colab": {}
      },
      "source": [
        "# Extract the last layer from third block of vgg16 model\n",
        "last = base_model.get_layer('block3_pool').output"
      ],
      "execution_count": 11,
      "outputs": []
    },
    {
      "cell_type": "code",
      "metadata": {
        "id": "Fp3WmlvkDF3W",
        "colab_type": "code",
        "colab": {}
      },
      "source": [
        "# Add classification layers on top of it\n",
        "x = GlobalAveragePooling2D()(last)\n",
        "x = BatchNormalization()(x)\n",
        "x = Dense(256, activation='relu')(x)\n",
        "x = Dense(256, activation='relu')(x)\n",
        "x = Dropout(0.6)(x)\n",
        "pred = Dense(NUM_CLASSES, activation='softmax')(x)\n",
        "model = Model(base_model.input, pred)"
      ],
      "execution_count": 12,
      "outputs": []
    },
    {
      "cell_type": "markdown",
      "metadata": {
        "id": "eEMRSSoRDF3c",
        "colab_type": "text"
      },
      "source": [
        "Since our objective is to only train the custom classifier, we freeze the layers of VGG16\n",
        "\n",
        "**Why do we freeze the layers ?**\n",
        "\n",
        "Layer freezing means layer weights of a trained model are not changed when they are reused in a subsequent downstream task - they remain frozen. Essentially when backprop is done during training these layers weights are untouched.\n",
        "\n",
        "link: https://www.quora.com/What-is-layer-freezing-in-transfer-learning"
      ]
    },
    {
      "cell_type": "code",
      "metadata": {
        "id": "H7kTIcfPDF3e",
        "colab_type": "code",
        "colab": {}
      },
      "source": [
        "for layer in base_model.layers:\n",
        "     layer.trainable = False"
      ],
      "execution_count": 13,
      "outputs": []
    },
    {
      "cell_type": "code",
      "metadata": {
        "id": "F7GFR2fDDF3i",
        "colab_type": "code",
        "colab": {}
      },
      "source": [
        "model.compile(loss='categorical_crossentropy',\n",
        "              optimizer=optimizers.Adam(lr=LEARNING_RATE),\n",
        "              metrics=['accuracy'])"
      ],
      "execution_count": 14,
      "outputs": []
    },
    {
      "cell_type": "code",
      "metadata": {
        "id": "fuLLZ_V0DF3l",
        "colab_type": "code",
        "colab": {
          "base_uri": "https://localhost:8080/",
          "height": 745
        },
        "outputId": "8b59a3d0-0312-4b11-b165-4cb18e5f9467"
      },
      "source": [
        "model.summary()"
      ],
      "execution_count": 15,
      "outputs": [
        {
          "output_type": "stream",
          "text": [
            "Model: \"model\"\n",
            "_________________________________________________________________\n",
            "Layer (type)                 Output Shape              Param #   \n",
            "=================================================================\n",
            "input_1 (InputLayer)         [(None, 48, 48, 3)]       0         \n",
            "_________________________________________________________________\n",
            "block1_conv1 (Conv2D)        (None, 48, 48, 64)        1792      \n",
            "_________________________________________________________________\n",
            "block1_conv2 (Conv2D)        (None, 48, 48, 64)        36928     \n",
            "_________________________________________________________________\n",
            "block1_pool (MaxPooling2D)   (None, 24, 24, 64)        0         \n",
            "_________________________________________________________________\n",
            "block2_conv1 (Conv2D)        (None, 24, 24, 128)       73856     \n",
            "_________________________________________________________________\n",
            "block2_conv2 (Conv2D)        (None, 24, 24, 128)       147584    \n",
            "_________________________________________________________________\n",
            "block2_pool (MaxPooling2D)   (None, 12, 12, 128)       0         \n",
            "_________________________________________________________________\n",
            "block3_conv1 (Conv2D)        (None, 12, 12, 256)       295168    \n",
            "_________________________________________________________________\n",
            "block3_conv2 (Conv2D)        (None, 12, 12, 256)       590080    \n",
            "_________________________________________________________________\n",
            "block3_conv3 (Conv2D)        (None, 12, 12, 256)       590080    \n",
            "_________________________________________________________________\n",
            "block3_pool (MaxPooling2D)   (None, 6, 6, 256)         0         \n",
            "_________________________________________________________________\n",
            "global_average_pooling2d (Gl (None, 256)               0         \n",
            "_________________________________________________________________\n",
            "batch_normalization (BatchNo (None, 256)               1024      \n",
            "_________________________________________________________________\n",
            "dense (Dense)                (None, 256)               65792     \n",
            "_________________________________________________________________\n",
            "dense_1 (Dense)              (None, 256)               65792     \n",
            "_________________________________________________________________\n",
            "dropout (Dropout)            (None, 256)               0         \n",
            "_________________________________________________________________\n",
            "dense_2 (Dense)              (None, 10)                2570      \n",
            "=================================================================\n",
            "Total params: 1,870,666\n",
            "Trainable params: 134,666\n",
            "Non-trainable params: 1,736,000\n",
            "_________________________________________________________________\n"
          ],
          "name": "stdout"
        }
      ]
    },
    {
      "cell_type": "markdown",
      "metadata": {
        "id": "_f7HauwbDF3n",
        "colab_type": "text"
      },
      "source": [
        "### **Data Augmentation**"
      ]
    },
    {
      "cell_type": "code",
      "metadata": {
        "id": "ueBhNKvaDF3o",
        "colab_type": "code",
        "colab": {}
      },
      "source": [
        "train_datagen = ImageDataGenerator(\n",
        "    rescale=1. / 255,\n",
        "    horizontal_flip=False)"
      ],
      "execution_count": 16,
      "outputs": []
    },
    {
      "cell_type": "code",
      "metadata": {
        "id": "KaE-0yFUDF3q",
        "colab_type": "code",
        "colab": {}
      },
      "source": [
        "train_datagen.fit(X_train)\n",
        "train_generator = train_datagen.flow(X_train,\n",
        "                                     Y_train, \n",
        "                                     batch_size=BATCH_SIZE)"
      ],
      "execution_count": 17,
      "outputs": []
    },
    {
      "cell_type": "code",
      "metadata": {
        "id": "ImrJ07yzDF3t",
        "colab_type": "code",
        "colab": {}
      },
      "source": [
        "val_datagen = ImageDataGenerator(rescale=1. / 255,\n",
        "    horizontal_flip=False)\n",
        "\n",
        "val_datagen.fit(X_val)\n",
        "val_generator = val_datagen.flow(X_val,\n",
        "                                 Y_val,\n",
        "                                 batch_size=BATCH_SIZE)"
      ],
      "execution_count": 18,
      "outputs": []
    },
    {
      "cell_type": "markdown",
      "metadata": {
        "id": "dcBsHfS1DF3v",
        "colab_type": "text"
      },
      "source": [
        "**Train the Model**"
      ]
    },
    {
      "cell_type": "code",
      "metadata": {
        "id": "h0zTVb_NDF3v",
        "colab_type": "code",
        "colab": {
          "base_uri": "https://localhost:8080/",
          "height": 1000
        },
        "outputId": "1e34a8ea-d974-45eb-e17b-198597998986"
      },
      "source": [
        "train_steps_per_epoch = X_train.shape[0] // BATCH_SIZE\n",
        "val_steps_per_epoch = X_val.shape[0] // BATCH_SIZE\n",
        "\n",
        "history = model.fit_generator(train_generator,\n",
        "                              steps_per_epoch=train_steps_per_epoch,\n",
        "                              validation_data=val_generator,\n",
        "                              validation_steps=val_steps_per_epoch,\n",
        "                              epochs=EPOCHS,\n",
        "                              verbose=1)"
      ],
      "execution_count": 19,
      "outputs": [
        {
          "output_type": "stream",
          "text": [
            "WARNING:tensorflow:From <ipython-input-19-38ab0eb7bcd0>:9: Model.fit_generator (from tensorflow.python.keras.engine.training) is deprecated and will be removed in a future version.\n",
            "Instructions for updating:\n",
            "Please use Model.fit, which supports generators.\n",
            "Epoch 1/30\n",
            "664/664 [==============================] - 21s 31ms/step - loss: 1.7664 - accuracy: 0.3819 - val_loss: 1.2842 - val_accuracy: 0.5681\n",
            "Epoch 2/30\n",
            "664/664 [==============================] - 20s 31ms/step - loss: 1.3433 - accuracy: 0.5365 - val_loss: 1.0963 - val_accuracy: 0.6298\n",
            "Epoch 3/30\n",
            "664/664 [==============================] - 20s 31ms/step - loss: 1.1820 - accuracy: 0.5915 - val_loss: 1.0014 - val_accuracy: 0.6607\n",
            "Epoch 4/30\n",
            "664/664 [==============================] - 21s 31ms/step - loss: 1.0979 - accuracy: 0.6202 - val_loss: 0.9436 - val_accuracy: 0.6765\n",
            "Epoch 5/30\n",
            "664/664 [==============================] - 21s 31ms/step - loss: 1.0303 - accuracy: 0.6437 - val_loss: 0.9016 - val_accuracy: 0.6896\n",
            "Epoch 6/30\n",
            "664/664 [==============================] - 20s 31ms/step - loss: 0.9821 - accuracy: 0.6619 - val_loss: 0.8688 - val_accuracy: 0.6976\n",
            "Epoch 7/30\n",
            "664/664 [==============================] - 21s 31ms/step - loss: 0.9492 - accuracy: 0.6727 - val_loss: 0.8472 - val_accuracy: 0.7058\n",
            "Epoch 8/30\n",
            "664/664 [==============================] - 21s 31ms/step - loss: 0.9188 - accuracy: 0.6817 - val_loss: 0.8239 - val_accuracy: 0.7119\n",
            "Epoch 9/30\n",
            "664/664 [==============================] - 21s 31ms/step - loss: 0.8944 - accuracy: 0.6916 - val_loss: 0.8081 - val_accuracy: 0.7177\n",
            "Epoch 10/30\n",
            "664/664 [==============================] - 20s 31ms/step - loss: 0.8603 - accuracy: 0.7034 - val_loss: 0.7923 - val_accuracy: 0.7181\n",
            "Epoch 11/30\n",
            "664/664 [==============================] - 20s 31ms/step - loss: 0.8472 - accuracy: 0.7075 - val_loss: 0.7814 - val_accuracy: 0.7260\n",
            "Epoch 12/30\n",
            "664/664 [==============================] - 20s 31ms/step - loss: 0.8262 - accuracy: 0.7162 - val_loss: 0.7737 - val_accuracy: 0.7253\n",
            "Epoch 13/30\n",
            "664/664 [==============================] - 21s 31ms/step - loss: 0.8131 - accuracy: 0.7191 - val_loss: 0.7644 - val_accuracy: 0.7337\n",
            "Epoch 14/30\n",
            "664/664 [==============================] - 20s 31ms/step - loss: 0.8070 - accuracy: 0.7241 - val_loss: 0.7560 - val_accuracy: 0.7337\n",
            "Epoch 15/30\n",
            "664/664 [==============================] - 21s 31ms/step - loss: 0.7830 - accuracy: 0.7302 - val_loss: 0.7512 - val_accuracy: 0.7332\n",
            "Epoch 16/30\n",
            "664/664 [==============================] - 21s 31ms/step - loss: 0.7732 - accuracy: 0.7349 - val_loss: 0.7462 - val_accuracy: 0.7362\n",
            "Epoch 17/30\n",
            "664/664 [==============================] - 21s 32ms/step - loss: 0.7597 - accuracy: 0.7375 - val_loss: 0.7398 - val_accuracy: 0.7341\n",
            "Epoch 18/30\n",
            "664/664 [==============================] - 21s 31ms/step - loss: 0.7476 - accuracy: 0.7421 - val_loss: 0.7312 - val_accuracy: 0.7389\n",
            "Epoch 19/30\n",
            "664/664 [==============================] - 21s 31ms/step - loss: 0.7357 - accuracy: 0.7472 - val_loss: 0.7257 - val_accuracy: 0.7399\n",
            "Epoch 20/30\n",
            "664/664 [==============================] - 20s 31ms/step - loss: 0.7263 - accuracy: 0.7487 - val_loss: 0.7235 - val_accuracy: 0.7440\n",
            "Epoch 21/30\n",
            "664/664 [==============================] - 21s 31ms/step - loss: 0.7209 - accuracy: 0.7509 - val_loss: 0.7176 - val_accuracy: 0.7460\n",
            "Epoch 22/30\n",
            "664/664 [==============================] - 20s 31ms/step - loss: 0.7091 - accuracy: 0.7543 - val_loss: 0.7135 - val_accuracy: 0.7439\n",
            "Epoch 23/30\n",
            "664/664 [==============================] - 21s 31ms/step - loss: 0.6995 - accuracy: 0.7587 - val_loss: 0.7143 - val_accuracy: 0.7488\n",
            "Epoch 24/30\n",
            "664/664 [==============================] - 21s 31ms/step - loss: 0.6911 - accuracy: 0.7597 - val_loss: 0.7085 - val_accuracy: 0.7484\n",
            "Epoch 25/30\n",
            "664/664 [==============================] - 20s 31ms/step - loss: 0.6855 - accuracy: 0.7614 - val_loss: 0.7073 - val_accuracy: 0.7519\n",
            "Epoch 26/30\n",
            "664/664 [==============================] - 21s 31ms/step - loss: 0.6699 - accuracy: 0.7681 - val_loss: 0.7032 - val_accuracy: 0.7487\n",
            "Epoch 27/30\n",
            "664/664 [==============================] - 21s 31ms/step - loss: 0.6647 - accuracy: 0.7697 - val_loss: 0.7014 - val_accuracy: 0.7532\n",
            "Epoch 28/30\n",
            "664/664 [==============================] - 21s 31ms/step - loss: 0.6605 - accuracy: 0.7710 - val_loss: 0.6976 - val_accuracy: 0.7535\n",
            "Epoch 29/30\n",
            "664/664 [==============================] - 21s 31ms/step - loss: 0.6542 - accuracy: 0.7742 - val_loss: 0.6984 - val_accuracy: 0.7536\n",
            "Epoch 30/30\n",
            "664/664 [==============================] - 21s 31ms/step - loss: 0.6453 - accuracy: 0.7767 - val_loss: 0.6962 - val_accuracy: 0.7541\n"
          ],
          "name": "stdout"
        }
      ]
    },
    {
      "cell_type": "markdown",
      "metadata": {
        "id": "lz4StTErFXSO",
        "colab_type": "text"
      },
      "source": [
        "Analyze Model Performance\n",
        "\n"
      ]
    },
    {
      "cell_type": "code",
      "metadata": {
        "id": "TOyl81faDF3y",
        "colab_type": "code",
        "colab": {
          "base_uri": "https://localhost:8080/",
          "height": 504
        },
        "outputId": "4ceac677-93c8-411c-ed7d-c406ae325dbc"
      },
      "source": [
        "acc = history.history['accuracy']\n",
        "val_acc = history.history['val_accuracy']\n",
        "\n",
        "loss = history.history['loss']\n",
        "val_loss = history.history['val_loss']\n",
        "\n",
        "epochs_range = range(30)\n",
        "\n",
        "plt.figure(figsize=(8, 8))\n",
        "plt.subplot(1, 2, 1)\n",
        "plt.plot(epochs_range, acc, label='Training Accuracy')\n",
        "plt.plot(epochs_range, val_acc, label='Validation Accuracy')\n",
        "plt.legend(loc='lower right')\n",
        "plt.title('Training and Validation Accuracy')\n",
        "\n",
        "plt.subplot(1, 2, 2)\n",
        "plt.plot(epochs_range, loss, label='Training Loss')\n",
        "plt.plot(epochs_range, val_loss, label='Validation Loss')\n",
        "plt.legend(loc='upper right')\n",
        "plt.title('Training and Validation Loss')\n",
        "plt.show()"
      ],
      "execution_count": 22,
      "outputs": [
        {
          "output_type": "display_data",
          "data": {
            "image/png": "[encoded data removed]",
            "text/plain": [
              "<Figure size 576x576 with 2 Axes>"
            ]
          },
          "metadata": {
            "tags": [],
            "needs_background": "light"
          }
        }
      ]
    },
    {
      "cell_type": "code",
      "metadata": {
        "id": "k8rHmycYDF4A",
        "colab_type": "code",
        "colab": {}
      },
      "source": [
        "predictions = model.predict(X_test/255.)"
      ],
      "execution_count": 33,
      "outputs": []
    },
    {
      "cell_type": "code",
      "metadata": {
        "id": "AwTcgdjiDF4E",
        "colab_type": "code",
        "colab": {}
      },
      "source": [
        "test_labels = list(y_test.squeeze())\n",
        "predictions = list(predictions.argmax(axis=1))"
      ],
      "execution_count": 43,
      "outputs": []
    },
    {
      "cell_type": "code",
      "metadata": {
        "id": "Agtcbgv3DF4Q",
        "colab_type": "code",
        "colab": {
          "base_uri": "https://localhost:8080/",
          "height": 35
        },
        "outputId": "55eddd98-3a0c-468a-8119-5d2d035ff006"
      },
      "source": [
        "catagories = {'dog': 0,'automobile': 1,'bird': 2,'cat': 3,'deer': 4,'airplane': 5,'frog': 6,'horse': 7,'ship': 8,'truck': 9}\n",
        "reverse_catagory = {n:i for i,n in catagories.items()}\n",
        "print(reverse_catagory)"
      ],
      "execution_count": 44,
      "outputs": [
        {
          "output_type": "stream",
          "text": [
            "{0: 'dog', 1: 'automobile', 2: 'bird', 3: 'cat', 4: 'deer', 5: 'airplane', 6: 'frog', 7: 'horse', 8: 'ship', 9: 'truck'}\n"
          ],
          "name": "stdout"
        }
      ]
    },
    {
      "cell_type": "code",
      "metadata": {
        "id": "AzPUhu-sRVed",
        "colab_type": "code",
        "colab": {
          "base_uri": "https://localhost:8080/",
          "height": 35
        },
        "outputId": "5a6db7f8-4382-46f1-b8bc-81f2a0d23a82"
      },
      "source": [
        "test_dataset = [reverse_catagory[name] for name in test_labels]\n",
        "print(test_dataset[:5])"
      ],
      "execution_count": 45,
      "outputs": [
        {
          "output_type": "stream",
          "text": [
            "['cat', 'ship', 'ship', 'dog', 'frog']\n"
          ],
          "name": "stdout"
        }
      ]
    },
    {
      "cell_type": "code",
      "metadata": {
        "id": "6HautPmqRozc",
        "colab_type": "code",
        "colab": {
          "base_uri": "https://localhost:8080/",
          "height": 35
        },
        "outputId": "5c96e920-d56e-4ad2-d966-867646a76d75"
      },
      "source": [
        "prediction_dataset = [reverse_catagory[name] for name in predictions]\n",
        "print(prediction_dataset[:5])"
      ],
      "execution_count": 46,
      "outputs": [
        {
          "output_type": "stream",
          "text": [
            "['cat', 'ship', 'ship', 'dog', 'frog']\n"
          ],
          "name": "stdout"
        }
      ]
    },
    {
      "cell_type": "code",
      "metadata": {
        "id": "jvFSvoKBRwfR",
        "colab_type": "code",
        "colab": {
          "base_uri": "https://localhost:8080/",
          "height": 202
        },
        "outputId": "1d0823c6-9985-4dee-a258-5cea2c994415"
      },
      "source": [
        "final_dataset = pd.DataFrame({\"Actual\":test_dataset,\"Prediction\":prediction_dataset})\n",
        "final_dataset.head()"
      ],
      "execution_count": 47,
      "outputs": [
        {
          "output_type": "execute_result",
          "data": {
            "text/html": [
              "<div>\n",
              "<style scoped>\n",
              "    .dataframe tbody tr th:only-of-type {\n",
              "        vertical-align: middle;\n",
              "    }\n",
              "\n",
              "    .dataframe tbody tr th {\n",
              "        vertical-align: top;\n",
              "    }\n",
              "\n",
              "    .dataframe thead th {\n",
              "        text-align: right;\n",
              "    }\n",
              "</style>\n",
              "<table border=\"1\" class=\"dataframe\">\n",
              "  <thead>\n",
              "    <tr style=\"text-align: right;\">\n",
              "      <th></th>\n",
              "      <th>Actual</th>\n",
              "      <th>Prediction</th>\n",
              "    </tr>\n",
              "  </thead>\n",
              "  <tbody>\n",
              "    <tr>\n",
              "      <th>0</th>\n",
              "      <td>cat</td>\n",
              "      <td>cat</td>\n",
              "    </tr>\n",
              "    <tr>\n",
              "      <th>1</th>\n",
              "      <td>ship</td>\n",
              "      <td>ship</td>\n",
              "    </tr>\n",
              "    <tr>\n",
              "      <th>2</th>\n",
              "      <td>ship</td>\n",
              "      <td>ship</td>\n",
              "    </tr>\n",
              "    <tr>\n",
              "      <th>3</th>\n",
              "      <td>dog</td>\n",
              "      <td>dog</td>\n",
              "    </tr>\n",
              "    <tr>\n",
              "      <th>4</th>\n",
              "      <td>frog</td>\n",
              "      <td>frog</td>\n",
              "    </tr>\n",
              "  </tbody>\n",
              "</table>\n",
              "</div>"
            ],
            "text/plain": [
              "  Actual Prediction\n",
              "0    cat        cat\n",
              "1   ship       ship\n",
              "2   ship       ship\n",
              "3    dog        dog\n",
              "4   frog       frog"
            ]
          },
          "metadata": {
            "tags": []
          },
          "execution_count": 47
        }
      ]
    },
    {
      "cell_type": "code",
      "metadata": {
        "id": "TC8mJsqiSLTh",
        "colab_type": "code",
        "colab": {}
      },
      "source": [
        ""
      ],
      "execution_count": null,
      "outputs": []
    }
  ]
}